{
 "cells": [
  {
   "attachments": {},
   "cell_type": "markdown",
   "metadata": {},
   "source": [
    "# Speed Dating\n",
    "\n",
    "## Challenge description\n",
    "\n",
    "We will start a new data visualization and exploration project. Your goal will be to try to understand *love*! It's a very complicated subject so we've simplified it. Your goal is going to be to understand what happens during a speed dating and especially to understand what will influence the obtaining of a **second date**.\n",
    "\n",
    "This is a Kaggle competition on which you can find more details here :\n",
    "\n",
    "[Speed Dating Dataset](https://www.kaggle.com/annavictoria/speed-dating-experiment#Speed%20Dating%20Data%20Key.doc)\n",
    "\n",
    "Take some time to read the description of the challenge and try to understand each of the variables in the dataset. Help yourself with this from the document : *Speed Dating - Variable Description.md*\n",
    "\n",
    "### Rendering\n",
    "\n",
    "To be successful in this project, you will need to do a descriptive analysis of the main factors that influence getting a second appointment. \n",
    "\n",
    "Over the next few days, you'll learn how to use python libraries like seaborn, plotly and bokeh to produce data visualizations that highlight relevant facts about the dataset.\n",
    "\n",
    "For today, you can start exploring the dataset with pandas to extract some statistics."
   ]
  },
  {
   "cell_type": "code",
   "execution_count": 1,
   "metadata": {},
   "outputs": [],
   "source": [
    "import pandas as pd\n",
    "import plotly.express as px\n",
    "import matplotlib.pyplot as plt"
   ]
  },
  {
   "cell_type": "code",
   "execution_count": 143,
   "metadata": {},
   "outputs": [],
   "source": [
    "df = pd.read_csv(\"data-sd.csv\", encoding=\"ISO-8859-1\")"
   ]
  },
  {
   "cell_type": "code",
   "execution_count": 4,
   "metadata": {},
   "outputs": [
    {
     "data": {
      "text/plain": [
       "(8378, 195)"
      ]
     },
     "execution_count": 4,
     "metadata": {},
     "output_type": "execute_result"
    }
   ],
   "source": [
    "df.shape"
   ]
  },
  {
   "cell_type": "code",
   "execution_count": 5,
   "metadata": {},
   "outputs": [
    {
     "name": "stdout",
     "output_type": "stream",
     "text": [
      "Nombre de lignes : 8378\n",
      "Nombre de colonnes : 195\n"
     ]
    }
   ],
   "source": [
    "print(\"Nombre de lignes :\", df.shape[0])\n",
    "print(\"Nombre de colonnes :\", df.shape[1])"
   ]
  },
  {
   "attachments": {},
   "cell_type": "markdown",
   "metadata": {},
   "source": [
    "Au vu du nombre de colonnes, il est préférable de se baser dès le début sur le fichier .doc de description du dataset"
   ]
  },
  {
   "cell_type": "code",
   "execution_count": 6,
   "metadata": {},
   "outputs": [
    {
     "name": "stdout",
     "output_type": "stream",
     "text": [
      "551 personnes uniques ont réalisés 4189.0 dates\n"
     ]
    }
   ],
   "source": [
    "print(df[\"iid\"].nunique(), 'personnes uniques ont réalisés', df.shape[0] / 2, 'dates')\n",
    "# division par 2 car un date comprends 2 personnes "
   ]
  },
  {
   "cell_type": "code",
   "execution_count": 7,
   "metadata": {},
   "outputs": [
    {
     "name": "stdout",
     "output_type": "stream",
     "text": [
      "274 femmes\n",
      "277 hommes\n"
     ]
    }
   ],
   "source": [
    "print(df.query('gender==0')[\"iid\"].nunique(), 'femmes')\n",
    "print(df.query('gender==1')[\"iid\"].nunique(), 'hommes')"
   ]
  },
  {
   "cell_type": "code",
   "execution_count": 8,
   "metadata": {},
   "outputs": [
    {
     "name": "stdout",
     "output_type": "stream",
     "text": [
      "Répartition des matchs en %\n"
     ]
    },
    {
     "data": {
      "text/plain": [
       "0    83.528288\n",
       "1    16.471712\n",
       "Name: match, dtype: float64"
      ]
     },
     "execution_count": 8,
     "metadata": {},
     "output_type": "execute_result"
    }
   ],
   "source": [
    "print(\"Répartition des matchs en %\")\n",
    "df['match'].value_counts() / df.shape[0] * 100"
   ]
  },
  {
   "cell_type": "code",
   "execution_count": 9,
   "metadata": {},
   "outputs": [
    {
     "data": {
      "application/vnd.plotly.v1+json": {
       "config": {
        "plotlyServerURL": "https://plot.ly"
       },
       "data": [
        {
         "domain": {
          "x": [
           0,
           1
          ],
          "y": [
           0,
           1
          ]
         },
         "hovertemplate": "match=%{label}<extra></extra>",
         "labels": [
          "Match",
          "Match",
          "Pas match",
          "Pas match",
          "Pas match",
          "Match",
          "Match",
          "Match",
          "Pas match",
          "Match",
          "Match",
          "Match",
          "Match",
          "Pas match",
          "Match",
          "Match",
          "Match",
          "Match",
          "Pas match",
          "Match",
          "Match",
          "Match",
          "Match",
          "Match",
          "Match",
          "Match",
          "Match",
          "Match",
          "Match",
          "Match",
          "Match",
          "Match",
          "Match",
          "Pas match",
          "Match",
          "Match",
          "Match",
          "Match",
          "Pas match",
          "Match",
          "Match",
          "Match",
          "Match",
          "Pas match",
          "Match",
          "Match",
          "Match",
          "Match",
          "Pas match",
          "Match",
          "Match",
          "Match",
          "Match",
          "Pas match",
          "Match",
          "Match",
          "Match",
          "Match",
          "Pas match",
          "Match",
          "Match",
          "Match",
          "Match",
          "Pas match",
          "Match",
          "Match",
          "Match",
          "Match",
          "Pas match",
          "Match",
          "Match",
          "Pas match",
          "Pas match",
          "Pas match",
          "Pas match",
          "Pas match",
          "Match",
          "Pas match",
          "Pas match",
          "Pas match",
          "Match",
          "Pas match",
          "Pas match",
          "Pas match",
          "Pas match",
          "Pas match",
          "Pas match",
          "Match",
          "Pas match",
          "Match",
          "Match",
          "Match",
          "Pas match",
          "Match",
          "Match",
          "Match",
          "Match",
          "Match",
          "Pas match",
          "Match",
          "Match",
          "Match",
          "Match",
          "Match",
          "Match",
          "Match",
          "Match",
          "Match",
          "Match",
          "Match",
          "Match",
          "Match",
          "Match",
          "Match",
          "Match",
          "Match",
          "Match",
          "Pas match",
          "Pas match",
          "Match",
          "Pas match",
          "Match",
          "Match",
          "Match",
          "Match",
          "Match",
          "Match",
          "Pas match",
          "Pas match",
          "Pas match",
          "Pas match",
          "Pas match",
          "Match",
          "Pas match",
          "Pas match",
          "Pas match",
          "Pas match",
          "Pas match",
          "Pas match",
          "Match",
          "Pas match",
          "Match",
          "Match",
          "Match",
          "Match",
          "Match",
          "Match",
          "Pas match",
          "Pas match",
          "Match",
          "Match",
          "Match",
          "Match",
          "Match",
          "Match",
          "Match",
          "Match",
          "Pas match",
          "Pas match",
          "Match",
          "Match",
          "Match",
          "Match",
          "Match",
          "Match",
          "Match",
          "Match",
          "Match",
          "Pas match",
          "Match",
          "Match",
          "Match",
          "Match",
          "Match",
          "Match",
          "Match",
          "Match",
          "Pas match",
          "Match",
          "Match",
          "Pas match",
          "Pas match",
          "Match",
          "Pas match",
          "Pas match",
          "Pas match",
          "Pas match",
          "Pas match",
          "Pas match",
          "Pas match",
          "Match",
          "Match",
          "Match",
          "Match",
          "Match",
          "Match",
          "Match",
          "Pas match",
          "Match",
          "Match",
          "Match",
          "Match",
          "Match",
          "Match",
          "Match",
          "Match",
          "Match",
          "Match",
          "Match",
          "Match",
          "Match",
          "Match",
          "Match",
          "Match",
          "Match",
          "Match",
          "Match",
          "Match",
          "Match",
          "Match",
          "Pas match",
          "Pas match",
          "Match",
          "Match",
          "Match",
          "Match",
          "Match",
          "Match",
          "Match",
          "Match",
          "Match",
          "Match",
          "Match",
          "Match",
          "Match",
          "Pas match",
          "Pas match",
          "Pas match",
          "Match",
          "Match",
          "Match",
          "Match",
          "Match",
          "Match",
          "Match",
          "Match",
          "Match",
          "Match",
          "Match",
          "Match",
          "Match",
          "Match",
          "Match",
          "Match",
          "Match",
          "Match",
          "Match",
          "Match",
          "Match",
          "Match",
          "Match",
          "Match",
          "Match",
          "Match",
          "Match",
          "Match",
          "Match",
          "Match",
          "Match",
          "Match",
          "Match",
          "Match",
          "Match",
          "Match",
          "Match",
          "Match",
          "Match",
          "Match",
          "Match",
          "Match",
          "Match",
          "Match",
          "Match",
          "Match",
          "Match",
          "Match",
          "Match",
          "Match",
          "Match",
          "Match",
          "Match",
          "Match",
          "Match",
          "Match",
          "Match",
          "Match",
          "Match",
          "Match",
          "Match",
          "Match",
          "Match",
          "Match",
          "Pas match",
          "Match",
          "Match",
          "Match",
          "Pas match",
          "Match",
          "Match",
          "Match",
          "Match",
          "Match",
          "Match",
          "Match",
          "Match",
          "Match",
          "Match",
          "Match",
          "Pas match",
          "Match",
          "Match",
          "Match",
          "Match",
          "Match",
          "Match",
          "Match",
          "Match",
          "Match",
          "Match",
          "Match",
          "Match",
          "Match",
          "Pas match",
          "Pas match",
          "Match",
          "Match",
          "Match",
          "Match",
          "Match",
          "Match",
          "Match",
          "Match",
          "Match",
          "Match",
          "Match",
          "Match",
          "Match",
          "Match",
          "Match",
          "Match",
          "Match",
          "Match",
          "Match",
          "Pas match",
          "Match",
          "Match",
          "Match",
          "Match",
          "Match",
          "Pas match",
          "Match",
          "Match",
          "Match",
          "Match",
          "Match",
          "Match",
          "Match",
          "Match",
          "Pas match",
          "Pas match",
          "Pas match",
          "Match",
          "Match",
          "Match",
          "Match",
          "Pas match",
          "Match",
          "Match",
          "Match",
          "Match",
          "Match",
          "Match",
          "Match",
          "Match",
          "Match",
          "Match",
          "Match",
          "Match",
          "Match",
          "Match",
          "Match",
          "Match",
          "Match",
          "Match",
          "Match",
          "Match",
          "Match",
          "Match",
          "Match",
          "Match",
          "Match",
          "Match",
          "Match",
          "Match",
          "Match",
          "Match",
          "Match",
          "Match",
          "Match",
          "Match",
          "Match",
          "Match",
          "Match",
          "Match",
          "Pas match",
          "Match",
          "Match",
          "Pas match",
          "Match",
          "Match",
          "Match",
          "Match",
          "Match",
          "Match",
          "Match",
          "Match",
          "Match",
          "Match",
          "Match",
          "Pas match",
          "Pas match",
          "Match",
          "Match",
          "Pas match",
          "Pas match",
          "Match",
          "Match",
          "Pas match",
          "Match",
          "Match",
          "Match",
          "Match",
          "Match",
          "Match",
          "Match",
          "Match",
          "Match",
          "Match",
          "Match",
          "Pas match",
          "Match",
          "Pas match",
          "Match",
          "Match",
          "Match",
          "Match",
          "Match",
          "Match",
          "Match",
          "Match",
          "Pas match",
          "Match",
          "Match",
          "Match",
          "Match",
          "Match",
          "Match",
          "Match",
          "Pas match",
          "Match",
          "Match",
          "Match",
          "Match",
          "Match",
          "Match",
          "Match",
          "Match",
          "Match",
          "Match",
          "Match",
          "Match",
          "Pas match",
          "Pas match",
          "Match",
          "Match",
          "Match",
          "Match",
          "Pas match",
          "Match",
          "Match",
          "Match",
          "Match",
          "Match",
          "Match",
          "Match",
          "Pas match",
          "Match",
          "Match",
          "Match",
          "Match",
          "Match",
          "Match",
          "Match",
          "Match",
          "Match",
          "Match",
          "Match",
          "Match",
          "Match",
          "Match",
          "Match",
          "Match",
          "Match",
          "Match",
          "Match",
          "Match",
          "Match",
          "Match",
          "Match",
          "Match",
          "Match",
          "Match",
          "Match",
          "Match",
          "Match",
          "Match",
          "Match",
          "Match",
          "Match",
          "Match",
          "Match",
          "Match",
          "Match",
          "Match",
          "Match",
          "Match",
          "Match",
          "Match",
          "Match",
          "Match",
          "Match",
          "Match",
          "Match",
          "Match",
          "Match",
          "Match",
          "Match",
          "Match",
          "Match",
          "Match",
          "Match",
          "Match",
          "Match",
          "Match",
          "Match",
          "Match",
          "Match",
          "Match",
          "Match",
          "Match",
          "Match",
          "Match",
          "Match",
          "Pas match",
          "Match",
          "Match",
          "Match",
          "Match",
          "Match",
          "Match",
          "Match",
          "Match",
          "Match",
          "Match",
          "Match",
          "Match",
          "Match",
          "Match",
          "Match",
          "Match",
          "Match",
          "Pas match",
          "Pas match",
          "Match",
          "Match",
          "Match",
          "Match",
          "Match",
          "Pas match",
          "Match",
          "Match",
          "Match",
          "Match",
          "Match",
          "Match",
          "Match",
          "Pas match",
          "Match",
          "Match",
          "Match",
          "Pas match",
          "Pas match",
          "Match",
          "Match",
          "Match",
          "Match",
          "Match",
          "Pas match",
          "Match",
          "Match",
          "Match",
          "Match",
          "Match",
          "Pas match",
          "Match",
          "Match",
          "Match",
          "Match",
          "Match",
          "Match",
          "Match",
          "Match",
          "Match",
          "Match",
          "Pas match",
          "Pas match",
          "Match",
          "Match",
          "Match",
          "Match",
          "Match",
          "Pas match",
          "Pas match",
          "Match",
          "Match",
          "Match",
          "Match",
          "Match",
          "Match",
          "Match",
          "Match",
          "Match",
          "Match",
          "Match",
          "Match",
          "Match",
          "Match",
          "Match",
          "Match",
          "Match",
          "Match",
          "Match",
          "Match",
          "Match",
          "Match",
          "Pas match",
          "Match",
          "Match",
          "Match",
          "Match",
          "Match",
          "Match",
          "Match",
          "Match",
          "Match",
          "Match",
          "Pas match",
          "Match",
          "Match",
          "Match",
          "Match",
          "Match",
          "Match",
          "Match",
          "Match",
          "Match",
          "Match",
          "Match",
          "Match",
          "Match",
          "Match",
          "Match",
          "Match",
          "Match",
          "Pas match",
          "Pas match",
          "Match",
          "Match",
          "Pas match",
          "Pas match",
          "Pas match",
          "Match",
          "Pas match",
          "Match",
          "Match",
          "Match",
          "Match",
          "Match",
          "Match",
          "Match",
          "Pas match",
          "Match",
          "Match",
          "Match",
          "Pas match",
          "Match",
          "Match",
          "Match",
          "Pas match",
          "Match",
          "Match",
          "Pas match",
          "Match",
          "Match",
          "Match",
          "Match",
          "Match",
          "Match",
          "Match",
          "Match",
          "Match",
          "Match",
          "Match",
          "Match",
          "Match",
          "Match",
          "Match",
          "Match",
          "Pas match",
          "Match",
          "Match",
          "Match",
          "Match",
          "Match",
          "Match",
          "Match",
          "Match",
          "Match",
          "Match",
          "Match",
          "Match",
          "Match",
          "Match",
          "Match",
          "Match",
          "Match",
          "Match",
          "Match",
          "Pas match",
          "Match",
          "Match",
          "Match",
          "Match",
          "Match",
          "Match",
          "Match",
          "Match",
          "Match",
          "Match",
          "Match",
          "Match",
          "Match",
          "Match",
          "Match",
          "Match",
          "Pas match",
          "Match",
          "Match",
          "Match",
          "Match",
          "Match",
          "Match",
          "Match",
          "Match",
          "Match",
          "Match",
          "Match",
          "Match",
          "Match",
          "Match",
          "Match",
          "Match",
          "Match",
          "Match",
          "Match",
          "Match",
          "Match",
          "Match",
          "Match",
          "Match",
          "Match",
          "Match",
          "Match",
          "Match",
          "Match",
          "Match",
          "Match",
          "Match",
          "Pas match",
          "Pas match",
          "Match",
          "Match",
          "Match",
          "Match",
          "Match",
          "Match",
          "Pas match",
          "Match",
          "Match",
          "Match",
          "Match",
          "Pas match",
          "Pas match",
          "Match",
          "Match",
          "Match",
          "Match",
          "Match",
          "Match",
          "Match",
          "Match",
          "Match",
          "Match",
          "Pas match",
          "Match",
          "Match",
          "Match",
          "Match",
          "Match",
          "Match",
          "Match",
          "Match",
          "Match",
          "Pas match",
          "Match",
          "Match",
          "Pas match",
          "Match",
          "Match",
          "Match",
          "Match",
          "Match",
          "Match",
          "Match",
          "Match",
          "Match",
          "Match",
          "Match",
          "Pas match",
          "Match",
          "Match",
          "Match",
          "Match",
          "Match",
          "Match",
          "Match",
          "Match",
          "Match",
          "Match",
          "Match",
          "Match",
          "Match",
          "Match",
          "Pas match",
          "Match",
          "Match",
          "Match",
          "Pas match",
          "Match",
          "Pas match",
          "Match",
          "Pas match",
          "Match",
          "Match",
          "Match",
          "Match",
          "Pas match",
          "Match",
          "Match",
          "Pas match",
          "Match",
          "Match",
          "Match",
          "Match",
          "Match",
          "Match",
          "Match",
          "Match",
          "Match",
          "Match",
          "Match",
          "Match",
          "Match",
          "Match",
          "Match",
          "Match",
          "Match",
          "Pas match",
          "Match",
          "Match",
          "Match",
          "Match",
          "Match",
          "Match",
          "Match",
          "Match",
          "Match",
          "Match",
          "Match",
          "Match",
          "Match",
          "Match",
          "Pas match",
          "Match",
          "Match",
          "Match",
          "Match",
          "Match",
          "Match",
          "Match",
          "Match",
          "Match",
          "Match",
          "Match",
          "Pas match",
          "Pas match",
          "Match",
          "Match",
          "Match",
          "Match",
          "Match",
          "Match",
          "Match",
          "Match",
          "Match",
          "Match",
          "Match",
          "Match",
          "Pas match",
          "Match",
          "Match",
          "Match",
          "Match",
          "Match",
          "Pas match",
          "Match",
          "Match",
          "Match",
          "Pas match",
          "Match",
          "Match",
          "Match",
          "Match",
          "Match",
          "Match",
          "Match",
          "Match",
          "Match",
          "Match",
          "Pas match",
          "Pas match",
          "Match",
          "Match",
          "Pas match",
          "Match",
          "Match",
          "Match",
          "Match",
          "Match",
          "Match",
          "Match",
          "Match",
          "Match",
          "Match",
          "Match",
          "Match",
          "Match",
          "Match",
          "Match",
          "Match",
          "Match",
          "Match",
          "Match",
          "Match",
          "Match",
          "Match",
          "Match",
          "Match",
          "Match",
          "Match",
          "Pas match",
          "Match",
          "Match",
          "Match",
          "Pas match",
          "Match",
          "Match",
          "Match",
          "Match",
          "Match",
          "Match",
          "Match",
          "Match",
          "Pas match",
          "Match",
          "Match",
          "Pas match",
          "Match",
          "Pas match",
          "Match",
          "Match",
          "Match",
          "Match",
          "Match",
          "Match",
          "Match",
          "Match",
          "Match",
          "Match",
          "Pas match",
          "Match",
          "Pas match",
          "Match",
          "Pas match",
          "Pas match",
          "Match",
          "Pas match",
          "Match",
          "Match",
          "Pas match",
          "Pas match",
          "Pas match",
          "Match",
          "Match",
          "Match",
          "Match",
          "Match",
          "Pas match",
          "Match",
          "Pas match",
          "Match",
          "Match",
          "Match",
          "Match",
          "Match",
          "Match",
          "Match",
          "Match",
          "Match",
          "Match",
          "Match",
          "Match",
          "Match",
          "Match",
          "Match",
          "Match",
          "Pas match",
          "Pas match",
          "Match",
          "Pas match",
          "Match",
          "Match",
          "Match",
          "Match",
          "Match",
          "Match",
          "Match",
          "Match",
          "Match",
          "Match",
          "Match",
          "Match",
          "Pas match",
          "Match",
          "Match",
          "Pas match",
          "Pas match",
          "Match",
          "Match",
          "Match",
          "Match",
          "Match",
          "Match",
          "Match",
          "Match",
          "Match",
          "Match",
          "Match",
          "Pas match",
          "Match",
          "Match",
          "Pas match",
          "Match",
          "Match",
          "Match",
          "Pas match",
          "Match",
          "Match",
          "Match",
          "Match",
          "Match",
          "Match",
          "Match",
          "Pas match",
          "Match",
          "Match",
          "Match",
          "Match",
          "Pas match",
          "Match",
          "Match",
          "Match",
          "Pas match",
          "Match",
          "Match",
          "Match",
          "Pas match",
          "Match",
          "Match",
          "Match",
          "Match",
          "Pas match",
          "Match",
          "Match",
          "Match",
          "Match",
          "Match",
          "Pas match",
          "Match",
          "Pas match",
          "Match",
          "Pas match",
          "Match",
          "Match",
          "Match",
          "Match",
          "Match",
          "Match",
          "Match",
          "Pas match",
          "Match",
          "Match",
          "Match",
          "Match",
          "Match",
          "Match",
          "Match",
          "Pas match",
          "Match",
          "Match",
          "Match",
          "Match",
          "Match",
          "Match",
          "Match",
          "Match",
          "Match",
          "Match",
          "Match",
          "Match",
          "Match",
          "Match",
          "Match",
          "Pas match",
          "Match",
          "Match",
          "Pas match",
          "Match",
          "Match",
          "Match",
          "Match",
          "Match",
          "Match",
          "Match",
          "Match",
          "Match",
          "Match",
          "Match",
          "Match",
          "Match",
          "Match",
          "Match",
          "Match",
          "Pas match",
          "Match",
          "Match",
          "Match",
          "Match",
          "Match",
          "Match",
          "Match",
          "Pas match",
          "Match",
          "Match",
          "Pas match",
          "Match",
          "Match",
          "Match",
          "Pas match",
          "Pas match",
          "Match",
          "Pas match",
          "Pas match",
          "Pas match",
          "Pas match",
          "Match",
          "Match",
          "Match",
          "Match",
          "Match",
          "Match",
          "Pas match",
          "Match",
          "Match",
          "Match",
          "Match",
          "Match",
          "Match",
          "Match",
          "Pas match",
          "Match",
          "Match",
          "Match",
          "Match",
          "Match",
          "Match",
          "Match",
          "Match",
          "Match",
          "Match",
          "Match",
          "Match",
          "Match",
          "Match",
          "Match",
          "Match",
          "Match",
          "Match",
          "Match",
          "Match",
          "Match",
          "Match",
          "Match",
          "Match",
          "Match",
          "Match",
          "Match",
          "Pas match",
          "Match",
          "Match",
          "Match",
          "Match",
          "Pas match",
          "Match",
          "Match",
          "Match",
          "Match",
          "Match",
          "Match",
          "Match",
          "Match",
          "Match",
          "Match",
          "Match",
          "Match",
          "Match",
          "Match",
          "Match",
          "Match",
          "Match",
          "Match",
          "Match",
          "Match",
          "Match",
          "Match",
          "Pas match",
          "Match",
          "Match",
          "Match",
          "Match",
          "Match",
          "Pas match",
          "Match",
          "Pas match",
          "Match",
          "Match",
          "Match",
          "Pas match",
          "Match",
          "Pas match",
          "Pas match",
          "Pas match",
          "Match",
          "Pas match",
          "Pas match",
          "Match",
          "Match",
          "Match",
          "Match",
          "Pas match",
          "Pas match",
          "Pas match",
          "Match",
          "Match",
          "Match",
          "Match",
          "Match",
          "Pas match",
          "Match",
          "Pas match",
          "Match",
          "Pas match",
          "Pas match",
          "Match",
          "Match",
          "Pas match",
          "Match",
          "Pas match",
          "Match",
          "Match",
          "Pas match",
          "Match",
          "Match",
          "Match",
          "Pas match",
          "Match",
          "Match",
          "Match",
          "Match",
          "Match",
          "Match",
          "Match",
          "Pas match",
          "Pas match",
          "Match",
          "Match",
          "Match",
          "Match",
          "Pas match",
          "Match",
          "Match",
          "Match",
          "Match",
          "Match",
          "Match",
          "Match",
          "Match",
          "Match",
          "Match",
          "Match",
          "Match",
          "Match",
          "Match",
          "Match",
          "Match",
          "Match",
          "Match",
          "Match",
          "Match",
          "Match",
          "Match",
          "Match",
          "Match",
          "Match",
          "Match",
          "Match",
          "Match",
          "Pas match",
          "Match",
          "Match",
          "Match",
          "Match",
          "Match",
          "Match",
          "Match",
          "Match",
          "Match",
          "Match",
          "Match",
          "Match",
          "Match",
          "Match",
          "Match",
          "Match",
          "Match",
          "Match",
          "Match",
          "Pas match",
          "Match",
          "Match",
          "Match",
          "Match",
          "Match",
          "Match",
          "Match",
          "Match",
          "Pas match",
          "Match",
          "Match",
          "Match",
          "Match",
          "Pas match",
          "Pas match",
          "Pas match",
          "Match",
          "Pas match",
          "Match",
          "Match",
          "Match",
          "Match",
          "Match",
          "Match",
          "Match",
          "Match",
          "Match",
          "Match",
          "Match",
          "Match",
          "Match",
          "Match",
          "Pas match",
          "Match",
          "Match",
          "Pas match",
          "Match",
          "Match",
          "Match",
          "Pas match",
          "Pas match",
          "Pas match",
          "Match",
          "Match",
          "Match",
          "Pas match",
          "Match",
          "Pas match",
          "Match",
          "Pas match",
          "Pas match",
          "Match",
          "Match",
          "Match",
          "Match",
          "Match",
          "Match",
          "Match",
          "Match",
          "Match",
          "Match",
          "Match",
          "Pas match",
          "Match",
          "Match",
          "Match",
          "Match",
          "Match",
          "Match",
          "Pas match",
          "Match",
          "Match",
          "Match",
          "Match",
          "Match",
          "Match",
          "Match",
          "Match",
          "Match",
          "Match",
          "Match",
          "Match",
          "Match",
          "Match",
          "Match",
          "Match",
          "Match",
          "Match",
          "Match",
          "Match",
          "Match",
          "Match",
          "Pas match",
          "Match",
          "Match",
          "Match",
          "Match",
          "Match",
          "Match",
          "Match",
          "Match",
          "Match",
          "Match",
          "Match",
          "Match",
          "Match",
          "Match",
          "Match",
          "Match",
          "Match",
          "Match",
          "Match",
          "Match",
          "Match",
          "Match",
          "Match",
          "Match",
          "Match",
          "Match",
          "Match",
          "Match",
          "Pas match",
          "Match",
          "Match",
          "Match",
          "Match",
          "Match",
          "Pas match",
          "Match",
          "Pas match",
          "Match",
          "Match",
          "Match",
          "Match",
          "Pas match",
          "Match",
          "Match",
          "Pas match",
          "Match",
          "Match",
          "Match",
          "Pas match",
          "Pas match",
          "Pas match",
          "Match",
          "Match",
          "Pas match",
          "Match",
          "Pas match",
          "Match",
          "Pas match",
          "Match",
          "Pas match",
          "Match",
          "Match",
          "Match",
          "Match",
          "Pas match",
          "Pas match",
          "Match",
          "Match",
          "Match",
          "Pas match",
          "Match",
          "Match",
          "Match",
          "Match",
          "Match",
          "Match",
          "Match",
          "Match",
          "Match",
          "Match",
          "Match",
          "Match",
          "Pas match",
          "Match",
          "Match",
          "Pas match",
          "Pas match",
          "Pas match",
          "Pas match",
          "Match",
          "Match",
          "Pas match",
          "Pas match",
          "Match",
          "Pas match",
          "Pas match",
          "Pas match",
          "Match",
          "Match",
          "Match",
          "Pas match",
          "Pas match",
          "Match",
          "Match",
          "Match",
          "Match",
          "Pas match",
          "Match",
          "Pas match",
          "Match",
          "Match",
          "Pas match",
          "Match",
          "Pas match",
          "Match",
          "Match",
          "Match",
          "Match",
          "Match",
          "Match",
          "Match",
          "Pas match",
          "Match",
          "Pas match",
          "Match",
          "Pas match",
          "Match",
          "Pas match",
          "Match",
          "Match",
          "Match",
          "Pas match",
          "Match",
          "Match",
          "Match",
          "Pas match",
          "Pas match",
          "Pas match",
          "Match",
          "Pas match",
          "Match",
          "Match",
          "Match",
          "Match",
          "Match",
          "Match",
          "Match",
          "Match",
          "Match",
          "Pas match",
          "Match",
          "Match",
          "Match",
          "Match",
          "Pas match",
          "Pas match",
          "Match",
          "Match",
          "Match",
          "Match",
          "Match",
          "Match",
          "Match",
          "Match",
          "Match",
          "Match",
          "Match",
          "Match",
          "Match",
          "Match",
          "Match",
          "Match",
          "Match",
          "Match",
          "Match",
          "Pas match",
          "Match",
          "Match",
          "Pas match",
          "Pas match",
          "Pas match",
          "Pas match",
          "Pas match",
          "Match",
          "Match",
          "Match",
          "Match",
          "Match",
          "Pas match",
          "Pas match",
          "Match",
          "Pas match",
          "Match",
          "Match",
          "Match",
          "Match",
          "Match",
          "Match",
          "Match",
          "Match",
          "Match",
          "Pas match",
          "Match",
          "Match",
          "Match",
          "Match",
          "Match",
          "Match",
          "Pas match",
          "Match",
          "Pas match",
          "Pas match",
          "Match",
          "Match",
          "Match",
          "Pas match",
          "Match",
          "Match",
          "Pas match",
          "Match",
          "Pas match",
          "Match",
          "Pas match",
          "Match",
          "Match",
          "Match",
          "Match",
          "Match",
          "Pas match",
          "Match",
          "Match",
          "Match",
          "Match",
          "Match",
          "Match",
          "Match",
          "Match",
          "Match",
          "Pas match",
          "Match",
          "Pas match",
          "Pas match",
          "Pas match",
          "Pas match",
          "Match",
          "Pas match",
          "Match",
          "Match",
          "Pas match",
          "Match",
          "Match",
          "Pas match",
          "Match",
          "Pas match",
          "Match",
          "Match",
          "Match",
          "Match",
          "Match",
          "Match",
          "Match",
          "Match",
          "Match",
          "Match",
          "Match",
          "Pas match",
          "Match",
          "Match",
          "Match",
          "Pas match",
          "Match",
          "Match",
          "Pas match",
          "Match",
          "Match",
          "Match",
          "Match",
          "Match",
          "Match",
          "Match",
          "Match",
          "Match",
          "Match",
          "Match",
          "Match",
          "Match",
          "Match",
          "Match",
          "Match",
          "Match",
          "Match",
          "Match",
          "Match",
          "Match",
          "Match",
          "Pas match",
          "Pas match",
          "Match",
          "Pas match",
          "Pas match",
          "Pas match",
          "Pas match",
          "Pas match",
          "Match",
          "Match",
          "Pas match",
          "Pas match",
          "Match",
          "Match",
          "Match",
          "Match",
          "Match",
          "Match",
          "Match",
          "Match",
          "Pas match",
          "Match",
          "Match",
          "Pas match",
          "Pas match",
          "Match",
          "Pas match",
          "Match",
          "Match",
          "Match",
          "Pas match",
          "Pas match",
          "Pas match",
          "Pas match",
          "Match",
          "Match",
          "Pas match",
          "Pas match",
          "Match",
          "Match",
          "Pas match",
          "Match",
          "Match",
          "Match",
          "Pas match",
          "Match",
          "Pas match",
          "Match",
          "Match",
          "Match",
          "Match",
          "Match",
          "Match",
          "Match",
          "Match",
          "Match",
          "Pas match",
          "Pas match",
          "Match",
          "Match",
          "Match",
          "Match",
          "Match",
          "Match",
          "Match",
          "Match",
          "Match",
          "Match",
          "Match",
          "Match",
          "Match",
          "Match",
          "Match",
          "Pas match",
          "Match",
          "Match",
          "Match",
          "Match",
          "Match",
          "Match",
          "Pas match",
          "Match",
          "Match",
          "Match",
          "Match",
          "Match",
          "Match",
          "Match",
          "Pas match",
          "Pas match",
          "Match",
          "Pas match",
          "Match",
          "Match",
          "Match",
          "Match",
          "Match",
          "Pas match",
          "Match",
          "Match",
          "Match",
          "Match",
          "Match",
          "Match",
          "Pas match",
          "Match",
          "Match",
          "Match",
          "Match",
          "Match",
          "Pas match",
          "Match",
          "Match",
          "Pas match",
          "Match",
          "Match",
          "Match",
          "Match",
          "Pas match",
          "Match",
          "Match",
          "Pas match",
          "Match",
          "Match",
          "Match",
          "Match",
          "Match",
          "Match",
          "Match",
          "Pas match",
          "Pas match",
          "Pas match",
          "Match",
          "Pas match",
          "Pas match",
          "Pas match",
          "Match",
          "Match",
          "Match",
          "Match",
          "Match",
          "Match",
          "Match",
          "Match",
          "Match",
          "Match",
          "Match",
          "Match",
          "Match",
          "Match",
          "Match",
          "Match",
          "Match",
          "Match",
          "Match",
          "Match",
          "Pas match",
          "Match",
          "Match",
          "Match",
          "Match",
          "Match",
          "Match",
          "Match",
          "Match",
          "Match",
          "Match",
          "Match",
          "Match",
          "Match",
          "Match",
          "Match",
          "Match",
          "Match",
          "Match",
          "Match",
          "Match",
          "Match",
          "Match",
          "Match",
          "Match",
          "Match",
          "Match",
          "Match",
          "Match",
          "Match",
          "Match",
          "Match",
          "Match",
          "Match",
          "Pas match",
          "Match",
          "Match",
          "Match",
          "Match",
          "Match",
          "Match",
          "Match",
          "Match",
          "Match",
          "Match",
          "Match",
          "Pas match",
          "Match",
          "Match",
          "Match",
          "Match",
          "Pas match",
          "Pas match",
          "Match",
          "Match",
          "Pas match",
          "Match",
          "Match",
          "Pas match",
          "Match",
          "Match",
          "Match",
          "Match",
          "Match",
          "Match",
          "Match",
          "Match",
          "Match",
          "Match",
          "Match",
          "Match",
          "Pas match",
          "Match",
          "Match",
          "Match",
          "Match",
          "Match",
          "Match",
          "Pas match",
          "Match",
          "Match",
          "Match",
          "Match",
          "Match",
          "Pas match",
          "Match",
          "Match",
          "Match",
          "Match",
          "Pas match",
          "Pas match",
          "Pas match",
          "Match",
          "Match",
          "Match",
          "Match",
          "Match",
          "Match",
          "Match",
          "Pas match",
          "Match",
          "Pas match",
          "Match",
          "Match",
          "Match",
          "Match",
          "Match",
          "Match",
          "Match",
          "Match",
          "Match",
          "Match",
          "Pas match",
          "Match",
          "Match",
          "Match",
          "Match",
          "Match",
          "Match",
          "Match",
          "Match",
          "Match",
          "Match",
          "Pas match",
          "Match",
          "Match",
          "Match",
          "Match",
          "Match",
          "Match",
          "Pas match",
          "Pas match",
          "Match",
          "Pas match",
          "Match",
          "Match",
          "Match",
          "Match",
          "Match",
          "Match",
          "Match",
          "Pas match",
          "Match",
          "Match",
          "Match",
          "Pas match",
          "Match",
          "Match",
          "Match",
          "Match",
          "Match",
          "Match",
          "Match",
          "Pas match",
          "Match",
          "Match",
          "Match",
          "Match",
          "Match",
          "Pas match",
          "Match",
          "Pas match",
          "Match",
          "Match",
          "Pas match",
          "Match",
          "Match",
          "Pas match",
          "Match",
          "Pas match",
          "Pas match",
          "Pas match",
          "Match",
          "Match",
          "Match",
          "Pas match",
          "Match",
          "Match",
          "Match",
          "Match",
          "Match",
          "Match",
          "Match",
          "Match",
          "Match",
          "Match",
          "Match",
          "Match",
          "Match",
          "Match",
          "Pas match",
          "Match",
          "Match",
          "Pas match",
          "Match",
          "Match",
          "Match",
          "Match",
          "Match",
          "Match",
          "Match",
          "Match",
          "Pas match",
          "Pas match",
          "Match",
          "Match",
          "Match",
          "Match",
          "Match",
          "Match",
          "Match",
          "Match",
          "Match",
          "Match",
          "Match",
          "Pas match",
          "Match",
          "Match",
          "Match",
          "Match",
          "Match",
          "Match",
          "Match",
          "Match",
          "Match",
          "Match",
          "Match",
          "Match",
          "Match",
          "Match",
          "Match",
          "Match",
          "Match",
          "Match",
          "Match",
          "Match",
          "Pas match",
          "Match",
          "Match",
          "Match",
          "Match",
          "Match",
          "Match",
          "Match",
          "Match",
          "Match",
          "Match",
          "Pas match",
          "Match",
          "Match",
          "Match",
          "Match",
          "Match",
          "Match",
          "Match",
          "Match",
          "Match",
          "Pas match",
          "Match",
          "Pas match",
          "Match",
          "Match",
          "Match",
          "Match",
          "Match",
          "Match",
          "Pas match",
          "Match",
          "Match",
          "Match",
          "Match",
          "Match",
          "Match",
          "Match",
          "Match",
          "Match",
          "Match",
          "Match",
          "Match",
          "Match",
          "Pas match",
          "Pas match",
          "Match",
          "Match",
          "Match",
          "Match",
          "Pas match",
          "Match",
          "Match",
          "Match",
          "Match",
          "Match",
          "Match",
          "Pas match",
          "Match",
          "Match",
          "Match",
          "Match",
          "Match",
          "Match",
          "Match",
          "Match",
          "Match",
          "Match",
          "Match",
          "Match",
          "Match",
          "Match",
          "Match",
          "Match",
          "Match",
          "Pas match",
          "Pas match",
          "Match",
          "Pas match",
          "Match",
          "Match",
          "Match",
          "Match",
          "Match",
          "Pas match",
          "Match",
          "Match",
          "Match",
          "Match",
          "Match",
          "Pas match",
          "Match",
          "Match",
          "Match",
          "Match",
          "Match",
          "Match",
          "Match",
          "Match",
          "Match",
          "Match",
          "Pas match",
          "Match",
          "Match",
          "Pas match",
          "Match",
          "Pas match",
          "Match",
          "Match",
          "Match",
          "Match",
          "Match",
          "Match",
          "Match",
          "Match",
          "Match",
          "Match",
          "Pas match",
          "Match",
          "Pas match",
          "Match",
          "Match",
          "Match",
          "Match",
          "Pas match",
          "Match",
          "Match",
          "Match",
          "Pas match",
          "Match",
          "Match",
          "Match",
          "Match",
          "Match",
          "Match",
          "Match",
          "Pas match",
          "Match",
          "Pas match",
          "Match",
          "Match",
          "Match",
          "Match",
          "Match",
          "Pas match",
          "Match",
          "Match",
          "Match",
          "Match",
          "Match",
          "Match",
          "Match",
          "Match",
          "Match",
          "Match",
          "Match",
          "Match",
          "Match",
          "Match",
          "Match",
          "Pas match",
          "Match",
          "Match",
          "Match",
          "Match",
          "Pas match",
          "Pas match",
          "Match",
          "Match",
          "Match",
          "Match",
          "Match",
          "Pas match",
          "Match",
          "Match",
          "Pas match",
          "Match",
          "Match",
          "Match",
          "Match",
          "Match",
          "Match",
          "Match",
          "Match",
          "Match",
          "Match",
          "Match",
          "Match",
          "Match",
          "Match",
          "Match",
          "Match",
          "Pas match",
          "Match",
          "Match",
          "Match",
          "Match",
          "Match",
          "Match",
          "Pas match",
          "Match",
          "Match",
          "Match",
          "Pas match",
          "Pas match",
          "Match",
          "Match",
          "Match",
          "Pas match",
          "Match",
          "Match",
          "Match",
          "Match",
          "Pas match",
          "Match",
          "Pas match",
          "Match",
          "Match",
          "Match",
          "Match",
          "Pas match",
          "Match",
          "Pas match",
          "Match",
          "Pas match",
          "Match",
          "Match",
          "Match",
          "Match",
          "Match",
          "Match",
          "Pas match",
          "Match",
          "Pas match",
          "Match",
          "Match",
          "Pas match",
          "Match",
          "Pas match",
          "Match",
          "Pas match",
          "Match",
          "Match",
          "Pas match",
          "Match",
          "Match",
          "Match",
          "Match",
          "Match",
          "Match",
          "Match",
          "Match",
          "Match",
          "Match",
          "Pas match",
          "Match",
          "Pas match",
          "Match",
          "Match",
          "Pas match",
          "Pas match",
          "Match",
          "Pas match",
          "Match",
          "Match",
          "Match",
          "Match",
          "Pas match",
          "Match",
          "Match",
          "Match",
          "Match",
          "Match",
          "Match",
          "Match",
          "Match",
          "Match",
          "Match",
          "Match",
          "Match",
          "Match",
          "Match",
          "Pas match",
          "Match",
          "Match",
          "Match",
          "Match",
          "Match",
          "Match",
          "Match",
          "Match",
          "Match",
          "Match",
          "Match",
          "Match",
          "Match",
          "Pas match",
          "Match",
          "Match",
          "Match",
          "Pas match",
          "Match",
          "Match",
          "Match",
          "Match",
          "Match",
          "Match",
          "Match",
          "Pas match",
          "Match",
          "Match",
          "Pas match",
          "Pas match",
          "Match",
          "Match",
          "Match",
          "Pas match",
          "Pas match",
          "Match",
          "Pas match",
          "Match",
          "Match",
          "Match",
          "Match",
          "Match",
          "Match",
          "Match",
          "Match",
          "Match",
          "Match",
          "Pas match",
          "Match",
          "Match",
          "Match",
          "Match",
          "Match",
          "Match",
          "Match",
          "Match",
          "Match",
          "Pas match",
          "Match",
          "Pas match",
          "Match",
          "Match",
          "Match",
          "Pas match",
          "Match",
          "Match",
          "Pas match",
          "Match",
          "Match",
          "Match",
          "Match",
          "Match",
          "Match",
          "Match",
          "Pas match",
          "Match",
          "Match",
          "Match",
          "Match",
          "Pas match",
          "Match",
          "Pas match",
          "Match",
          "Match",
          "Pas match",
          "Match",
          "Match",
          "Pas match",
          "Match",
          "Match",
          "Match",
          "Match",
          "Match",
          "Match",
          "Match",
          "Match",
          "Match",
          "Match",
          "Pas match",
          "Match",
          "Match",
          "Match",
          "Match",
          "Match",
          "Match",
          "Match",
          "Match",
          "Match",
          "Match",
          "Match",
          "Match",
          "Match",
          "Match",
          "Match",
          "Match",
          "Match",
          "Match",
          "Match",
          "Pas match",
          "Match",
          "Match",
          "Match",
          "Pas match",
          "Match",
          "Pas match",
          "Match",
          "Match",
          "Match",
          "Match",
          "Pas match",
          "Match",
          "Match",
          "Match",
          "Match",
          "Pas match",
          "Match",
          "Match",
          "Match",
          "Match",
          "Match",
          "Match",
          "Match",
          "Match",
          "Pas match",
          "Match",
          "Match",
          "Match",
          "Match",
          "Pas match",
          "Match",
          "Match",
          "Match",
          "Match",
          "Match",
          "Pas match",
          "Match",
          "Match",
          "Match",
          "Match",
          "Match",
          "Match",
          "Match",
          "Match",
          "Match",
          "Pas match",
          "Match",
          "Match",
          "Match",
          "Match",
          "Match",
          "Match",
          "Match",
          "Match",
          "Match",
          "Match",
          "Match",
          "Match",
          "Match",
          "Pas match",
          "Match",
          "Pas match",
          "Match",
          "Match",
          "Match",
          "Match",
          "Match",
          "Match",
          "Match",
          "Pas match",
          "Match",
          "Match",
          "Match",
          "Pas match",
          "Match",
          "Match",
          "Match",
          "Pas match",
          "Pas match",
          "Match",
          "Match",
          "Match",
          "Match",
          "Pas match",
          "Match",
          "Match",
          "Match",
          "Match",
          "Match",
          "Match",
          "Match",
          "Match",
          "Match",
          "Match",
          "Match",
          "Match",
          "Match",
          "Match",
          "Match",
          "Match",
          "Match",
          "Pas match",
          "Match",
          "Match",
          "Match",
          "Match",
          "Match",
          "Match",
          "Match",
          "Match",
          "Match",
          "Match",
          "Match",
          "Match",
          "Match",
          "Pas match",
          "Pas match",
          "Match",
          "Match",
          "Match",
          "Match",
          "Match",
          "Match",
          "Match",
          "Match",
          "Match",
          "Match",
          "Match",
          "Match",
          "Match",
          "Match",
          "Match",
          "Match",
          "Match",
          "Match",
          "Match",
          "Match",
          "Match",
          "Match",
          "Pas match",
          "Match",
          "Pas match",
          "Match",
          "Pas match",
          "Match",
          "Pas match",
          "Match",
          "Match",
          "Match",
          "Match",
          "Pas match",
          "Match",
          "Match",
          "Match",
          "Match",
          "Match",
          "Match",
          "Match",
          "Match",
          "Match",
          "Match",
          "Pas match",
          "Match",
          "Match",
          "Match",
          "Match",
          "Match",
          "Match",
          "Pas match",
          "Match",
          "Match",
          "Match",
          "Match",
          "Pas match",
          "Match",
          "Match",
          "Match",
          "Match",
          "Match",
          "Match",
          "Match",
          "Match",
          "Match",
          "Match",
          "Match",
          "Match",
          "Match",
          "Match",
          "Match",
          "Match",
          "Match",
          "Match",
          "Match",
          "Match",
          "Pas match",
          "Match",
          "Match",
          "Match",
          "Match",
          "Match",
          "Match",
          "Pas match",
          "Match",
          "Match",
          "Match",
          "Match",
          "Match",
          "Match",
          "Match",
          "Match",
          "Match",
          "Match",
          "Match",
          "Match",
          "Match",
          "Match",
          "Match",
          "Pas match",
          "Match",
          "Match",
          "Match",
          "Match",
          "Match",
          "Match",
          "Match",
          "Match",
          "Match",
          "Match",
          "Match",
          "Match",
          "Match",
          "Match",
          "Match",
          "Match",
          "Match",
          "Match",
          "Match",
          "Match",
          "Match",
          "Match",
          "Match",
          "Match",
          "Match",
          "Match",
          "Match",
          "Match",
          "Match",
          "Match",
          "Match",
          "Match",
          "Match",
          "Match",
          "Match",
          "Match",
          "Match",
          "Match",
          "Match",
          "Match",
          "Match",
          "Match",
          "Match",
          "Match",
          "Match",
          "Match",
          "Pas match",
          "Pas match",
          "Match",
          "Match",
          "Match",
          "Match",
          "Match",
          "Match",
          "Match",
          "Match",
          "Match",
          "Match",
          "Match",
          "Match",
          "Match",
          "Match",
          "Match",
          "Match",
          "Pas match",
          "Match",
          "Pas match",
          "Pas match",
          "Match",
          "Pas match",
          "Pas match",
          "Pas match",
          "Match",
          "Match",
          "Match",
          "Match",
          "Pas match",
          "Match",
          "Match",
          "Pas match",
          "Match",
          "Match",
          "Match",
          "Match",
          "Match",
          "Pas match",
          "Match",
          "Match",
          "Match",
          "Match",
          "Match",
          "Match",
          "Pas match",
          "Pas match",
          "Match",
          "Match",
          "Match",
          "Match",
          "Match",
          "Match",
          "Match",
          "Pas match",
          "Match",
          "Pas match",
          "Match",
          "Pas match",
          "Pas match",
          "Match",
          "Match",
          "Match",
          "Pas match",
          "Match",
          "Pas match",
          "Pas match",
          "Match",
          "Pas match",
          "Pas match",
          "Pas match",
          "Match",
          "Pas match",
          "Match",
          "Match",
          "Match",
          "Match",
          "Match",
          "Match",
          "Match",
          "Match",
          "Match",
          "Match",
          "Match",
          "Match",
          "Match",
          "Match",
          "Match",
          "Match",
          "Match",
          "Match",
          "Match",
          "Match",
          "Pas match",
          "Pas match",
          "Match",
          "Match",
          "Match",
          "Match",
          "Match",
          "Match",
          "Match",
          "Match",
          "Match",
          "Match",
          "Match",
          "Match",
          "Match",
          "Pas match",
          "Match",
          "Match",
          "Match",
          "Match",
          "Match",
          "Match",
          "Match",
          "Match",
          "Match",
          "Pas match",
          "Match",
          "Match",
          "Match",
          "Match",
          "Match",
          "Match",
          "Match",
          "Match",
          "Match",
          "Match",
          "Pas match",
          "Match",
          "Match",
          "Match",
          "Match",
          "Pas match",
          "Match",
          "Pas match",
          "Match",
          "Pas match",
          "Match",
          "Pas match",
          "Match",
          "Match",
          "Pas match",
          "Match",
          "Pas match",
          "Match",
          "Pas match",
          "Match",
          "Match",
          "Pas match",
          "Match",
          "Pas match",
          "Match",
          "Match",
          "Match",
          "Pas match",
          "Match",
          "Match",
          "Match",
          "Match",
          "Match",
          "Match",
          "Match",
          "Match",
          "Match",
          "Pas match",
          "Match",
          "Match",
          "Match",
          "Match",
          "Match",
          "Match",
          "Match",
          "Match",
          "Pas match",
          "Match",
          "Match",
          "Match",
          "Match",
          "Match",
          "Match",
          "Match",
          "Match",
          "Match",
          "Match",
          "Match",
          "Match",
          "Match",
          "Pas match",
          "Match",
          "Match",
          "Match",
          "Match",
          "Pas match",
          "Match",
          "Match",
          "Match",
          "Pas match",
          "Match",
          "Match",
          "Match",
          "Match",
          "Match",
          "Match",
          "Match",
          "Match",
          "Pas match",
          "Match",
          "Pas match",
          "Match",
          "Pas match",
          "Match",
          "Match",
          "Match",
          "Match",
          "Match",
          "Match",
          "Match",
          "Match",
          "Match",
          "Match",
          "Match",
          "Match",
          "Match",
          "Match",
          "Match",
          "Match",
          "Match",
          "Match",
          "Match",
          "Match",
          "Match",
          "Match",
          "Pas match",
          "Match",
          "Pas match",
          "Match",
          "Pas match",
          "Pas match",
          "Match",
          "Pas match",
          "Match",
          "Match",
          "Match",
          "Match",
          "Match",
          "Pas match",
          "Match",
          "Match",
          "Match",
          "Pas match",
          "Pas match",
          "Match",
          "Match",
          "Match",
          "Match",
          "Match",
          "Match",
          "Match",
          "Match",
          "Match",
          "Match",
          "Match",
          "Match",
          "Pas match",
          "Match",
          "Match",
          "Match",
          "Match",
          "Match",
          "Match",
          "Match",
          "Match",
          "Match",
          "Pas match",
          "Match",
          "Match",
          "Pas match",
          "Match",
          "Match",
          "Match",
          "Match",
          "Match",
          "Match",
          "Match",
          "Pas match",
          "Pas match",
          "Match",
          "Match",
          "Pas match",
          "Pas match",
          "Match",
          "Match",
          "Match",
          "Match",
          "Match",
          "Match",
          "Match",
          "Match",
          "Match",
          "Match",
          "Match",
          "Match",
          "Pas match",
          "Pas match",
          "Match",
          "Pas match",
          "Match",
          "Match",
          "Match",
          "Match",
          "Match",
          "Pas match",
          "Match",
          "Match",
          "Match",
          "Match",
          "Pas match",
          "Match",
          "Match",
          "Match",
          "Match",
          "Match",
          "Pas match",
          "Pas match",
          "Match",
          "Match",
          "Match",
          "Match",
          "Match",
          "Pas match",
          "Match",
          "Match",
          "Match",
          "Match",
          "Match",
          "Match",
          "Match",
          "Match",
          "Match",
          "Match",
          "Match",
          "Match",
          "Match",
          "Match",
          "Match",
          "Match",
          "Match",
          "Match",
          "Match",
          "Match",
          "Match",
          "Match",
          "Match",
          "Match",
          "Match",
          "Match",
          "Match",
          "Match",
          "Match",
          "Match",
          "Match",
          "Match",
          "Match",
          "Pas match",
          "Match",
          "Match",
          "Match",
          "Match",
          "Match",
          "Match",
          "Match",
          "Match",
          "Match",
          "Match",
          "Match",
          "Match",
          "Match",
          "Pas match",
          "Match",
          "Match",
          "Match",
          "Match",
          "Match",
          "Pas match",
          "Match",
          "Pas match",
          "Match",
          "Match",
          "Match",
          "Pas match",
          "Match",
          "Match",
          "Pas match",
          "Match",
          "Match",
          "Match",
          "Match",
          "Match",
          "Match",
          "Match",
          "Match",
          "Match",
          "Match",
          "Pas match",
          "Match",
          "Match",
          "Match",
          "Match",
          "Match",
          "Match",
          "Match",
          "Match",
          "Match",
          "Match",
          "Match",
          "Match",
          "Pas match",
          "Match",
          "Match",
          "Match",
          "Match",
          "Match",
          "Match",
          "Match",
          "Pas match",
          "Pas match",
          "Match",
          "Match",
          "Match",
          "Pas match",
          "Match",
          "Match",
          "Match",
          "Match",
          "Match",
          "Match",
          "Match",
          "Match",
          "Match",
          "Match",
          "Match",
          "Match",
          "Match",
          "Match",
          "Pas match",
          "Pas match",
          "Match",
          "Match",
          "Match",
          "Match",
          "Pas match",
          "Match",
          "Match",
          "Match",
          "Match",
          "Match",
          "Match",
          "Match",
          "Match",
          "Match",
          "Match",
          "Match",
          "Match",
          "Match",
          "Match",
          "Match",
          "Match",
          "Match",
          "Match",
          "Pas match",
          "Match",
          "Match",
          "Pas match",
          "Match",
          "Match",
          "Match",
          "Match",
          "Pas match",
          "Match",
          "Match",
          "Match",
          "Match",
          "Match",
          "Match",
          "Match",
          "Pas match",
          "Match",
          "Pas match",
          "Match",
          "Match",
          "Match",
          "Match",
          "Match",
          "Match",
          "Match",
          "Match",
          "Match",
          "Match",
          "Pas match",
          "Match",
          "Match",
          "Match",
          "Match",
          "Pas match",
          "Match",
          "Pas match",
          "Match",
          "Match",
          "Pas match",
          "Match",
          "Match",
          "Match",
          "Match",
          "Match",
          "Pas match",
          "Match",
          "Match",
          "Match",
          "Match",
          "Match",
          "Match",
          "Match",
          "Match",
          "Match",
          "Match",
          "Pas match",
          "Match",
          "Match",
          "Match",
          "Pas match",
          "Match",
          "Match",
          "Match",
          "Match",
          "Pas match",
          "Match",
          "Match",
          "Match",
          "Match",
          "Match",
          "Match",
          "Match",
          "Match",
          "Match",
          "Match",
          "Match",
          "Match",
          "Match",
          "Match",
          "Match",
          "Match",
          "Match",
          "Pas match",
          "Match",
          "Match",
          "Match",
          "Match",
          "Match",
          "Match",
          "Pas match",
          "Match",
          "Match",
          "Match",
          "Pas match",
          "Match",
          "Pas match",
          "Match",
          "Match",
          "Match",
          "Pas match",
          "Match",
          "Match",
          "Match",
          "Match",
          "Match",
          "Match",
          "Match",
          "Match",
          "Match",
          "Match",
          "Pas match",
          "Match",
          "Match",
          "Match",
          "Match",
          "Pas match",
          "Match",
          "Match",
          "Match",
          "Match",
          "Match",
          "Match",
          "Match",
          "Match",
          "Match",
          "Match",
          "Match",
          "Match",
          "Match",
          "Match",
          "Match",
          "Match",
          "Match",
          "Match",
          "Match",
          "Pas match",
          "Match",
          "Match",
          "Pas match",
          "Match",
          "Match",
          "Match",
          "Match",
          "Match",
          "Pas match",
          "Match",
          "Match",
          "Match",
          "Pas match",
          "Match",
          "Match",
          "Match",
          "Match",
          "Match",
          "Match",
          "Match",
          "Match",
          "Match",
          "Match",
          "Match",
          "Match",
          "Match",
          "Pas match",
          "Match",
          "Pas match",
          "Match",
          "Match",
          "Match",
          "Match",
          "Pas match",
          "Match",
          "Pas match",
          "Match",
          "Pas match",
          "Match",
          "Match",
          "Pas match",
          "Match",
          "Pas match",
          "Match",
          "Pas match",
          "Pas match",
          "Match",
          "Pas match",
          "Match",
          "Match",
          "Match",
          "Match",
          "Match",
          "Pas match",
          "Pas match",
          "Match",
          "Match",
          "Match",
          "Match",
          "Pas match",
          "Match",
          "Match",
          "Match",
          "Match",
          "Match",
          "Match",
          "Match",
          "Match",
          "Match",
          "Pas match",
          "Match",
          "Match",
          "Match",
          "Match",
          "Match",
          "Match",
          "Match",
          "Match",
          "Match",
          "Match",
          "Match",
          "Pas match",
          "Match",
          "Match",
          "Match",
          "Match",
          "Match",
          "Match",
          "Match",
          "Match",
          "Match",
          "Match",
          "Pas match",
          "Match",
          "Match",
          "Match",
          "Match",
          "Match",
          "Pas match",
          "Pas match",
          "Match",
          "Match",
          "Match",
          "Match",
          "Match",
          "Match",
          "Match",
          "Match",
          "Match",
          "Match",
          "Match",
          "Match",
          "Pas match",
          "Pas match",
          "Match",
          "Pas match",
          "Pas match",
          "Pas match",
          "Match",
          "Match",
          "Match",
          "Match",
          "Match",
          "Match",
          "Match",
          "Match",
          "Pas match",
          "Match",
          "Pas match",
          "Match",
          "Match",
          "Match",
          "Match",
          "Match",
          "Match",
          "Match",
          "Match",
          "Match",
          "Match",
          "Match",
          "Match",
          "Match",
          "Match",
          "Match",
          "Match",
          "Pas match",
          "Match",
          "Match",
          "Match",
          "Pas match",
          "Match",
          "Match",
          "Match",
          "Match",
          "Match",
          "Match",
          "Match",
          "Match",
          "Match",
          "Match",
          "Pas match",
          "Match",
          "Match",
          "Match",
          "Match",
          "Match",
          "Match",
          "Match",
          "Match",
          "Match",
          "Match",
          "Match",
          "Match",
          "Match",
          "Match",
          "Match",
          "Match",
          "Match",
          "Match",
          "Match",
          "Match",
          "Match",
          "Match",
          "Match",
          "Match",
          "Match",
          "Match",
          "Match",
          "Match",
          "Match",
          "Match",
          "Match",
          "Match",
          "Match",
          "Match",
          "Match",
          "Match",
          "Match",
          "Match",
          "Match",
          "Match",
          "Match",
          "Match",
          "Match",
          "Match",
          "Match",
          "Match",
          "Match",
          "Match",
          "Match",
          "Match",
          "Match",
          "Match",
          "Match",
          "Match",
          "Match",
          "Match",
          "Pas match",
          "Match",
          "Match",
          "Pas match",
          "Match",
          "Match",
          "Match",
          "Match",
          "Match",
          "Match",
          "Pas match",
          "Match",
          "Match",
          "Match",
          "Match",
          "Match",
          "Match",
          "Match",
          "Match",
          "Match",
          "Match",
          "Match",
          "Match",
          "Match",
          "Match",
          "Match",
          "Match",
          "Match",
          "Match",
          "Match",
          "Match",
          "Match",
          "Match",
          "Match",
          "Match",
          "Match",
          "Match",
          "Match",
          "Match",
          "Pas match",
          "Pas match",
          "Match",
          "Match",
          "Pas match",
          "Match",
          "Pas match",
          "Pas match",
          "Pas match",
          "Match",
          "Match",
          "Match",
          "Match",
          "Match",
          "Match",
          "Match",
          "Pas match",
          "Match",
          "Match",
          "Match",
          "Match",
          "Match",
          "Pas match",
          "Match",
          "Match",
          "Match",
          "Match",
          "Match",
          "Match",
          "Match",
          "Match",
          "Match",
          "Match",
          "Match",
          "Match",
          "Match",
          "Match",
          "Match",
          "Match",
          "Match",
          "Match",
          "Match",
          "Pas match",
          "Pas match",
          "Match",
          "Match",
          "Pas match",
          "Match",
          "Pas match",
          "Match",
          "Match",
          "Pas match",
          "Match",
          "Match",
          "Match",
          "Match",
          "Match",
          "Pas match",
          "Match",
          "Match",
          "Match",
          "Match",
          "Pas match",
          "Pas match",
          "Pas match",
          "Match",
          "Match",
          "Pas match",
          "Match",
          "Match",
          "Match",
          "Match",
          "Match",
          "Match",
          "Match",
          "Match",
          "Match",
          "Match",
          "Pas match",
          "Match",
          "Match",
          "Match",
          "Match",
          "Match",
          "Match",
          "Match",
          "Match",
          "Match",
          "Match",
          "Match",
          "Match",
          "Match",
          "Match",
          "Match",
          "Match",
          "Match",
          "Match",
          "Match",
          "Match",
          "Match",
          "Match",
          "Match",
          "Match",
          "Pas match",
          "Match",
          "Match",
          "Match",
          "Match",
          "Match",
          "Match",
          "Match",
          "Pas match",
          "Match",
          "Match",
          "Match",
          "Match",
          "Match",
          "Pas match",
          "Pas match",
          "Pas match",
          "Match",
          "Pas match",
          "Match",
          "Match",
          "Pas match",
          "Match",
          "Match",
          "Match",
          "Match",
          "Pas match",
          "Pas match",
          "Match",
          "Pas match",
          "Match",
          "Match",
          "Match",
          "Match",
          "Match",
          "Match",
          "Match",
          "Match",
          "Match",
          "Match",
          "Match",
          "Match",
          "Match",
          "Match",
          "Match",
          "Match",
          "Match",
          "Match",
          "Match",
          "Pas match",
          "Match",
          "Match",
          "Match",
          "Match",
          "Match",
          "Match",
          "Match",
          "Match",
          "Match",
          "Match",
          "Match",
          "Match",
          "Match",
          "Match",
          "Match",
          "Match",
          "Match",
          "Match",
          "Match",
          "Match",
          "Match",
          "Match",
          "Match",
          "Match",
          "Match",
          "Match",
          "Match",
          "Pas match",
          "Pas match",
          "Match",
          "Pas match",
          "Pas match",
          "Match",
          "Match",
          "Match",
          "Match",
          "Match",
          "Match",
          "Match",
          "Match",
          "Match",
          "Match",
          "Match",
          "Match",
          "Match",
          "Match",
          "Match",
          "Match",
          "Match",
          "Match",
          "Match",
          "Match",
          "Match",
          "Match",
          "Pas match",
          "Pas match",
          "Match",
          "Pas match",
          "Pas match",
          "Match",
          "Pas match",
          "Match",
          "Match",
          "Match",
          "Match",
          "Match",
          "Match",
          "Match",
          "Match",
          "Pas match",
          "Pas match",
          "Pas match",
          "Match",
          "Pas match",
          "Pas match",
          "Match",
          "Pas match",
          "Match",
          "Match",
          "Match",
          "Match",
          "Pas match",
          "Match",
          "Match",
          "Match",
          "Pas match",
          "Match",
          "Match",
          "Match",
          "Match",
          "Pas match",
          "Pas match",
          "Match",
          "Pas match",
          "Match",
          "Match",
          "Match",
          "Match",
          "Match",
          "Pas match",
          "Match",
          "Match",
          "Pas match",
          "Pas match",
          "Pas match",
          "Pas match",
          "Match",
          "Match",
          "Match",
          "Match",
          "Match",
          "Match",
          "Match",
          "Match",
          "Match",
          "Match",
          "Match",
          "Match",
          "Match",
          "Match",
          "Match",
          "Match",
          "Match",
          "Match",
          "Match",
          "Match",
          "Pas match",
          "Match",
          "Match",
          "Match",
          "Match",
          "Match",
          "Match",
          "Match",
          "Match",
          "Match",
          "Match",
          "Pas match",
          "Match",
          "Match",
          "Match",
          "Match",
          "Match",
          "Match",
          "Match",
          "Match",
          "Match",
          "Match",
          "Match",
          "Match",
          "Match",
          "Match",
          "Match",
          "Match",
          "Match",
          "Match",
          "Match",
          "Match",
          "Match",
          "Match",
          "Match",
          "Match",
          "Match",
          "Match",
          "Match",
          "Match",
          "Match",
          "Match",
          "Match",
          "Match",
          "Match",
          "Match",
          "Match",
          "Match",
          "Match",
          "Pas match",
          "Match",
          "Match",
          "Match",
          "Match",
          "Pas match",
          "Pas match",
          "Match",
          "Match",
          "Match",
          "Match",
          "Match",
          "Match",
          "Match",
          "Match",
          "Match",
          "Pas match",
          "Pas match",
          "Match",
          "Match",
          "Match",
          "Pas match",
          "Pas match",
          "Match",
          "Match",
          "Match",
          "Match",
          "Match",
          "Match",
          "Match",
          "Match",
          "Match",
          "Match",
          "Match",
          "Match",
          "Pas match",
          "Match",
          "Match",
          "Match",
          "Match",
          "Match",
          "Match",
          "Match",
          "Match",
          "Match",
          "Match",
          "Match",
          "Match",
          "Match",
          "Match",
          "Match",
          "Match",
          "Match",
          "Pas match",
          "Match",
          "Pas match",
          "Pas match",
          "Match",
          "Match",
          "Match",
          "Match",
          "Match",
          "Match",
          "Pas match",
          "Match",
          "Pas match",
          "Match",
          "Match",
          "Match",
          "Match",
          "Match",
          "Match",
          "Match",
          "Match",
          "Pas match",
          "Pas match",
          "Pas match",
          "Pas match",
          "Match",
          "Match",
          "Match",
          "Match",
          "Match",
          "Match",
          "Pas match",
          "Match",
          "Match",
          "Match",
          "Match",
          "Match",
          "Match",
          "Match",
          "Match",
          "Match",
          "Match",
          "Match",
          "Match",
          "Match",
          "Match",
          "Match",
          "Match",
          "Match",
          "Match",
          "Match",
          "Match",
          "Match",
          "Match",
          "Match",
          "Match",
          "Match",
          "Match",
          "Match",
          "Match",
          "Match",
          "Pas match",
          "Match",
          "Match",
          "Match",
          "Match",
          "Match",
          "Match",
          "Match",
          "Pas match",
          "Match",
          "Match",
          "Match",
          "Pas match",
          "Pas match",
          "Pas match",
          "Match",
          "Match",
          "Match",
          "Match",
          "Match",
          "Match",
          "Match",
          "Match",
          "Pas match",
          "Match",
          "Pas match",
          "Pas match",
          "Match",
          "Match",
          "Pas match",
          "Match",
          "Match",
          "Match",
          "Match",
          "Match",
          "Pas match",
          "Match",
          "Match",
          "Match",
          "Match",
          "Match",
          "Match",
          "Match",
          "Match",
          "Match",
          "Match",
          "Match",
          "Match",
          "Match",
          "Match",
          "Match",
          "Pas match",
          "Match",
          "Match",
          "Match",
          "Match",
          "Pas match",
          "Match",
          "Match",
          "Match",
          "Match",
          "Match",
          "Match",
          "Pas match",
          "Match",
          "Pas match",
          "Match",
          "Pas match",
          "Match",
          "Match",
          "Pas match",
          "Pas match",
          "Match",
          "Match",
          "Match",
          "Match",
          "Match",
          "Pas match",
          "Pas match",
          "Match",
          "Match",
          "Match",
          "Match",
          "Match",
          "Match",
          "Match",
          "Pas match",
          "Match",
          "Match",
          "Match",
          "Match",
          "Match",
          "Match",
          "Match",
          "Match",
          "Match",
          "Match",
          "Pas match",
          "Match",
          "Match",
          "Match",
          "Match",
          "Match",
          "Match",
          "Match",
          "Match",
          "Match",
          "Pas match",
          "Match",
          "Match",
          "Match",
          "Match",
          "Match",
          "Match",
          "Match",
          "Match",
          "Match",
          "Match",
          "Match",
          "Match",
          "Match",
          "Match",
          "Match",
          "Pas match",
          "Match",
          "Match",
          "Match",
          "Match",
          "Match",
          "Match",
          "Pas match",
          "Match",
          "Match",
          "Match",
          "Match",
          "Match",
          "Match",
          "Match",
          "Match",
          "Match",
          "Match",
          "Match",
          "Match",
          "Match",
          "Match",
          "Match",
          "Match",
          "Match",
          "Match",
          "Match",
          "Match",
          "Match",
          "Match",
          "Match",
          "Match",
          "Match",
          "Match",
          "Match",
          "Match",
          "Match",
          "Match",
          "Match",
          "Match",
          "Match",
          "Match",
          "Match",
          "Match",
          "Match",
          "Match",
          "Match",
          "Match",
          "Match",
          "Match",
          "Match",
          "Match",
          "Match",
          "Match",
          "Match",
          "Match",
          "Match",
          "Match",
          "Match",
          "Match",
          "Match",
          "Match",
          "Match",
          "Match",
          "Match",
          "Match",
          "Match",
          "Match",
          "Match",
          "Match",
          "Match",
          "Match",
          "Match",
          "Pas match",
          "Match",
          "Match",
          "Pas match",
          "Match",
          "Pas match",
          "Pas match",
          "Match",
          "Match",
          "Match",
          "Match",
          "Match",
          "Match",
          "Match",
          "Pas match",
          "Match",
          "Match",
          "Match",
          "Match",
          "Match",
          "Match",
          "Pas match",
          "Match",
          "Match",
          "Pas match",
          "Match",
          "Pas match",
          "Pas match",
          "Match",
          "Match",
          "Match",
          "Match",
          "Match",
          "Match",
          "Match",
          "Match",
          "Match",
          "Match",
          "Match",
          "Match",
          "Match",
          "Match",
          "Pas match",
          "Match",
          "Match",
          "Match",
          "Match",
          "Pas match",
          "Match",
          "Match",
          "Match",
          "Match",
          "Pas match",
          "Match",
          "Match",
          "Match",
          "Match",
          "Match",
          "Match",
          "Match",
          "Pas match",
          "Pas match",
          "Match",
          "Match",
          "Match",
          "Match",
          "Pas match",
          "Match",
          "Match",
          "Pas match",
          "Match",
          "Match",
          "Match",
          "Match",
          "Match",
          "Match",
          "Match",
          "Match",
          "Match",
          "Pas match",
          "Match",
          "Match",
          "Match",
          "Match",
          "Pas match",
          "Match",
          "Match",
          "Pas match",
          "Match",
          "Pas match",
          "Match",
          "Match",
          "Match",
          "Match",
          "Match",
          "Match",
          "Match",
          "Match",
          "Match",
          "Match",
          "Match",
          "Match",
          "Match",
          "Match",
          "Match",
          "Match",
          "Match",
          "Match",
          "Match",
          "Match",
          "Pas match",
          "Match",
          "Match",
          "Pas match",
          "Match",
          "Match",
          "Match",
          "Match",
          "Match",
          "Match",
          "Match",
          "Match",
          "Match",
          "Pas match",
          "Match",
          "Match",
          "Match",
          "Match",
          "Match",
          "Match",
          "Match",
          "Match",
          "Match",
          "Match",
          "Match",
          "Match",
          "Match",
          "Match",
          "Match",
          "Match",
          "Match",
          "Match",
          "Match",
          "Match",
          "Match",
          "Match",
          "Match",
          "Match",
          "Match",
          "Match",
          "Match",
          "Pas match",
          "Pas match",
          "Match",
          "Pas match",
          "Match",
          "Match",
          "Pas match",
          "Match",
          "Pas match",
          "Match",
          "Match",
          "Match",
          "Match",
          "Match",
          "Pas match",
          "Match",
          "Match",
          "Pas match",
          "Match",
          "Match",
          "Match",
          "Match",
          "Match",
          "Match",
          "Match",
          "Match",
          "Match",
          "Match",
          "Match",
          "Match",
          "Match",
          "Match",
          "Match",
          "Match",
          "Match",
          "Match",
          "Match",
          "Match",
          "Match",
          "Match",
          "Match",
          "Match",
          "Pas match",
          "Match",
          "Match",
          "Match",
          "Match",
          "Match",
          "Match",
          "Match",
          "Match",
          "Match",
          "Match",
          "Match",
          "Match",
          "Match",
          "Pas match",
          "Match",
          "Match",
          "Pas match",
          "Match",
          "Match",
          "Match",
          "Pas match",
          "Match",
          "Pas match",
          "Match",
          "Match",
          "Match",
          "Match",
          "Match",
          "Match",
          "Match",
          "Match",
          "Match",
          "Match",
          "Match",
          "Match",
          "Match",
          "Match",
          "Match",
          "Match",
          "Match",
          "Match",
          "Match",
          "Match",
          "Match",
          "Match",
          "Match",
          "Match",
          "Match",
          "Match",
          "Match",
          "Match",
          "Match",
          "Pas match",
          "Match",
          "Match",
          "Match",
          "Match",
          "Match",
          "Match",
          "Match",
          "Match",
          "Match",
          "Match",
          "Match",
          "Match",
          "Match",
          "Match",
          "Match",
          "Match",
          "Match",
          "Pas match",
          "Match",
          "Match",
          "Match",
          "Match",
          "Match",
          "Pas match",
          "Match",
          "Match",
          "Match",
          "Match",
          "Match",
          "Pas match",
          "Match",
          "Match",
          "Match",
          "Match",
          "Match",
          "Match",
          "Match",
          "Match",
          "Match",
          "Match",
          "Match",
          "Match",
          "Match",
          "Pas match",
          "Match",
          "Match",
          "Match",
          "Match",
          "Match",
          "Match",
          "Match",
          "Match",
          "Match",
          "Match",
          "Pas match",
          "Match",
          "Match",
          "Match",
          "Pas match",
          "Pas match",
          "Match",
          "Match",
          "Match",
          "Match",
          "Match",
          "Match",
          "Match",
          "Pas match",
          "Match",
          "Match",
          "Match",
          "Match",
          "Match",
          "Match",
          "Match",
          "Match",
          "Match",
          "Match",
          "Match",
          "Match",
          "Match",
          "Match",
          "Match",
          "Match",
          "Match",
          "Pas match",
          "Match",
          "Match",
          "Match",
          "Pas match",
          "Match",
          "Match",
          "Match",
          "Match",
          "Match",
          "Pas match",
          "Match",
          "Match",
          "Match",
          "Match",
          "Match",
          "Match",
          "Match",
          "Match",
          "Match",
          "Match",
          "Match",
          "Match",
          "Match",
          "Match",
          "Match",
          "Match",
          "Match",
          "Pas match",
          "Match",
          "Match",
          "Match",
          "Match",
          "Match",
          "Match",
          "Match",
          "Match",
          "Match",
          "Match",
          "Match",
          "Match",
          "Match",
          "Match",
          "Match",
          "Match",
          "Match",
          "Match",
          "Match",
          "Pas match",
          "Match",
          "Match",
          "Match",
          "Match",
          "Match",
          "Match",
          "Match",
          "Match",
          "Match",
          "Pas match",
          "Match",
          "Match",
          "Match",
          "Match",
          "Match",
          "Match",
          "Match",
          "Match",
          "Match",
          "Match",
          "Match",
          "Match",
          "Match",
          "Match",
          "Match",
          "Match",
          "Match",
          "Match",
          "Match",
          "Match",
          "Match",
          "Match",
          "Match",
          "Match",
          "Match",
          "Match",
          "Match",
          "Match",
          "Match",
          "Pas match",
          "Pas match",
          "Match",
          "Pas match",
          "Match",
          "Pas match",
          "Pas match",
          "Match",
          "Pas match",
          "Pas match",
          "Match",
          "Match",
          "Match",
          "Match",
          "Match",
          "Match",
          "Pas match",
          "Match",
          "Match",
          "Pas match",
          "Match",
          "Match",
          "Match",
          "Match",
          "Match",
          "Match",
          "Match",
          "Pas match",
          "Match",
          "Match",
          "Pas match",
          "Match",
          "Match",
          "Match",
          "Match",
          "Match",
          "Match",
          "Match",
          "Match",
          "Match",
          "Match",
          "Match",
          "Match",
          "Match",
          "Match",
          "Match",
          "Match",
          "Pas match",
          "Pas match",
          "Match",
          "Match",
          "Pas match",
          "Match",
          "Match",
          "Match",
          "Match",
          "Match",
          "Match",
          "Match",
          "Match",
          "Match",
          "Match",
          "Match",
          "Match",
          "Match",
          "Match",
          "Match",
          "Match",
          "Match",
          "Match",
          "Match",
          "Match",
          "Match",
          "Match",
          "Match",
          "Match",
          "Match",
          "Match",
          "Match",
          "Match",
          "Match",
          "Match",
          "Match",
          "Match",
          "Match",
          "Match",
          "Match",
          "Match",
          "Match",
          "Match",
          "Match",
          "Match",
          "Pas match",
          "Match",
          "Pas match",
          "Match",
          "Pas match",
          "Pas match",
          "Match",
          "Match",
          "Match",
          "Match",
          "Match",
          "Pas match",
          "Match",
          "Pas match",
          "Match",
          "Match",
          "Pas match",
          "Pas match",
          "Match",
          "Match",
          "Match",
          "Pas match",
          "Match",
          "Match",
          "Match",
          "Match",
          "Match",
          "Pas match",
          "Pas match",
          "Pas match",
          "Match",
          "Match",
          "Match",
          "Match",
          "Match",
          "Match",
          "Pas match",
          "Pas match",
          "Match",
          "Match",
          "Match",
          "Match",
          "Match",
          "Match",
          "Match",
          "Match",
          "Match",
          "Match",
          "Match",
          "Match",
          "Match",
          "Match",
          "Match",
          "Match",
          "Match",
          "Match",
          "Pas match",
          "Match",
          "Match",
          "Match",
          "Match",
          "Match",
          "Match",
          "Match",
          "Match",
          "Match",
          "Match",
          "Match",
          "Pas match",
          "Match",
          "Match",
          "Match",
          "Match",
          "Match",
          "Match",
          "Match",
          "Match",
          "Match",
          "Match",
          "Match",
          "Match",
          "Match",
          "Match",
          "Match",
          "Match",
          "Match",
          "Pas match",
          "Pas match",
          "Match",
          "Match",
          "Match",
          "Match",
          "Match",
          "Match",
          "Match",
          "Match",
          "Pas match",
          "Match",
          "Match",
          "Match",
          "Match",
          "Match",
          "Match",
          "Pas match",
          "Match",
          "Match",
          "Match",
          "Match",
          "Match",
          "Match",
          "Match",
          "Match",
          "Match",
          "Match",
          "Match",
          "Match",
          "Match",
          "Pas match",
          "Match",
          "Match",
          "Match",
          "Match",
          "Match",
          "Match",
          "Match",
          "Match",
          "Match",
          "Pas match",
          "Match",
          "Match",
          "Match",
          "Match",
          "Match",
          "Match",
          "Match",
          "Pas match",
          "Match",
          "Match",
          "Pas match",
          "Pas match",
          "Match",
          "Match",
          "Match",
          "Match",
          "Match",
          "Match",
          "Match",
          "Match",
          "Pas match",
          "Pas match",
          "Match",
          "Match",
          "Match",
          "Match",
          "Match",
          "Pas match",
          "Pas match",
          "Match",
          "Pas match",
          "Match",
          "Match",
          "Pas match",
          "Match",
          "Match",
          "Match",
          "Match",
          "Match",
          "Pas match",
          "Match",
          "Match",
          "Match",
          "Match",
          "Match",
          "Match",
          "Match",
          "Match",
          "Match",
          "Match",
          "Match",
          "Match",
          "Pas match",
          "Match",
          "Pas match",
          "Match",
          "Match",
          "Pas match",
          "Match",
          "Match",
          "Match",
          "Match",
          "Match",
          "Match",
          "Match",
          "Match",
          "Match",
          "Match",
          "Match",
          "Match",
          "Match",
          "Pas match",
          "Match",
          "Match",
          "Match",
          "Match",
          "Match",
          "Match",
          "Match",
          "Match",
          "Match",
          "Match",
          "Match",
          "Pas match",
          "Pas match",
          "Match",
          "Match",
          "Match",
          "Match",
          "Match",
          "Match",
          "Match",
          "Match",
          "Match",
          "Match",
          "Match",
          "Match",
          "Match",
          "Match",
          "Match",
          "Match",
          "Match",
          "Match",
          "Match",
          "Pas match",
          "Match",
          "Pas match",
          "Match",
          "Match",
          "Pas match",
          "Match",
          "Match",
          "Match",
          "Match",
          "Match",
          "Match",
          "Match",
          "Pas match",
          "Match",
          "Match",
          "Match",
          "Match",
          "Pas match",
          "Match",
          "Pas match",
          "Match",
          "Pas match",
          "Pas match",
          "Match",
          "Match",
          "Match",
          "Match",
          "Match",
          "Match",
          "Match",
          "Match",
          "Match",
          "Match",
          "Match",
          "Match",
          "Match",
          "Match",
          "Pas match",
          "Pas match",
          "Match",
          "Match",
          "Pas match",
          "Match",
          "Pas match",
          "Pas match",
          "Match",
          "Match",
          "Match",
          "Match",
          "Pas match",
          "Match",
          "Match",
          "Match",
          "Match",
          "Match",
          "Match",
          "Match",
          "Match",
          "Match",
          "Match",
          "Match",
          "Match",
          "Match",
          "Match",
          "Match",
          "Match",
          "Match",
          "Match",
          "Match",
          "Match",
          "Pas match",
          "Match",
          "Match",
          "Match",
          "Match",
          "Match",
          "Match",
          "Match",
          "Match",
          "Match",
          "Match",
          "Match",
          "Match",
          "Match",
          "Match",
          "Match",
          "Match",
          "Pas match",
          "Match",
          "Match",
          "Match",
          "Pas match",
          "Pas match",
          "Pas match",
          "Match",
          "Match",
          "Pas match",
          "Pas match",
          "Pas match",
          "Match",
          "Pas match",
          "Match",
          "Match",
          "Match",
          "Match",
          "Match",
          "Match",
          "Match",
          "Match",
          "Pas match",
          "Match",
          "Pas match",
          "Match",
          "Match",
          "Match",
          "Match",
          "Pas match",
          "Match",
          "Match",
          "Match",
          "Match",
          "Match",
          "Match",
          "Pas match",
          "Match",
          "Pas match",
          "Match",
          "Match",
          "Match",
          "Match",
          "Pas match",
          "Match",
          "Match",
          "Match",
          "Pas match",
          "Match",
          "Pas match",
          "Match",
          "Match",
          "Match",
          "Match",
          "Match",
          "Pas match",
          "Pas match",
          "Match",
          "Match",
          "Match",
          "Match",
          "Pas match",
          "Match",
          "Match",
          "Match",
          "Match",
          "Match",
          "Match",
          "Match",
          "Match",
          "Match",
          "Match",
          "Match",
          "Match",
          "Match",
          "Match",
          "Match",
          "Match",
          "Match",
          "Pas match",
          "Match",
          "Match",
          "Match",
          "Match",
          "Match",
          "Match",
          "Match",
          "Match",
          "Match",
          "Match",
          "Pas match",
          "Match",
          "Pas match",
          "Pas match",
          "Pas match",
          "Match",
          "Pas match",
          "Pas match",
          "Match",
          "Pas match",
          "Pas match",
          "Match",
          "Match",
          "Match",
          "Match",
          "Match",
          "Match",
          "Match",
          "Match",
          "Match",
          "Match",
          "Match",
          "Pas match",
          "Match",
          "Match",
          "Match",
          "Match",
          "Match",
          "Match",
          "Match",
          "Match",
          "Match",
          "Match",
          "Match",
          "Match",
          "Match",
          "Match",
          "Match",
          "Match",
          "Match",
          "Match",
          "Pas match",
          "Match",
          "Match",
          "Match",
          "Match",
          "Match",
          "Match",
          "Match",
          "Match",
          "Match",
          "Match",
          "Match",
          "Match",
          "Match",
          "Match",
          "Match",
          "Match",
          "Match",
          "Match",
          "Pas match",
          "Match",
          "Match",
          "Match",
          "Match",
          "Match",
          "Pas match",
          "Match",
          "Pas match",
          "Match",
          "Match",
          "Match",
          "Match",
          "Match",
          "Match",
          "Match",
          "Pas match",
          "Match",
          "Match",
          "Match",
          "Match",
          "Match",
          "Match",
          "Match",
          "Match",
          "Match",
          "Pas match",
          "Match",
          "Match",
          "Match",
          "Pas match",
          "Match",
          "Match",
          "Match",
          "Pas match",
          "Match",
          "Match",
          "Pas match",
          "Match",
          "Match",
          "Match",
          "Match",
          "Match",
          "Match",
          "Match",
          "Match",
          "Match",
          "Match",
          "Match",
          "Match",
          "Pas match",
          "Match",
          "Match",
          "Match",
          "Match",
          "Pas match",
          "Match",
          "Pas match",
          "Match",
          "Match",
          "Match",
          "Pas match",
          "Match",
          "Match",
          "Match",
          "Match",
          "Match",
          "Pas match",
          "Match",
          "Match",
          "Match",
          "Match",
          "Match",
          "Match",
          "Match",
          "Match",
          "Match",
          "Match",
          "Match",
          "Match",
          "Match",
          "Match",
          "Match",
          "Match",
          "Match",
          "Match",
          "Match",
          "Pas match",
          "Match",
          "Match",
          "Match",
          "Match",
          "Match",
          "Pas match",
          "Match",
          "Pas match",
          "Match",
          "Match",
          "Pas match",
          "Match",
          "Match",
          "Match",
          "Match",
          "Pas match",
          "Match",
          "Match",
          "Match",
          "Match",
          "Match",
          "Match",
          "Match",
          "Match",
          "Pas match",
          "Match",
          "Match",
          "Match",
          "Pas match",
          "Match",
          "Match",
          "Match",
          "Match",
          "Match",
          "Match",
          "Match",
          "Match",
          "Match",
          "Match",
          "Match",
          "Pas match",
          "Pas match",
          "Match",
          "Match",
          "Match",
          "Match",
          "Match",
          "Pas match",
          "Pas match",
          "Match",
          "Pas match",
          "Match",
          "Match",
          "Match",
          "Match",
          "Match",
          "Pas match",
          "Match",
          "Match",
          "Match",
          "Match",
          "Match",
          "Match",
          "Match",
          "Match",
          "Match",
          "Match",
          "Match",
          "Match",
          "Match",
          "Pas match",
          "Match",
          "Match",
          "Match",
          "Match",
          "Match",
          "Match",
          "Pas match",
          "Match",
          "Match",
          "Pas match",
          "Pas match",
          "Pas match",
          "Match",
          "Match",
          "Pas match",
          "Pas match",
          "Match",
          "Match",
          "Match",
          "Pas match",
          "Pas match",
          "Match",
          "Match",
          "Pas match",
          "Pas match",
          "Match",
          "Match",
          "Pas match",
          "Match",
          "Match",
          "Match",
          "Pas match",
          "Match",
          "Match",
          "Pas match",
          "Match",
          "Match",
          "Match",
          "Match",
          "Match",
          "Match",
          "Pas match",
          "Match",
          "Match",
          "Match",
          "Match",
          "Pas match",
          "Match",
          "Match",
          "Match",
          "Pas match",
          "Match",
          "Match",
          "Match",
          "Pas match",
          "Pas match",
          "Match",
          "Match",
          "Match",
          "Pas match",
          "Match",
          "Match",
          "Pas match",
          "Match",
          "Match",
          "Match",
          "Match",
          "Match",
          "Match",
          "Pas match",
          "Pas match",
          "Match",
          "Match",
          "Match",
          "Match",
          "Match",
          "Pas match",
          "Pas match",
          "Pas match",
          "Pas match",
          "Match",
          "Match",
          "Match",
          "Match",
          "Pas match",
          "Pas match",
          "Match",
          "Match",
          "Match",
          "Match",
          "Match",
          "Pas match",
          "Match",
          "Match",
          "Match",
          "Match",
          "Match",
          "Match",
          "Match",
          "Match",
          "Match",
          "Match",
          "Match",
          "Match",
          "Match",
          "Match",
          "Pas match",
          "Match",
          "Match",
          "Match",
          "Match",
          "Match",
          "Match",
          "Match",
          "Pas match",
          "Match",
          "Match",
          "Match",
          "Match",
          "Pas match",
          "Match",
          "Match",
          "Match",
          "Match",
          "Match",
          "Pas match",
          "Match",
          "Match",
          "Match",
          "Match",
          "Match",
          "Pas match",
          "Match",
          "Match",
          "Pas match",
          "Match",
          "Match",
          "Match",
          "Match",
          "Pas match",
          "Match",
          "Match",
          "Match",
          "Match",
          "Match",
          "Match",
          "Match",
          "Match",
          "Match",
          "Match",
          "Match",
          "Pas match",
          "Match",
          "Match",
          "Pas match",
          "Pas match",
          "Pas match",
          "Match",
          "Match",
          "Match",
          "Match",
          "Match",
          "Match",
          "Match",
          "Match",
          "Match",
          "Match",
          "Match",
          "Match",
          "Match",
          "Match",
          "Match",
          "Match",
          "Match",
          "Match",
          "Match",
          "Match",
          "Match",
          "Match",
          "Match",
          "Match",
          "Match",
          "Pas match",
          "Match",
          "Match",
          "Match",
          "Match",
          "Match",
          "Match",
          "Match",
          "Match",
          "Match",
          "Match",
          "Match",
          "Pas match",
          "Match",
          "Pas match",
          "Match",
          "Match",
          "Match",
          "Match",
          "Match",
          "Match",
          "Match",
          "Match",
          "Pas match",
          "Match",
          "Match",
          "Match",
          "Match",
          "Match",
          "Match",
          "Match",
          "Match",
          "Match",
          "Match",
          "Match",
          "Match",
          "Match",
          "Match",
          "Match",
          "Match",
          "Pas match",
          "Pas match",
          "Match",
          "Match",
          "Match",
          "Match",
          "Match",
          "Pas match",
          "Match",
          "Match",
          "Match",
          "Match",
          "Match",
          "Match",
          "Match",
          "Match",
          "Match",
          "Match",
          "Match",
          "Match",
          "Match",
          "Match",
          "Match",
          "Match",
          "Match",
          "Match",
          "Match",
          "Match",
          "Match",
          "Pas match",
          "Match",
          "Match",
          "Match",
          "Match",
          "Match",
          "Match",
          "Match",
          "Match",
          "Match",
          "Match",
          "Match",
          "Match",
          "Match",
          "Match",
          "Match",
          "Match",
          "Match",
          "Pas match",
          "Match",
          "Pas match",
          "Match",
          "Match",
          "Match",
          "Match",
          "Match",
          "Match",
          "Match",
          "Match",
          "Match",
          "Match",
          "Match",
          "Match",
          "Match",
          "Match",
          "Match",
          "Match",
          "Match",
          "Match",
          "Match",
          "Match",
          "Match",
          "Match",
          "Pas match",
          "Match",
          "Match",
          "Pas match",
          "Match",
          "Match",
          "Match",
          "Match",
          "Match",
          "Match",
          "Match",
          "Match",
          "Match",
          "Match",
          "Match",
          "Match",
          "Match",
          "Match",
          "Match",
          "Match",
          "Match",
          "Match",
          "Pas match",
          "Match",
          "Match",
          "Match",
          "Match",
          "Pas match",
          "Match",
          "Match",
          "Match",
          "Match",
          "Match",
          "Match",
          "Match",
          "Match",
          "Pas match",
          "Match",
          "Pas match",
          "Match",
          "Pas match",
          "Match",
          "Match",
          "Match",
          "Match",
          "Match",
          "Pas match",
          "Match",
          "Pas match",
          "Match",
          "Match",
          "Pas match",
          "Match",
          "Match",
          "Match",
          "Pas match",
          "Match",
          "Match",
          "Match",
          "Match",
          "Match",
          "Match",
          "Match",
          "Pas match",
          "Match",
          "Match",
          "Match",
          "Match",
          "Pas match",
          "Match",
          "Pas match",
          "Match",
          "Match",
          "Match",
          "Pas match",
          "Match",
          "Match",
          "Pas match",
          "Match",
          "Pas match",
          "Match",
          "Match",
          "Pas match",
          "Match",
          "Pas match",
          "Match",
          "Match",
          "Pas match",
          "Match",
          "Match",
          "Match",
          "Match",
          "Match",
          "Pas match",
          "Match",
          "Pas match",
          "Match",
          "Pas match",
          "Pas match",
          "Pas match",
          "Match",
          "Match",
          "Match",
          "Pas match",
          "Match",
          "Pas match",
          "Match",
          "Match",
          "Match",
          "Match",
          "Match",
          "Match",
          "Match",
          "Match",
          "Match",
          "Match",
          "Match",
          "Match",
          "Match",
          "Match",
          "Pas match",
          "Match",
          "Match",
          "Match",
          "Match",
          "Pas match",
          "Match",
          "Pas match",
          "Match",
          "Match",
          "Match",
          "Pas match",
          "Match",
          "Match",
          "Pas match",
          "Pas match",
          "Match",
          "Match",
          "Pas match",
          "Pas match",
          "Match",
          "Pas match",
          "Match",
          "Match",
          "Match",
          "Pas match",
          "Match",
          "Match",
          "Match",
          "Match",
          "Match",
          "Match",
          "Match",
          "Match",
          "Match",
          "Match",
          "Match",
          "Match",
          "Match",
          "Match",
          "Match",
          "Match",
          "Match",
          "Pas match",
          "Match",
          "Pas match",
          "Pas match",
          "Match",
          "Match",
          "Pas match",
          "Match",
          "Match",
          "Match",
          "Pas match",
          "Pas match",
          "Pas match",
          "Match",
          "Match",
          "Pas match",
          "Match",
          "Match",
          "Match",
          "Match",
          "Match",
          "Match",
          "Match",
          "Match",
          "Match",
          "Pas match",
          "Match",
          "Match",
          "Match",
          "Match",
          "Match",
          "Match",
          "Match",
          "Match",
          "Match",
          "Pas match",
          "Pas match",
          "Match",
          "Match",
          "Match",
          "Match",
          "Match",
          "Match",
          "Match",
          "Match",
          "Match",
          "Match",
          "Match",
          "Match",
          "Match",
          "Pas match",
          "Match",
          "Match",
          "Match",
          "Match",
          "Match",
          "Match",
          "Pas match",
          "Match",
          "Match",
          "Match",
          "Match",
          "Match",
          "Pas match",
          "Match",
          "Match",
          "Match",
          "Match",
          "Match",
          "Match",
          "Match",
          "Match",
          "Match",
          "Match",
          "Match",
          "Pas match",
          "Pas match",
          "Match",
          "Match",
          "Match",
          "Match",
          "Pas match",
          "Match",
          "Match",
          "Pas match",
          "Match",
          "Match",
          "Match",
          "Match",
          "Match",
          "Match",
          "Match",
          "Pas match",
          "Match",
          "Match",
          "Match",
          "Match",
          "Match",
          "Match",
          "Match",
          "Match",
          "Pas match",
          "Match",
          "Match",
          "Match",
          "Match",
          "Match",
          "Match",
          "Match",
          "Match",
          "Match",
          "Match",
          "Match",
          "Match",
          "Match",
          "Match",
          "Pas match",
          "Match",
          "Match",
          "Match",
          "Match",
          "Match",
          "Pas match",
          "Match",
          "Match",
          "Match",
          "Match",
          "Match",
          "Match",
          "Match",
          "Match",
          "Match",
          "Match",
          "Match",
          "Match",
          "Match",
          "Match",
          "Match",
          "Match",
          "Match",
          "Match",
          "Match",
          "Match",
          "Pas match",
          "Match",
          "Match",
          "Match",
          "Match",
          "Match",
          "Pas match",
          "Match",
          "Match",
          "Match",
          "Match",
          "Match",
          "Pas match",
          "Match",
          "Match",
          "Pas match",
          "Match",
          "Match",
          "Match",
          "Match",
          "Match",
          "Match",
          "Pas match",
          "Match",
          "Match",
          "Match",
          "Match",
          "Match",
          "Match",
          "Match",
          "Match",
          "Pas match",
          "Pas match",
          "Match",
          "Pas match",
          "Match",
          "Pas match",
          "Match",
          "Match",
          "Pas match",
          "Pas match",
          "Match",
          "Match",
          "Match",
          "Match",
          "Match",
          "Match",
          "Match",
          "Match",
          "Match",
          "Match",
          "Match",
          "Match",
          "Pas match",
          "Match",
          "Match",
          "Match",
          "Match",
          "Match",
          "Match",
          "Match",
          "Match",
          "Pas match",
          "Match",
          "Match",
          "Match",
          "Pas match",
          "Pas match",
          "Match",
          "Match",
          "Pas match",
          "Match",
          "Pas match",
          "Match",
          "Match",
          "Match",
          "Match",
          "Match",
          "Pas match",
          "Match",
          "Match",
          "Match",
          "Match",
          "Match",
          "Match",
          "Match",
          "Match",
          "Match",
          "Match",
          "Match",
          "Pas match",
          "Match",
          "Match",
          "Match",
          "Match",
          "Match",
          "Match",
          "Match",
          "Pas match",
          "Match",
          "Match",
          "Match",
          "Match",
          "Match",
          "Match",
          "Match",
          "Match",
          "Match",
          "Match",
          "Match",
          "Match",
          "Match",
          "Match",
          "Match",
          "Match",
          "Match",
          "Match",
          "Match",
          "Match",
          "Match",
          "Match",
          "Match",
          "Match",
          "Match",
          "Match",
          "Match",
          "Match",
          "Match",
          "Match",
          "Match",
          "Pas match",
          "Match",
          "Match",
          "Match",
          "Match",
          "Match",
          "Match",
          "Pas match",
          "Pas match",
          "Pas match",
          "Pas match",
          "Match",
          "Pas match",
          "Match",
          "Pas match",
          "Pas match",
          "Match",
          "Pas match",
          "Match",
          "Pas match",
          "Match",
          "Match",
          "Match",
          "Match",
          "Match",
          "Match",
          "Match",
          "Match",
          "Match",
          "Match",
          "Match",
          "Match",
          "Match",
          "Match",
          "Match",
          "Match",
          "Match",
          "Match",
          "Match",
          "Match",
          "Match",
          "Pas match",
          "Match",
          "Pas match",
          "Match",
          "Match",
          "Pas match",
          "Match",
          "Match",
          "Match",
          "Match",
          "Match",
          "Match",
          "Match",
          "Pas match",
          "Match",
          "Pas match",
          "Match",
          "Match",
          "Match",
          "Match",
          "Match",
          "Match",
          "Pas match",
          "Match",
          "Match",
          "Pas match",
          "Match",
          "Match",
          "Match",
          "Match",
          "Match",
          "Match",
          "Match",
          "Match",
          "Match",
          "Match",
          "Match",
          "Match",
          "Pas match",
          "Match",
          "Match",
          "Pas match",
          "Match",
          "Pas match",
          "Match",
          "Pas match",
          "Match",
          "Match",
          "Match",
          "Match",
          "Match",
          "Match",
          "Pas match",
          "Match",
          "Pas match",
          "Pas match",
          "Match",
          "Match",
          "Pas match",
          "Pas match",
          "Match",
          "Match",
          "Match",
          "Pas match",
          "Match",
          "Match",
          "Match",
          "Match",
          "Match",
          "Match",
          "Match",
          "Match",
          "Match",
          "Match",
          "Match",
          "Match",
          "Match",
          "Pas match",
          "Match",
          "Match",
          "Match",
          "Pas match",
          "Match",
          "Pas match",
          "Match",
          "Match",
          "Match",
          "Match",
          "Match",
          "Match",
          "Match",
          "Match",
          "Match",
          "Match",
          "Match",
          "Match",
          "Match",
          "Pas match",
          "Match",
          "Match",
          "Match",
          "Match",
          "Match",
          "Match",
          "Match",
          "Match",
          "Match",
          "Match",
          "Match",
          "Match",
          "Match",
          "Pas match",
          "Pas match",
          "Match",
          "Pas match",
          "Pas match",
          "Match",
          "Match",
          "Match",
          "Match",
          "Match",
          "Match",
          "Match",
          "Match",
          "Match",
          "Match",
          "Match",
          "Match",
          "Match",
          "Match",
          "Match",
          "Match",
          "Match",
          "Match",
          "Match",
          "Pas match",
          "Match",
          "Match",
          "Match",
          "Match",
          "Match",
          "Match",
          "Match",
          "Match",
          "Match",
          "Pas match",
          "Pas match",
          "Match",
          "Pas match",
          "Pas match",
          "Match",
          "Pas match",
          "Match",
          "Match",
          "Pas match",
          "Match",
          "Match",
          "Pas match",
          "Match",
          "Match",
          "Pas match",
          "Match",
          "Match",
          "Match",
          "Match",
          "Match",
          "Match",
          "Match",
          "Match",
          "Match",
          "Match",
          "Match",
          "Pas match",
          "Match",
          "Match",
          "Match",
          "Match",
          "Match",
          "Match",
          "Pas match",
          "Pas match",
          "Pas match",
          "Match",
          "Pas match",
          "Match",
          "Pas match",
          "Pas match",
          "Pas match",
          "Match",
          "Match",
          "Match",
          "Match",
          "Match",
          "Match",
          "Match",
          "Match",
          "Match",
          "Match",
          "Match",
          "Match",
          "Match",
          "Match",
          "Match",
          "Pas match",
          "Match",
          "Match",
          "Match",
          "Match",
          "Match",
          "Match",
          "Match",
          "Pas match",
          "Match",
          "Pas match",
          "Match",
          "Match",
          "Match",
          "Match",
          "Match",
          "Match",
          "Pas match",
          "Match",
          "Match",
          "Match",
          "Match",
          "Pas match",
          "Match",
          "Pas match",
          "Pas match",
          "Match",
          "Pas match",
          "Pas match",
          "Match",
          "Pas match",
          "Match",
          "Match",
          "Match",
          "Match",
          "Pas match",
          "Pas match",
          "Match",
          "Match",
          "Match",
          "Pas match",
          "Match",
          "Match",
          "Match",
          "Match",
          "Match",
          "Match",
          "Match",
          "Pas match",
          "Match",
          "Match",
          "Match",
          "Match",
          "Match",
          "Match",
          "Match",
          "Match",
          "Match",
          "Match",
          "Match",
          "Pas match",
          "Match",
          "Match",
          "Match",
          "Match",
          "Pas match",
          "Pas match",
          "Match",
          "Match",
          "Match",
          "Match",
          "Match",
          "Match",
          "Match",
          "Match",
          "Match",
          "Match",
          "Match",
          "Match",
          "Match",
          "Match",
          "Match",
          "Match",
          "Match",
          "Match",
          "Match",
          "Match",
          "Match",
          "Pas match",
          "Match",
          "Match",
          "Match",
          "Match",
          "Match",
          "Pas match",
          "Match",
          "Match",
          "Match",
          "Match",
          "Match",
          "Match",
          "Match",
          "Pas match",
          "Match",
          "Match",
          "Pas match",
          "Pas match",
          "Match",
          "Match",
          "Match",
          "Pas match",
          "Match",
          "Pas match",
          "Pas match",
          "Match",
          "Match",
          "Pas match",
          "Match",
          "Match",
          "Match",
          "Pas match",
          "Match",
          "Match",
          "Match",
          "Match",
          "Match",
          "Match",
          "Match",
          "Match",
          "Match",
          "Match",
          "Match",
          "Match",
          "Match",
          "Match",
          "Pas match",
          "Match",
          "Match",
          "Match",
          "Match",
          "Match",
          "Match",
          "Match",
          "Pas match",
          "Match",
          "Match",
          "Match",
          "Match",
          "Match",
          "Match",
          "Pas match",
          "Pas match",
          "Match",
          "Match",
          "Match",
          "Match",
          "Match",
          "Match",
          "Match",
          "Match",
          "Match",
          "Match",
          "Match",
          "Match",
          "Pas match",
          "Pas match",
          "Match",
          "Match",
          "Match",
          "Match",
          "Match",
          "Pas match",
          "Pas match",
          "Match",
          "Match",
          "Match",
          "Match",
          "Match",
          "Pas match",
          "Match",
          "Match",
          "Match",
          "Match",
          "Match",
          "Match",
          "Match",
          "Match",
          "Match",
          "Match",
          "Match",
          "Pas match",
          "Match",
          "Match",
          "Match",
          "Pas match",
          "Match",
          "Match",
          "Match",
          "Match",
          "Match",
          "Match",
          "Match",
          "Match",
          "Pas match",
          "Pas match",
          "Match",
          "Pas match",
          "Match",
          "Match",
          "Match",
          "Match",
          "Match",
          "Match",
          "Match",
          "Match",
          "Match",
          "Match",
          "Match",
          "Match",
          "Match",
          "Match",
          "Match",
          "Match",
          "Match",
          "Match",
          "Match",
          "Match",
          "Pas match",
          "Match",
          "Pas match",
          "Match",
          "Match",
          "Match",
          "Pas match",
          "Pas match",
          "Pas match",
          "Match",
          "Match",
          "Match",
          "Pas match",
          "Match",
          "Match",
          "Match",
          "Match",
          "Match",
          "Match",
          "Match",
          "Match",
          "Match",
          "Match",
          "Match",
          "Match",
          "Match",
          "Match",
          "Match",
          "Match",
          "Match",
          "Match",
          "Match",
          "Match",
          "Match",
          "Match",
          "Match",
          "Match",
          "Pas match",
          "Match",
          "Match",
          "Match",
          "Match",
          "Match",
          "Match",
          "Pas match",
          "Match",
          "Match",
          "Pas match",
          "Pas match",
          "Match",
          "Match",
          "Match",
          "Match",
          "Pas match",
          "Pas match",
          "Match",
          "Match",
          "Match",
          "Match",
          "Pas match",
          "Match",
          "Match",
          "Match",
          "Match",
          "Match",
          "Match",
          "Pas match",
          "Match",
          "Match",
          "Match",
          "Pas match",
          "Pas match",
          "Pas match",
          "Match",
          "Pas match",
          "Match",
          "Match",
          "Match",
          "Match",
          "Match",
          "Pas match",
          "Pas match",
          "Match",
          "Match",
          "Match",
          "Match",
          "Match",
          "Pas match",
          "Match",
          "Match",
          "Match",
          "Match",
          "Match",
          "Pas match",
          "Match",
          "Match",
          "Match",
          "Match",
          "Match",
          "Match",
          "Match",
          "Match",
          "Match",
          "Match",
          "Match",
          "Match",
          "Match",
          "Pas match",
          "Match",
          "Match",
          "Match",
          "Match",
          "Match",
          "Match",
          "Match",
          "Match",
          "Match",
          "Pas match",
          "Match",
          "Match",
          "Match",
          "Match",
          "Match",
          "Match",
          "Match",
          "Match",
          "Match",
          "Match",
          "Match",
          "Match",
          "Match",
          "Match",
          "Match",
          "Match",
          "Match",
          "Match",
          "Match",
          "Pas match",
          "Match",
          "Match",
          "Match",
          "Match",
          "Match",
          "Match",
          "Match",
          "Match",
          "Match",
          "Match",
          "Match",
          "Match",
          "Match",
          "Pas match",
          "Match",
          "Pas match",
          "Match",
          "Match",
          "Match",
          "Match",
          "Match",
          "Match",
          "Match",
          "Match",
          "Match",
          "Pas match",
          "Match",
          "Match",
          "Match",
          "Match",
          "Match",
          "Match",
          "Match",
          "Match",
          "Match",
          "Match",
          "Match",
          "Match",
          "Match",
          "Pas match",
          "Match",
          "Match",
          "Match",
          "Match",
          "Match",
          "Match",
          "Match",
          "Match",
          "Match",
          "Match",
          "Match",
          "Pas match",
          "Match",
          "Match",
          "Match",
          "Match",
          "Match",
          "Match",
          "Match",
          "Match",
          "Match",
          "Match",
          "Match",
          "Match",
          "Match",
          "Match",
          "Match",
          "Match",
          "Match",
          "Match",
          "Match",
          "Match",
          "Match",
          "Match",
          "Pas match",
          "Pas match",
          "Match",
          "Match",
          "Match",
          "Match",
          "Match",
          "Match",
          "Pas match",
          "Pas match",
          "Pas match",
          "Pas match",
          "Match",
          "Match",
          "Pas match",
          "Match",
          "Pas match",
          "Match",
          "Match",
          "Match",
          "Match",
          "Match",
          "Match",
          "Match",
          "Match",
          "Match",
          "Pas match",
          "Match",
          "Pas match",
          "Match",
          "Match",
          "Match",
          "Match",
          "Match",
          "Pas match",
          "Match",
          "Match",
          "Match",
          "Pas match",
          "Match",
          "Pas match",
          "Pas match",
          "Pas match",
          "Match",
          "Match",
          "Match",
          "Pas match",
          "Match",
          "Match",
          "Match",
          "Match",
          "Match",
          "Pas match",
          "Pas match",
          "Match",
          "Pas match",
          "Match",
          "Match",
          "Match",
          "Pas match",
          "Match",
          "Match",
          "Match",
          "Match",
          "Match",
          "Match",
          "Match",
          "Match",
          "Pas match",
          "Match",
          "Match",
          "Match",
          "Match",
          "Match",
          "Match",
          "Match",
          "Pas match",
          "Match",
          "Match",
          "Match",
          "Match",
          "Match",
          "Match",
          "Match",
          "Match",
          "Match",
          "Pas match",
          "Match",
          "Match",
          "Match",
          "Match",
          "Match",
          "Match",
          "Pas match",
          "Match",
          "Match",
          "Match",
          "Match",
          "Match",
          "Match",
          "Match",
          "Match",
          "Match",
          "Match",
          "Match",
          "Match",
          "Match",
          "Match",
          "Match",
          "Match",
          "Pas match",
          "Match",
          "Match",
          "Pas match",
          "Match",
          "Match",
          "Pas match",
          "Match",
          "Pas match",
          "Match",
          "Match",
          "Match",
          "Match",
          "Match",
          "Match",
          "Match",
          "Match",
          "Match",
          "Pas match",
          "Match",
          "Match",
          "Pas match",
          "Match",
          "Match",
          "Match",
          "Match",
          "Match",
          "Match",
          "Pas match",
          "Pas match",
          "Match",
          "Match",
          "Match",
          "Match",
          "Match",
          "Match",
          "Match",
          "Match",
          "Match",
          "Match",
          "Match",
          "Match",
          "Match",
          "Match",
          "Match",
          "Match",
          "Match",
          "Match",
          "Match",
          "Match",
          "Match",
          "Match",
          "Match",
          "Match",
          "Match",
          "Match",
          "Match",
          "Match",
          "Match",
          "Match",
          "Match",
          "Match",
          "Match",
          "Pas match",
          "Match",
          "Pas match",
          "Match",
          "Match",
          "Match",
          "Match",
          "Match",
          "Match",
          "Match",
          "Match",
          "Match",
          "Match",
          "Match",
          "Match",
          "Match",
          "Match",
          "Match",
          "Match",
          "Match",
          "Match",
          "Match",
          "Match",
          "Match",
          "Match",
          "Match",
          "Match",
          "Match",
          "Match",
          "Pas match",
          "Pas match",
          "Match",
          "Match",
          "Pas match",
          "Match",
          "Match",
          "Match",
          "Match",
          "Pas match",
          "Match",
          "Match",
          "Match",
          "Match",
          "Match",
          "Match",
          "Match",
          "Match",
          "Match",
          "Match",
          "Match",
          "Match",
          "Match",
          "Match",
          "Pas match",
          "Pas match",
          "Match",
          "Pas match",
          "Match",
          "Pas match",
          "Match",
          "Match",
          "Match",
          "Match",
          "Match",
          "Match",
          "Match",
          "Match",
          "Match",
          "Match",
          "Match",
          "Match",
          "Match",
          "Match",
          "Match",
          "Match",
          "Match",
          "Match",
          "Match",
          "Match",
          "Match",
          "Match",
          "Match",
          "Match",
          "Match",
          "Match",
          "Match",
          "Match",
          "Match",
          "Match",
          "Pas match",
          "Match",
          "Match",
          "Pas match",
          "Match",
          "Match",
          "Match",
          "Match",
          "Match",
          "Match",
          "Match",
          "Pas match",
          "Match",
          "Match",
          "Match",
          "Match",
          "Match",
          "Match",
          "Pas match",
          "Match",
          "Match",
          "Match",
          "Match",
          "Match",
          "Match",
          "Match",
          "Match",
          "Match",
          "Match",
          "Match",
          "Match",
          "Pas match",
          "Match",
          "Match",
          "Match",
          "Match",
          "Match",
          "Match",
          "Match",
          "Match",
          "Match",
          "Match",
          "Match",
          "Match",
          "Match",
          "Match",
          "Match",
          "Match",
          "Match",
          "Match",
          "Match",
          "Match",
          "Match",
          "Match",
          "Match",
          "Match",
          "Match",
          "Pas match",
          "Match",
          "Match",
          "Match",
          "Match",
          "Match",
          "Match",
          "Match",
          "Match",
          "Match",
          "Pas match",
          "Match",
          "Pas match",
          "Match",
          "Pas match",
          "Pas match",
          "Pas match",
          "Match",
          "Match",
          "Pas match",
          "Pas match",
          "Match",
          "Match",
          "Pas match",
          "Match",
          "Pas match",
          "Match",
          "Pas match",
          "Match",
          "Match",
          "Match",
          "Match",
          "Match",
          "Match",
          "Match",
          "Match",
          "Match",
          "Match",
          "Match",
          "Match",
          "Match",
          "Match",
          "Pas match",
          "Match",
          "Pas match",
          "Pas match",
          "Match",
          "Match",
          "Match",
          "Match",
          "Match",
          "Match",
          "Match",
          "Pas match",
          "Match",
          "Match",
          "Match",
          "Pas match",
          "Pas match",
          "Pas match",
          "Match",
          "Match",
          "Pas match",
          "Match",
          "Pas match",
          "Pas match",
          "Match",
          "Match",
          "Match",
          "Match",
          "Pas match",
          "Match",
          "Match",
          "Match",
          "Pas match",
          "Match",
          "Match",
          "Match",
          "Match",
          "Match",
          "Match",
          "Match",
          "Match",
          "Match",
          "Match",
          "Match",
          "Match",
          "Match",
          "Pas match",
          "Match",
          "Match",
          "Match",
          "Match",
          "Match",
          "Pas match",
          "Match",
          "Match",
          "Match",
          "Match",
          "Match",
          "Match",
          "Match",
          "Pas match",
          "Match",
          "Match",
          "Pas match",
          "Match",
          "Match",
          "Match",
          "Match",
          "Match",
          "Match",
          "Match",
          "Match",
          "Match",
          "Match",
          "Match",
          "Match",
          "Match",
          "Pas match",
          "Match",
          "Match",
          "Match",
          "Match",
          "Match",
          "Match",
          "Match",
          "Match",
          "Match",
          "Match",
          "Match",
          "Match",
          "Match",
          "Match",
          "Match",
          "Match",
          "Match",
          "Match",
          "Match",
          "Pas match",
          "Match",
          "Match",
          "Match",
          "Pas match",
          "Match",
          "Match",
          "Match",
          "Match",
          "Match",
          "Pas match",
          "Match",
          "Match",
          "Match",
          "Pas match",
          "Match",
          "Match",
          "Match",
          "Match",
          "Match",
          "Match",
          "Match",
          "Match",
          "Match",
          "Match",
          "Match",
          "Match",
          "Match",
          "Match",
          "Match",
          "Match",
          "Match",
          "Match",
          "Match",
          "Pas match",
          "Match",
          "Pas match",
          "Pas match",
          "Match",
          "Match",
          "Match",
          "Match",
          "Match",
          "Match",
          "Match",
          "Match",
          "Match",
          "Match",
          "Match",
          "Match",
          "Match",
          "Match",
          "Match",
          "Pas match",
          "Match",
          "Match",
          "Match",
          "Match",
          "Pas match",
          "Match",
          "Match",
          "Match",
          "Match",
          "Match",
          "Match",
          "Pas match",
          "Match",
          "Pas match",
          "Pas match",
          "Match",
          "Match",
          "Match",
          "Match",
          "Match",
          "Match",
          "Match",
          "Pas match",
          "Match",
          "Pas match",
          "Match",
          "Match",
          "Match",
          "Pas match",
          "Match",
          "Match",
          "Pas match",
          "Match",
          "Match",
          "Pas match",
          "Match",
          "Pas match",
          "Match",
          "Pas match",
          "Match",
          "Match",
          "Match",
          "Match",
          "Match",
          "Pas match",
          "Match",
          "Match",
          "Pas match",
          "Match",
          "Match",
          "Pas match",
          "Match",
          "Match",
          "Match",
          "Pas match",
          "Pas match",
          "Match",
          "Match",
          "Match",
          "Match",
          "Match",
          "Match",
          "Pas match",
          "Match",
          "Match",
          "Match",
          "Match",
          "Match",
          "Pas match",
          "Match",
          "Match",
          "Match",
          "Match",
          "Match",
          "Match",
          "Match",
          "Match",
          "Match",
          "Match",
          "Match",
          "Match",
          "Match",
          "Match",
          "Match",
          "Match",
          "Match",
          "Match",
          "Match",
          "Match",
          "Pas match",
          "Match",
          "Match",
          "Match",
          "Match",
          "Match",
          "Match",
          "Match",
          "Pas match",
          "Match",
          "Pas match",
          "Match",
          "Pas match",
          "Match",
          "Match",
          "Match",
          "Match",
          "Match",
          "Match",
          "Match",
          "Match",
          "Pas match",
          "Match",
          "Match",
          "Match",
          "Pas match",
          "Match",
          "Pas match",
          "Match",
          "Match",
          "Match",
          "Match",
          "Match",
          "Match",
          "Match",
          "Match",
          "Match",
          "Match",
          "Match",
          "Match",
          "Match",
          "Match",
          "Match",
          "Match",
          "Match",
          "Match",
          "Match",
          "Match",
          "Match",
          "Match",
          "Match",
          "Match",
          "Match",
          "Match",
          "Pas match",
          "Match",
          "Match",
          "Match",
          "Match",
          "Match",
          "Match",
          "Match",
          "Match",
          "Match",
          "Match",
          "Match",
          "Match",
          "Match",
          "Match",
          "Match",
          "Match",
          "Pas match",
          "Match",
          "Match",
          "Match",
          "Match",
          "Pas match",
          "Pas match",
          "Match",
          "Match",
          "Match",
          "Match",
          "Pas match",
          "Match",
          "Match",
          "Match",
          "Match",
          "Match",
          "Match",
          "Match",
          "Pas match",
          "Match",
          "Pas match",
          "Pas match",
          "Match",
          "Match",
          "Match",
          "Match",
          "Match",
          "Match",
          "Match",
          "Match",
          "Match",
          "Match",
          "Match",
          "Match",
          "Match",
          "Match",
          "Match",
          "Match",
          "Match",
          "Match",
          "Match",
          "Match",
          "Match",
          "Match",
          "Match",
          "Match",
          "Match",
          "Match",
          "Pas match",
          "Match",
          "Match",
          "Match",
          "Match",
          "Match",
          "Match",
          "Match",
          "Match",
          "Match",
          "Match",
          "Pas match",
          "Pas match",
          "Pas match",
          "Pas match",
          "Pas match",
          "Match",
          "Match",
          "Match",
          "Match",
          "Match",
          "Match",
          "Match",
          "Match",
          "Match",
          "Match",
          "Match",
          "Match",
          "Match",
          "Match",
          "Match",
          "Match",
          "Match",
          "Match",
          "Match",
          "Match",
          "Match",
          "Match",
          "Match",
          "Match",
          "Match",
          "Match",
          "Match",
          "Match",
          "Match",
          "Match",
          "Match",
          "Match",
          "Match",
          "Match",
          "Match",
          "Match",
          "Match",
          "Match",
          "Match",
          "Match",
          "Match",
          "Match",
          "Match",
          "Match",
          "Match",
          "Match",
          "Match",
          "Match",
          "Match",
          "Pas match",
          "Pas match",
          "Match",
          "Match",
          "Pas match",
          "Match",
          "Match",
          "Match",
          "Match",
          "Match",
          "Match",
          "Pas match",
          "Match",
          "Match",
          "Pas match",
          "Match",
          "Pas match",
          "Pas match",
          "Match",
          "Match",
          "Match",
          "Match",
          "Match",
          "Match",
          "Match",
          "Match",
          "Match",
          "Pas match",
          "Match",
          "Match",
          "Match",
          "Match",
          "Pas match",
          "Pas match",
          "Pas match",
          "Match",
          "Match",
          "Pas match",
          "Match",
          "Match",
          "Match",
          "Match",
          "Pas match",
          "Match",
          "Match",
          "Match",
          "Match",
          "Match",
          "Match",
          "Match",
          "Match",
          "Match",
          "Match",
          "Match",
          "Pas match",
          "Match",
          "Match",
          "Match",
          "Match",
          "Match",
          "Match",
          "Match",
          "Match",
          "Pas match",
          "Pas match",
          "Match",
          "Pas match",
          "Pas match",
          "Pas match",
          "Match",
          "Pas match",
          "Pas match",
          "Match",
          "Match",
          "Pas match",
          "Match",
          "Match",
          "Match",
          "Pas match",
          "Pas match",
          "Pas match",
          "Pas match",
          "Pas match",
          "Match",
          "Pas match",
          "Match",
          "Match",
          "Match",
          "Match",
          "Match",
          "Match",
          "Match",
          "Match",
          "Match",
          "Match",
          "Match",
          "Match",
          "Match",
          "Match",
          "Match",
          "Match",
          "Match",
          "Match",
          "Match",
          "Match",
          "Match",
          "Match",
          "Match",
          "Match",
          "Match",
          "Pas match",
          "Match",
          "Match",
          "Match",
          "Match",
          "Match",
          "Match",
          "Match",
          "Pas match",
          "Match",
          "Match",
          "Match",
          "Match",
          "Match",
          "Match",
          "Match",
          "Match",
          "Match",
          "Match",
          "Match",
          "Match",
          "Match",
          "Match",
          "Match",
          "Match",
          "Match",
          "Match",
          "Match",
          "Match",
          "Match",
          "Match",
          "Match",
          "Match",
          "Match",
          "Match",
          "Match",
          "Match",
          "Match",
          "Match",
          "Match",
          "Match",
          "Match",
          "Match",
          "Match",
          "Match",
          "Match",
          "Match",
          "Match",
          "Match",
          "Match",
          "Match",
          "Match",
          "Match",
          "Match",
          "Match",
          "Match",
          "Match",
          "Match",
          "Match",
          "Match",
          "Match",
          "Match",
          "Match",
          "Match",
          "Pas match",
          "Match",
          "Pas match",
          "Match",
          "Match",
          "Match",
          "Match",
          "Match",
          "Match",
          "Match",
          "Match",
          "Match",
          "Match",
          "Match",
          "Match",
          "Match",
          "Match",
          "Match",
          "Match",
          "Match",
          "Match",
          "Match",
          "Match",
          "Match",
          "Pas match",
          "Match",
          "Match",
          "Match",
          "Match",
          "Match",
          "Match",
          "Match",
          "Match",
          "Match",
          "Pas match",
          "Match",
          "Match",
          "Match",
          "Match",
          "Match",
          "Match",
          "Match",
          "Match",
          "Match",
          "Match",
          "Match",
          "Match",
          "Match",
          "Match",
          "Match",
          "Match",
          "Match",
          "Match",
          "Match",
          "Match",
          "Match",
          "Match",
          "Match",
          "Pas match",
          "Match",
          "Match",
          "Match",
          "Match",
          "Match",
          "Match",
          "Match",
          "Match",
          "Match",
          "Match",
          "Match",
          "Match",
          "Match",
          "Match",
          "Match",
          "Match",
          "Match",
          "Match",
          "Match",
          "Match",
          "Pas match",
          "Pas match",
          "Match",
          "Match",
          "Match",
          "Match",
          "Pas match",
          "Match",
          "Match",
          "Pas match",
          "Match",
          "Match",
          "Pas match",
          "Match",
          "Match",
          "Match",
          "Match",
          "Match",
          "Match",
          "Match",
          "Match",
          "Match",
          "Match",
          "Match",
          "Match",
          "Match",
          "Match",
          "Match",
          "Match",
          "Match",
          "Match",
          "Match",
          "Pas match",
          "Match",
          "Match",
          "Match",
          "Match",
          "Match",
          "Match",
          "Match",
          "Match",
          "Match",
          "Pas match",
          "Match",
          "Match",
          "Pas match",
          "Match",
          "Pas match",
          "Match",
          "Match",
          "Pas match",
          "Pas match",
          "Pas match",
          "Match",
          "Pas match",
          "Match",
          "Pas match",
          "Match",
          "Pas match",
          "Pas match",
          "Match",
          "Pas match",
          "Match",
          "Match",
          "Pas match",
          "Match",
          "Match",
          "Pas match",
          "Match",
          "Match",
          "Match",
          "Match",
          "Match",
          "Match",
          "Match",
          "Pas match",
          "Match",
          "Match",
          "Match",
          "Match",
          "Match",
          "Pas match",
          "Match",
          "Match",
          "Match",
          "Match",
          "Match",
          "Match",
          "Match",
          "Pas match",
          "Match",
          "Match",
          "Match",
          "Match",
          "Match",
          "Match",
          "Pas match",
          "Match",
          "Match",
          "Match",
          "Pas match",
          "Match",
          "Match",
          "Match",
          "Match",
          "Match",
          "Match",
          "Match",
          "Match",
          "Match",
          "Match",
          "Match",
          "Match",
          "Match",
          "Match",
          "Match",
          "Match",
          "Match",
          "Pas match",
          "Pas match",
          "Match",
          "Match",
          "Match",
          "Match",
          "Match",
          "Match",
          "Match",
          "Match",
          "Match",
          "Match",
          "Pas match",
          "Match",
          "Match",
          "Pas match",
          "Match",
          "Match",
          "Match",
          "Match",
          "Match",
          "Match",
          "Match",
          "Match",
          "Match",
          "Match",
          "Match",
          "Match",
          "Match",
          "Match",
          "Match",
          "Match",
          "Match",
          "Match",
          "Match",
          "Pas match",
          "Match",
          "Pas match",
          "Match",
          "Match",
          "Match",
          "Match",
          "Match",
          "Match",
          "Match",
          "Pas match",
          "Match",
          "Match",
          "Match",
          "Match",
          "Match",
          "Match",
          "Match",
          "Match",
          "Match",
          "Match",
          "Match",
          "Match",
          "Match",
          "Match",
          "Match",
          "Match",
          "Match",
          "Match",
          "Match",
          "Match",
          "Match",
          "Match",
          "Match",
          "Match",
          "Match",
          "Match",
          "Match",
          "Pas match",
          "Match",
          "Match",
          "Match",
          "Match",
          "Match",
          "Match",
          "Match",
          "Match",
          "Match",
          "Match",
          "Match",
          "Match",
          "Match",
          "Match",
          "Match",
          "Match",
          "Pas match",
          "Match",
          "Match",
          "Match",
          "Match",
          "Match",
          "Match",
          "Match",
          "Match",
          "Match",
          "Match",
          "Match",
          "Match",
          "Pas match",
          "Match",
          "Pas match",
          "Match",
          "Match",
          "Match",
          "Match",
          "Match",
          "Match",
          "Match",
          "Match",
          "Match",
          "Match",
          "Match",
          "Match",
          "Match",
          "Match",
          "Match",
          "Match",
          "Match",
          "Match",
          "Match",
          "Match",
          "Match",
          "Match",
          "Match",
          "Match",
          "Match",
          "Match",
          "Match",
          "Match",
          "Match",
          "Match",
          "Match",
          "Match",
          "Match",
          "Match",
          "Match",
          "Match",
          "Match",
          "Match",
          "Match",
          "Pas match",
          "Pas match",
          "Match",
          "Match",
          "Match",
          "Match",
          "Match",
          "Match",
          "Pas match",
          "Match",
          "Match",
          "Match",
          "Match",
          "Match",
          "Match",
          "Match",
          "Match",
          "Match",
          "Match",
          "Match",
          "Match",
          "Pas match",
          "Pas match",
          "Match",
          "Match",
          "Match",
          "Match",
          "Match",
          "Match",
          "Match",
          "Match",
          "Pas match",
          "Pas match",
          "Match",
          "Match",
          "Pas match",
          "Match",
          "Match",
          "Match",
          "Match",
          "Pas match",
          "Match",
          "Match",
          "Match",
          "Pas match",
          "Match",
          "Pas match",
          "Match",
          "Match",
          "Match",
          "Match",
          "Match",
          "Match",
          "Match",
          "Match",
          "Match",
          "Pas match",
          "Match",
          "Match",
          "Match",
          "Match",
          "Match",
          "Pas match",
          "Match",
          "Match",
          "Match",
          "Match",
          "Match",
          "Pas match",
          "Match",
          "Match",
          "Match",
          "Match",
          "Match",
          "Match",
          "Pas match",
          "Match",
          "Pas match",
          "Match",
          "Match",
          "Match",
          "Match",
          "Match",
          "Match",
          "Pas match",
          "Match",
          "Match",
          "Pas match",
          "Match",
          "Match",
          "Pas match",
          "Match",
          "Match",
          "Match",
          "Match",
          "Match",
          "Match",
          "Match",
          "Pas match",
          "Match",
          "Match",
          "Match",
          "Match",
          "Match",
          "Pas match",
          "Match",
          "Pas match",
          "Match",
          "Match",
          "Match",
          "Pas match",
          "Match",
          "Pas match",
          "Match",
          "Match",
          "Match",
          "Match",
          "Match",
          "Match",
          "Match",
          "Match",
          "Match",
          "Match",
          "Pas match",
          "Match",
          "Match",
          "Match",
          "Match",
          "Pas match",
          "Match",
          "Match",
          "Pas match",
          "Match",
          "Match",
          "Pas match",
          "Match",
          "Match",
          "Match",
          "Match",
          "Match",
          "Match",
          "Match",
          "Match",
          "Match",
          "Match",
          "Match",
          "Match",
          "Match",
          "Pas match",
          "Match",
          "Match",
          "Match",
          "Match",
          "Pas match",
          "Match",
          "Match",
          "Match",
          "Match",
          "Match",
          "Match",
          "Match",
          "Match",
          "Match",
          "Pas match",
          "Pas match",
          "Match",
          "Match",
          "Pas match",
          "Match",
          "Pas match",
          "Pas match",
          "Match",
          "Match",
          "Match",
          "Match",
          "Match",
          "Match",
          "Match",
          "Pas match",
          "Match",
          "Match",
          "Match",
          "Match",
          "Match",
          "Match"
         ],
         "legendgroup": "",
         "name": "",
         "showlegend": true,
         "type": "pie"
        }
       ],
       "layout": {
        "legend": {
         "tracegroupgap": 0
        },
        "template": {
         "data": {
          "bar": [
           {
            "error_x": {
             "color": "#2a3f5f"
            },
            "error_y": {
             "color": "#2a3f5f"
            },
            "marker": {
             "line": {
              "color": "#E5ECF6",
              "width": 0.5
             },
             "pattern": {
              "fillmode": "overlay",
              "size": 10,
              "solidity": 0.2
             }
            },
            "type": "bar"
           }
          ],
          "barpolar": [
           {
            "marker": {
             "line": {
              "color": "#E5ECF6",
              "width": 0.5
             },
             "pattern": {
              "fillmode": "overlay",
              "size": 10,
              "solidity": 0.2
             }
            },
            "type": "barpolar"
           }
          ],
          "carpet": [
           {
            "aaxis": {
             "endlinecolor": "#2a3f5f",
             "gridcolor": "white",
             "linecolor": "white",
             "minorgridcolor": "white",
             "startlinecolor": "#2a3f5f"
            },
            "baxis": {
             "endlinecolor": "#2a3f5f",
             "gridcolor": "white",
             "linecolor": "white",
             "minorgridcolor": "white",
             "startlinecolor": "#2a3f5f"
            },
            "type": "carpet"
           }
          ],
          "choropleth": [
           {
            "colorbar": {
             "outlinewidth": 0,
             "ticks": ""
            },
            "type": "choropleth"
           }
          ],
          "contour": [
           {
            "colorbar": {
             "outlinewidth": 0,
             "ticks": ""
            },
            "colorscale": [
             [
              0,
              "#0d0887"
             ],
             [
              0.1111111111111111,
              "#46039f"
             ],
             [
              0.2222222222222222,
              "#7201a8"
             ],
             [
              0.3333333333333333,
              "#9c179e"
             ],
             [
              0.4444444444444444,
              "#bd3786"
             ],
             [
              0.5555555555555556,
              "#d8576b"
             ],
             [
              0.6666666666666666,
              "#ed7953"
             ],
             [
              0.7777777777777778,
              "#fb9f3a"
             ],
             [
              0.8888888888888888,
              "#fdca26"
             ],
             [
              1,
              "#f0f921"
             ]
            ],
            "type": "contour"
           }
          ],
          "contourcarpet": [
           {
            "colorbar": {
             "outlinewidth": 0,
             "ticks": ""
            },
            "type": "contourcarpet"
           }
          ],
          "heatmap": [
           {
            "colorbar": {
             "outlinewidth": 0,
             "ticks": ""
            },
            "colorscale": [
             [
              0,
              "#0d0887"
             ],
             [
              0.1111111111111111,
              "#46039f"
             ],
             [
              0.2222222222222222,
              "#7201a8"
             ],
             [
              0.3333333333333333,
              "#9c179e"
             ],
             [
              0.4444444444444444,
              "#bd3786"
             ],
             [
              0.5555555555555556,
              "#d8576b"
             ],
             [
              0.6666666666666666,
              "#ed7953"
             ],
             [
              0.7777777777777778,
              "#fb9f3a"
             ],
             [
              0.8888888888888888,
              "#fdca26"
             ],
             [
              1,
              "#f0f921"
             ]
            ],
            "type": "heatmap"
           }
          ],
          "heatmapgl": [
           {
            "colorbar": {
             "outlinewidth": 0,
             "ticks": ""
            },
            "colorscale": [
             [
              0,
              "#0d0887"
             ],
             [
              0.1111111111111111,
              "#46039f"
             ],
             [
              0.2222222222222222,
              "#7201a8"
             ],
             [
              0.3333333333333333,
              "#9c179e"
             ],
             [
              0.4444444444444444,
              "#bd3786"
             ],
             [
              0.5555555555555556,
              "#d8576b"
             ],
             [
              0.6666666666666666,
              "#ed7953"
             ],
             [
              0.7777777777777778,
              "#fb9f3a"
             ],
             [
              0.8888888888888888,
              "#fdca26"
             ],
             [
              1,
              "#f0f921"
             ]
            ],
            "type": "heatmapgl"
           }
          ],
          "histogram": [
           {
            "marker": {
             "pattern": {
              "fillmode": "overlay",
              "size": 10,
              "solidity": 0.2
             }
            },
            "type": "histogram"
           }
          ],
          "histogram2d": [
           {
            "colorbar": {
             "outlinewidth": 0,
             "ticks": ""
            },
            "colorscale": [
             [
              0,
              "#0d0887"
             ],
             [
              0.1111111111111111,
              "#46039f"
             ],
             [
              0.2222222222222222,
              "#7201a8"
             ],
             [
              0.3333333333333333,
              "#9c179e"
             ],
             [
              0.4444444444444444,
              "#bd3786"
             ],
             [
              0.5555555555555556,
              "#d8576b"
             ],
             [
              0.6666666666666666,
              "#ed7953"
             ],
             [
              0.7777777777777778,
              "#fb9f3a"
             ],
             [
              0.8888888888888888,
              "#fdca26"
             ],
             [
              1,
              "#f0f921"
             ]
            ],
            "type": "histogram2d"
           }
          ],
          "histogram2dcontour": [
           {
            "colorbar": {
             "outlinewidth": 0,
             "ticks": ""
            },
            "colorscale": [
             [
              0,
              "#0d0887"
             ],
             [
              0.1111111111111111,
              "#46039f"
             ],
             [
              0.2222222222222222,
              "#7201a8"
             ],
             [
              0.3333333333333333,
              "#9c179e"
             ],
             [
              0.4444444444444444,
              "#bd3786"
             ],
             [
              0.5555555555555556,
              "#d8576b"
             ],
             [
              0.6666666666666666,
              "#ed7953"
             ],
             [
              0.7777777777777778,
              "#fb9f3a"
             ],
             [
              0.8888888888888888,
              "#fdca26"
             ],
             [
              1,
              "#f0f921"
             ]
            ],
            "type": "histogram2dcontour"
           }
          ],
          "mesh3d": [
           {
            "colorbar": {
             "outlinewidth": 0,
             "ticks": ""
            },
            "type": "mesh3d"
           }
          ],
          "parcoords": [
           {
            "line": {
             "colorbar": {
              "outlinewidth": 0,
              "ticks": ""
             }
            },
            "type": "parcoords"
           }
          ],
          "pie": [
           {
            "automargin": true,
            "type": "pie"
           }
          ],
          "scatter": [
           {
            "fillpattern": {
             "fillmode": "overlay",
             "size": 10,
             "solidity": 0.2
            },
            "type": "scatter"
           }
          ],
          "scatter3d": [
           {
            "line": {
             "colorbar": {
              "outlinewidth": 0,
              "ticks": ""
             }
            },
            "marker": {
             "colorbar": {
              "outlinewidth": 0,
              "ticks": ""
             }
            },
            "type": "scatter3d"
           }
          ],
          "scattercarpet": [
           {
            "marker": {
             "colorbar": {
              "outlinewidth": 0,
              "ticks": ""
             }
            },
            "type": "scattercarpet"
           }
          ],
          "scattergeo": [
           {
            "marker": {
             "colorbar": {
              "outlinewidth": 0,
              "ticks": ""
             }
            },
            "type": "scattergeo"
           }
          ],
          "scattergl": [
           {
            "marker": {
             "colorbar": {
              "outlinewidth": 0,
              "ticks": ""
             }
            },
            "type": "scattergl"
           }
          ],
          "scattermapbox": [
           {
            "marker": {
             "colorbar": {
              "outlinewidth": 0,
              "ticks": ""
             }
            },
            "type": "scattermapbox"
           }
          ],
          "scatterpolar": [
           {
            "marker": {
             "colorbar": {
              "outlinewidth": 0,
              "ticks": ""
             }
            },
            "type": "scatterpolar"
           }
          ],
          "scatterpolargl": [
           {
            "marker": {
             "colorbar": {
              "outlinewidth": 0,
              "ticks": ""
             }
            },
            "type": "scatterpolargl"
           }
          ],
          "scatterternary": [
           {
            "marker": {
             "colorbar": {
              "outlinewidth": 0,
              "ticks": ""
             }
            },
            "type": "scatterternary"
           }
          ],
          "surface": [
           {
            "colorbar": {
             "outlinewidth": 0,
             "ticks": ""
            },
            "colorscale": [
             [
              0,
              "#0d0887"
             ],
             [
              0.1111111111111111,
              "#46039f"
             ],
             [
              0.2222222222222222,
              "#7201a8"
             ],
             [
              0.3333333333333333,
              "#9c179e"
             ],
             [
              0.4444444444444444,
              "#bd3786"
             ],
             [
              0.5555555555555556,
              "#d8576b"
             ],
             [
              0.6666666666666666,
              "#ed7953"
             ],
             [
              0.7777777777777778,
              "#fb9f3a"
             ],
             [
              0.8888888888888888,
              "#fdca26"
             ],
             [
              1,
              "#f0f921"
             ]
            ],
            "type": "surface"
           }
          ],
          "table": [
           {
            "cells": {
             "fill": {
              "color": "#EBF0F8"
             },
             "line": {
              "color": "white"
             }
            },
            "header": {
             "fill": {
              "color": "#C8D4E3"
             },
             "line": {
              "color": "white"
             }
            },
            "type": "table"
           }
          ]
         },
         "layout": {
          "annotationdefaults": {
           "arrowcolor": "#2a3f5f",
           "arrowhead": 0,
           "arrowwidth": 1
          },
          "autotypenumbers": "strict",
          "coloraxis": {
           "colorbar": {
            "outlinewidth": 0,
            "ticks": ""
           }
          },
          "colorscale": {
           "diverging": [
            [
             0,
             "#8e0152"
            ],
            [
             0.1,
             "#c51b7d"
            ],
            [
             0.2,
             "#de77ae"
            ],
            [
             0.3,
             "#f1b6da"
            ],
            [
             0.4,
             "#fde0ef"
            ],
            [
             0.5,
             "#f7f7f7"
            ],
            [
             0.6,
             "#e6f5d0"
            ],
            [
             0.7,
             "#b8e186"
            ],
            [
             0.8,
             "#7fbc41"
            ],
            [
             0.9,
             "#4d9221"
            ],
            [
             1,
             "#276419"
            ]
           ],
           "sequential": [
            [
             0,
             "#0d0887"
            ],
            [
             0.1111111111111111,
             "#46039f"
            ],
            [
             0.2222222222222222,
             "#7201a8"
            ],
            [
             0.3333333333333333,
             "#9c179e"
            ],
            [
             0.4444444444444444,
             "#bd3786"
            ],
            [
             0.5555555555555556,
             "#d8576b"
            ],
            [
             0.6666666666666666,
             "#ed7953"
            ],
            [
             0.7777777777777778,
             "#fb9f3a"
            ],
            [
             0.8888888888888888,
             "#fdca26"
            ],
            [
             1,
             "#f0f921"
            ]
           ],
           "sequentialminus": [
            [
             0,
             "#0d0887"
            ],
            [
             0.1111111111111111,
             "#46039f"
            ],
            [
             0.2222222222222222,
             "#7201a8"
            ],
            [
             0.3333333333333333,
             "#9c179e"
            ],
            [
             0.4444444444444444,
             "#bd3786"
            ],
            [
             0.5555555555555556,
             "#d8576b"
            ],
            [
             0.6666666666666666,
             "#ed7953"
            ],
            [
             0.7777777777777778,
             "#fb9f3a"
            ],
            [
             0.8888888888888888,
             "#fdca26"
            ],
            [
             1,
             "#f0f921"
            ]
           ]
          },
          "colorway": [
           "#636efa",
           "#EF553B",
           "#00cc96",
           "#ab63fa",
           "#FFA15A",
           "#19d3f3",
           "#FF6692",
           "#B6E880",
           "#FF97FF",
           "#FECB52"
          ],
          "font": {
           "color": "#2a3f5f"
          },
          "geo": {
           "bgcolor": "white",
           "lakecolor": "white",
           "landcolor": "#E5ECF6",
           "showlakes": true,
           "showland": true,
           "subunitcolor": "white"
          },
          "hoverlabel": {
           "align": "left"
          },
          "hovermode": "closest",
          "mapbox": {
           "style": "light"
          },
          "paper_bgcolor": "white",
          "plot_bgcolor": "#E5ECF6",
          "polar": {
           "angularaxis": {
            "gridcolor": "white",
            "linecolor": "white",
            "ticks": ""
           },
           "bgcolor": "#E5ECF6",
           "radialaxis": {
            "gridcolor": "white",
            "linecolor": "white",
            "ticks": ""
           }
          },
          "scene": {
           "xaxis": {
            "backgroundcolor": "#E5ECF6",
            "gridcolor": "white",
            "gridwidth": 2,
            "linecolor": "white",
            "showbackground": true,
            "ticks": "",
            "zerolinecolor": "white"
           },
           "yaxis": {
            "backgroundcolor": "#E5ECF6",
            "gridcolor": "white",
            "gridwidth": 2,
            "linecolor": "white",
            "showbackground": true,
            "ticks": "",
            "zerolinecolor": "white"
           },
           "zaxis": {
            "backgroundcolor": "#E5ECF6",
            "gridcolor": "white",
            "gridwidth": 2,
            "linecolor": "white",
            "showbackground": true,
            "ticks": "",
            "zerolinecolor": "white"
           }
          },
          "shapedefaults": {
           "line": {
            "color": "#2a3f5f"
           }
          },
          "ternary": {
           "aaxis": {
            "gridcolor": "white",
            "linecolor": "white",
            "ticks": ""
           },
           "baxis": {
            "gridcolor": "white",
            "linecolor": "white",
            "ticks": ""
           },
           "bgcolor": "#E5ECF6",
           "caxis": {
            "gridcolor": "white",
            "linecolor": "white",
            "ticks": ""
           }
          },
          "title": {
           "x": 0.05
          },
          "xaxis": {
           "automargin": true,
           "gridcolor": "white",
           "linecolor": "white",
           "ticks": "",
           "title": {
            "standoff": 15
           },
           "zerolinecolor": "white",
           "zerolinewidth": 2
          },
          "yaxis": {
           "automargin": true,
           "gridcolor": "white",
           "linecolor": "white",
           "ticks": "",
           "title": {
            "standoff": 15
           },
           "zerolinecolor": "white",
           "zerolinewidth": 2
          }
         }
        },
        "title": {
         "text": "Répartition des match en %"
        }
       }
      }
     },
     "metadata": {},
     "output_type": "display_data"
    }
   ],
   "source": [
    "px.pie(df[\"match\"].map({0:\"Match\", 1:\"Pas match\"}),'match', title='Répartition des match en %')"
   ]
  },
  {
   "cell_type": "code",
   "execution_count": 10,
   "metadata": {},
   "outputs": [
    {
     "name": "stdout",
     "output_type": "stream",
     "text": [
      "Nombres de personnes dans la wave 1 : 20\n"
     ]
    }
   ],
   "source": [
    "print('Nombres de personnes dans la wave 1 :', df.query(\"wave==1\")['iid'].nunique())"
   ]
  },
  {
   "attachments": {},
   "cell_type": "markdown",
   "metadata": {},
   "source": [
    "Comme indiqué dans le doc, dans la wave 1, il y a bien 10 + 10 = 20 personnes"
   ]
  },
  {
   "attachments": {},
   "cell_type": "markdown",
   "metadata": {},
   "source": [
    "**Observons la wave 1 pour comprendre comment les rencontres sont organisées :**"
   ]
  },
  {
   "cell_type": "code",
   "execution_count": 11,
   "metadata": {},
   "outputs": [
    {
     "data": {
      "text/html": [
       "<div>\n",
       "<style scoped>\n",
       "    .dataframe tbody tr th:only-of-type {\n",
       "        vertical-align: middle;\n",
       "    }\n",
       "\n",
       "    .dataframe tbody tr th {\n",
       "        vertical-align: top;\n",
       "    }\n",
       "\n",
       "    .dataframe thead th {\n",
       "        text-align: right;\n",
       "    }\n",
       "</style>\n",
       "<table border=\"1\" class=\"dataframe\">\n",
       "  <thead>\n",
       "    <tr style=\"text-align: right;\">\n",
       "      <th></th>\n",
       "      <th>iid</th>\n",
       "      <th>order</th>\n",
       "      <th>pid</th>\n",
       "      <th>gender</th>\n",
       "      <th>match</th>\n",
       "    </tr>\n",
       "  </thead>\n",
       "  <tbody>\n",
       "    <tr>\n",
       "      <th>0</th>\n",
       "      <td>1</td>\n",
       "      <td>4</td>\n",
       "      <td>11.0</td>\n",
       "      <td>0</td>\n",
       "      <td>0</td>\n",
       "    </tr>\n",
       "    <tr>\n",
       "      <th>1</th>\n",
       "      <td>1</td>\n",
       "      <td>3</td>\n",
       "      <td>12.0</td>\n",
       "      <td>0</td>\n",
       "      <td>0</td>\n",
       "    </tr>\n",
       "    <tr>\n",
       "      <th>2</th>\n",
       "      <td>1</td>\n",
       "      <td>10</td>\n",
       "      <td>13.0</td>\n",
       "      <td>0</td>\n",
       "      <td>1</td>\n",
       "    </tr>\n",
       "    <tr>\n",
       "      <th>3</th>\n",
       "      <td>1</td>\n",
       "      <td>5</td>\n",
       "      <td>14.0</td>\n",
       "      <td>0</td>\n",
       "      <td>1</td>\n",
       "    </tr>\n",
       "    <tr>\n",
       "      <th>4</th>\n",
       "      <td>1</td>\n",
       "      <td>7</td>\n",
       "      <td>15.0</td>\n",
       "      <td>0</td>\n",
       "      <td>1</td>\n",
       "    </tr>\n",
       "  </tbody>\n",
       "</table>\n",
       "</div>"
      ],
      "text/plain": [
       "   iid  order   pid  gender  match\n",
       "0    1      4  11.0       0      0\n",
       "1    1      3  12.0       0      0\n",
       "2    1     10  13.0       0      1\n",
       "3    1      5  14.0       0      1\n",
       "4    1      7  15.0       0      1"
      ]
     },
     "execution_count": 11,
     "metadata": {},
     "output_type": "execute_result"
    }
   ],
   "source": [
    "df_wave1 = df.query(\"wave == 1\").loc[:,[\"iid\", \"order\", \"pid\", \"gender\", \"match\"]]\n",
    "df_wave1.head()"
   ]
  },
  {
   "attachments": {},
   "cell_type": "markdown",
   "metadata": {},
   "source": [
    "Cela signifie que la fille iid 1 (id unique pour toutes les waves) a rencontré un garçon iid 14 au 5ème date de la wave n°1. Vérifions qu'on a la donnée inverse. En se basant sur l'iid 14 :"
   ]
  },
  {
   "cell_type": "code",
   "execution_count": 12,
   "metadata": {},
   "outputs": [
    {
     "data": {
      "text/html": [
       "<div>\n",
       "<style scoped>\n",
       "    .dataframe tbody tr th:only-of-type {\n",
       "        vertical-align: middle;\n",
       "    }\n",
       "\n",
       "    .dataframe tbody tr th {\n",
       "        vertical-align: top;\n",
       "    }\n",
       "\n",
       "    .dataframe thead th {\n",
       "        text-align: right;\n",
       "    }\n",
       "</style>\n",
       "<table border=\"1\" class=\"dataframe\">\n",
       "  <thead>\n",
       "    <tr style=\"text-align: right;\">\n",
       "      <th></th>\n",
       "      <th>iid</th>\n",
       "      <th>order</th>\n",
       "      <th>pid</th>\n",
       "      <th>gender</th>\n",
       "      <th>match</th>\n",
       "    </tr>\n",
       "  </thead>\n",
       "  <tbody>\n",
       "    <tr>\n",
       "      <th>130</th>\n",
       "      <td>14</td>\n",
       "      <td>5</td>\n",
       "      <td>1.0</td>\n",
       "      <td>1</td>\n",
       "      <td>1</td>\n",
       "    </tr>\n",
       "    <tr>\n",
       "      <th>131</th>\n",
       "      <td>14</td>\n",
       "      <td>1</td>\n",
       "      <td>2.0</td>\n",
       "      <td>1</td>\n",
       "      <td>1</td>\n",
       "    </tr>\n",
       "    <tr>\n",
       "      <th>132</th>\n",
       "      <td>14</td>\n",
       "      <td>7</td>\n",
       "      <td>3.0</td>\n",
       "      <td>1</td>\n",
       "      <td>0</td>\n",
       "    </tr>\n",
       "    <tr>\n",
       "      <th>133</th>\n",
       "      <td>14</td>\n",
       "      <td>4</td>\n",
       "      <td>4.0</td>\n",
       "      <td>1</td>\n",
       "      <td>1</td>\n",
       "    </tr>\n",
       "    <tr>\n",
       "      <th>134</th>\n",
       "      <td>14</td>\n",
       "      <td>2</td>\n",
       "      <td>5.0</td>\n",
       "      <td>1</td>\n",
       "      <td>1</td>\n",
       "    </tr>\n",
       "    <tr>\n",
       "      <th>135</th>\n",
       "      <td>14</td>\n",
       "      <td>6</td>\n",
       "      <td>6.0</td>\n",
       "      <td>1</td>\n",
       "      <td>1</td>\n",
       "    </tr>\n",
       "    <tr>\n",
       "      <th>136</th>\n",
       "      <td>14</td>\n",
       "      <td>3</td>\n",
       "      <td>7.0</td>\n",
       "      <td>1</td>\n",
       "      <td>1</td>\n",
       "    </tr>\n",
       "    <tr>\n",
       "      <th>137</th>\n",
       "      <td>14</td>\n",
       "      <td>8</td>\n",
       "      <td>8.0</td>\n",
       "      <td>1</td>\n",
       "      <td>1</td>\n",
       "    </tr>\n",
       "    <tr>\n",
       "      <th>138</th>\n",
       "      <td>14</td>\n",
       "      <td>9</td>\n",
       "      <td>9.0</td>\n",
       "      <td>1</td>\n",
       "      <td>1</td>\n",
       "    </tr>\n",
       "    <tr>\n",
       "      <th>139</th>\n",
       "      <td>14</td>\n",
       "      <td>10</td>\n",
       "      <td>10.0</td>\n",
       "      <td>1</td>\n",
       "      <td>0</td>\n",
       "    </tr>\n",
       "  </tbody>\n",
       "</table>\n",
       "</div>"
      ],
      "text/plain": [
       "     iid  order   pid  gender  match\n",
       "130   14      5   1.0       1      1\n",
       "131   14      1   2.0       1      1\n",
       "132   14      7   3.0       1      0\n",
       "133   14      4   4.0       1      1\n",
       "134   14      2   5.0       1      1\n",
       "135   14      6   6.0       1      1\n",
       "136   14      3   7.0       1      1\n",
       "137   14      8   8.0       1      1\n",
       "138   14      9   9.0       1      1\n",
       "139   14     10  10.0       1      0"
      ]
     },
     "execution_count": 12,
     "metadata": {},
     "output_type": "execute_result"
    }
   ],
   "source": [
    "df_wave1.query(\"iid == 14\") # ici, on aura les résultats des rencontres de la soirée de iid 14"
   ]
  },
  {
   "attachments": {},
   "cell_type": "markdown",
   "metadata": {},
   "source": [
    "C'est confirmé. 14 a rencontré 1 au 5ème date de la soirée et c'est bien un garçon. Et ... il y a un match entre les deux !"
   ]
  },
  {
   "attachments": {},
   "cell_type": "markdown",
   "metadata": {},
   "source": [
    "### Stats générales sur la population"
   ]
  },
  {
   "cell_type": "code",
   "execution_count": 13,
   "metadata": {},
   "outputs": [],
   "source": [
    "# On mappe l'id de carrière avec l'intitulé indiqué dans le doc Word\n",
    "df['career_c'] = df['career_c'].fillna(15) # because 15 is Other\n",
    "dic_career = {1:\"Lawyer\", 2:\"Academic/Research\", 3:\"Psychologist\", 4:\"Doctor/Medicine\", 5:\"Engineer\", 6:\"Creative Arts/Entertainment\",\n",
    "7:\"Banking/Consulting/Finance/Marketing/Business\",8:\"Real Estate\",9:\"International/Humanitarian Affairs\",10:\"Undecided\",\n",
    "11:\"Social Work\",12:\"Speech Pathology\",13:\"Politics\",14:\"Pro sports/Athletics\",15:\"Other\",16:\"Journalism\",17:\"Architecture\"\n",
    "}\n",
    "df['career_title'] = df['career_c'].map(dic_career)\n",
    "\n",
    "# On mappe l'id d'origine ethnique avec l'intitulé indiqué dans le doc Word\n",
    "df['race'] = df['race'].fillna(6) # because 6 is Other\n",
    "dic_race = {1:\"Black/African\", 2:\"European/Caucasian\", 3:\"Latino/Hispanic\", 4:\"Asian/Pacific\", 5:\"Native American\", 6:\"Other\"}\n",
    "df['race_title'] = df['race'].map(dic_race)"
   ]
  },
  {
   "attachments": {},
   "cell_type": "markdown",
   "metadata": {},
   "source": [
    "(Pour info, dans le dataset, il n'y pas de 5-Native American, ils sont probablement intégrés dans 2-European/Caucasian, vu la quantité dans la suite de l'analyse)"
   ]
  },
  {
   "cell_type": "code",
   "execution_count": 14,
   "metadata": {},
   "outputs": [],
   "source": [
    "# On récupère une ligne par iid (par personne) pour faire des stats sur la population générale\n",
    "df_population = df.groupby(['iid','career_title','race_title','age']).count().reset_index()"
   ]
  },
  {
   "cell_type": "code",
   "execution_count": 49,
   "metadata": {},
   "outputs": [
    {
     "data": {
      "text/plain": [
       "(543, 197)"
      ]
     },
     "execution_count": 49,
     "metadata": {},
     "output_type": "execute_result"
    }
   ],
   "source": [
    "df_population.shape"
   ]
  },
  {
   "cell_type": "code",
   "execution_count": 228,
   "metadata": {},
   "outputs": [
    {
     "data": {
      "application/vnd.plotly.v1+json": {
       "config": {
        "plotlyServerURL": "https://plot.ly"
       },
       "data": [
        {
         "alignmentgroup": "True",
         "bingroup": "y",
         "hovertemplate": "count=%{x}<br>career_title=%{y}<extra></extra>",
         "legendgroup": "",
         "marker": {
          "color": "#636efa",
          "pattern": {
           "shape": ""
          }
         },
         "name": "",
         "offsetgroup": "",
         "orientation": "h",
         "showlegend": false,
         "type": "histogram",
         "xaxis": "x",
         "y": [
          "Other",
          "Other",
          "Other",
          "Lawyer",
          "Lawyer",
          "Lawyer",
          "Lawyer",
          "Creative Arts/Entertainment",
          "International/Humanitarian Affairs",
          "International/Humanitarian Affairs",
          "Academic/Research",
          "Lawyer",
          "Lawyer",
          "Lawyer",
          "Lawyer",
          "Banking/Consulting/Finance/Marketing/Business",
          "Academic/Research",
          "Banking/Consulting/Finance/Marketing/Business",
          "Banking/Consulting/Finance/Marketing/Business",
          "Banking/Consulting/Finance/Marketing/Business",
          "Undecided",
          "Engineer",
          "Psychologist",
          "International/Humanitarian Affairs",
          "International/Humanitarian Affairs",
          "International/Humanitarian Affairs",
          "International/Humanitarian Affairs",
          "Other",
          "International/Humanitarian Affairs",
          "Lawyer",
          "Lawyer",
          "Academic/Research",
          "Creative Arts/Entertainment",
          "Banking/Consulting/Finance/Marketing/Business",
          "Banking/Consulting/Finance/Marketing/Business",
          "Doctor/Medicine",
          "Banking/Consulting/Finance/Marketing/Business",
          "Lawyer",
          "Lawyer",
          "Other",
          "Lawyer",
          "Engineer",
          "Academic/Research",
          "Academic/Research",
          "Banking/Consulting/Finance/Marketing/Business",
          "Banking/Consulting/Finance/Marketing/Business",
          "Academic/Research",
          "Creative Arts/Entertainment",
          "Banking/Consulting/Finance/Marketing/Business",
          "Lawyer",
          "Lawyer",
          "Lawyer",
          "Doctor/Medicine",
          "Banking/Consulting/Finance/Marketing/Business",
          "Lawyer",
          "International/Humanitarian Affairs",
          "International/Humanitarian Affairs",
          "Creative Arts/Entertainment",
          "Academic/Research",
          "Lawyer",
          "Undecided",
          "International/Humanitarian Affairs",
          "Psychologist",
          "Banking/Consulting/Finance/Marketing/Business",
          "Lawyer",
          "Creative Arts/Entertainment",
          "Banking/Consulting/Finance/Marketing/Business",
          "Banking/Consulting/Finance/Marketing/Business",
          "Pro sports/Athletics",
          "Banking/Consulting/Finance/Marketing/Business",
          "Banking/Consulting/Finance/Marketing/Business",
          "Engineer",
          "Lawyer",
          "Academic/Research",
          "Social Work",
          "Social Work",
          "Engineer",
          "Academic/Research",
          "Creative Arts/Entertainment",
          "Academic/Research",
          "Banking/Consulting/Finance/Marketing/Business",
          "Doctor/Medicine",
          "International/Humanitarian Affairs",
          "Academic/Research",
          "International/Humanitarian Affairs",
          "International/Humanitarian Affairs",
          "Academic/Research",
          "Undecided",
          "Lawyer",
          "Banking/Consulting/Finance/Marketing/Business",
          "Academic/Research",
          "Banking/Consulting/Finance/Marketing/Business",
          "Banking/Consulting/Finance/Marketing/Business",
          "Academic/Research",
          "Academic/Research",
          "Academic/Research",
          "Lawyer",
          "Academic/Research",
          "Banking/Consulting/Finance/Marketing/Business",
          "Academic/Research",
          "Banking/Consulting/Finance/Marketing/Business",
          "Academic/Research",
          "Lawyer",
          "Lawyer",
          "Academic/Research",
          "Engineer",
          "Creative Arts/Entertainment",
          "Creative Arts/Entertainment",
          "Banking/Consulting/Finance/Marketing/Business",
          "Social Work",
          "Undecided",
          "Other",
          "Psychologist",
          "Undecided",
          "Banking/Consulting/Finance/Marketing/Business",
          "Lawyer",
          "Creative Arts/Entertainment",
          "Academic/Research",
          "Lawyer",
          "Doctor/Medicine",
          "Lawyer",
          "Doctor/Medicine",
          "Doctor/Medicine",
          "Creative Arts/Entertainment",
          "Engineer",
          "Undecided",
          "Undecided",
          "Banking/Consulting/Finance/Marketing/Business",
          "Academic/Research",
          "Academic/Research",
          "Academic/Research",
          "Real Estate",
          "Banking/Consulting/Finance/Marketing/Business",
          "Academic/Research",
          "Banking/Consulting/Finance/Marketing/Business",
          "Banking/Consulting/Finance/Marketing/Business",
          "Academic/Research",
          "Lawyer",
          "Academic/Research",
          "Academic/Research",
          "Academic/Research",
          "Banking/Consulting/Finance/Marketing/Business",
          "Banking/Consulting/Finance/Marketing/Business",
          "Academic/Research",
          "Academic/Research",
          "International/Humanitarian Affairs",
          "Academic/Research",
          "Academic/Research",
          "Banking/Consulting/Finance/Marketing/Business",
          "International/Humanitarian Affairs",
          "Banking/Consulting/Finance/Marketing/Business",
          "Banking/Consulting/Finance/Marketing/Business",
          "Academic/Research",
          "Academic/Research",
          "Real Estate",
          "Undecided",
          "Doctor/Medicine",
          "Academic/Research",
          "Academic/Research",
          "Creative Arts/Entertainment",
          "Banking/Consulting/Finance/Marketing/Business",
          "Academic/Research",
          "Undecided",
          "Academic/Research",
          "Doctor/Medicine",
          "Banking/Consulting/Finance/Marketing/Business",
          "Banking/Consulting/Finance/Marketing/Business",
          "Academic/Research",
          "Banking/Consulting/Finance/Marketing/Business",
          "Banking/Consulting/Finance/Marketing/Business",
          "Banking/Consulting/Finance/Marketing/Business",
          "Banking/Consulting/Finance/Marketing/Business",
          "Doctor/Medicine",
          "Academic/Research",
          "Banking/Consulting/Finance/Marketing/Business",
          "Academic/Research",
          "Doctor/Medicine",
          "Creative Arts/Entertainment",
          "Banking/Consulting/Finance/Marketing/Business",
          "Creative Arts/Entertainment",
          "Academic/Research",
          "Banking/Consulting/Finance/Marketing/Business",
          "Academic/Research",
          "International/Humanitarian Affairs",
          "International/Humanitarian Affairs",
          "Banking/Consulting/Finance/Marketing/Business",
          "Banking/Consulting/Finance/Marketing/Business",
          "Lawyer",
          "Psychologist",
          "Academic/Research",
          "Academic/Research",
          "Banking/Consulting/Finance/Marketing/Business",
          "Banking/Consulting/Finance/Marketing/Business",
          "Academic/Research",
          "International/Humanitarian Affairs",
          "Banking/Consulting/Finance/Marketing/Business",
          "Academic/Research",
          "Academic/Research",
          "Banking/Consulting/Finance/Marketing/Business",
          "Academic/Research",
          "International/Humanitarian Affairs",
          "Lawyer",
          "Banking/Consulting/Finance/Marketing/Business",
          "Banking/Consulting/Finance/Marketing/Business",
          "Academic/Research",
          "International/Humanitarian Affairs",
          "Banking/Consulting/Finance/Marketing/Business",
          "Banking/Consulting/Finance/Marketing/Business",
          "Academic/Research",
          "Banking/Consulting/Finance/Marketing/Business",
          "Banking/Consulting/Finance/Marketing/Business",
          "Academic/Research",
          "Academic/Research",
          "Banking/Consulting/Finance/Marketing/Business",
          "Creative Arts/Entertainment",
          "Banking/Consulting/Finance/Marketing/Business",
          "Academic/Research",
          "Academic/Research",
          "Other",
          "Banking/Consulting/Finance/Marketing/Business",
          "Creative Arts/Entertainment",
          "Banking/Consulting/Finance/Marketing/Business",
          "Academic/Research",
          "Banking/Consulting/Finance/Marketing/Business",
          "Banking/Consulting/Finance/Marketing/Business",
          "International/Humanitarian Affairs",
          "International/Humanitarian Affairs",
          "Banking/Consulting/Finance/Marketing/Business",
          "Academic/Research",
          "Academic/Research",
          "Academic/Research",
          "Creative Arts/Entertainment",
          "Creative Arts/Entertainment",
          "Banking/Consulting/Finance/Marketing/Business",
          "Creative Arts/Entertainment",
          "Banking/Consulting/Finance/Marketing/Business",
          "Academic/Research",
          "Academic/Research",
          "Banking/Consulting/Finance/Marketing/Business",
          "Lawyer",
          "Academic/Research",
          "Academic/Research",
          "Banking/Consulting/Finance/Marketing/Business",
          "Banking/Consulting/Finance/Marketing/Business",
          "Academic/Research",
          "Undecided",
          "Academic/Research",
          "Academic/Research",
          "Academic/Research",
          "Doctor/Medicine",
          "Doctor/Medicine",
          "Academic/Research",
          "Academic/Research",
          "Academic/Research",
          "Academic/Research",
          "Academic/Research",
          "Undecided",
          "Undecided",
          "Academic/Research",
          "Academic/Research",
          "Undecided",
          "Doctor/Medicine",
          "Doctor/Medicine",
          "Academic/Research",
          "Academic/Research",
          "Social Work",
          "Social Work",
          "Academic/Research",
          "Academic/Research",
          "Banking/Consulting/Finance/Marketing/Business",
          "Academic/Research",
          "Academic/Research",
          "Academic/Research",
          "Academic/Research",
          "Academic/Research",
          "Academic/Research",
          "Banking/Consulting/Finance/Marketing/Business",
          "Banking/Consulting/Finance/Marketing/Business",
          "Creative Arts/Entertainment",
          "Banking/Consulting/Finance/Marketing/Business",
          "Academic/Research",
          "Creative Arts/Entertainment",
          "Academic/Research",
          "Banking/Consulting/Finance/Marketing/Business",
          "Academic/Research",
          "Doctor/Medicine",
          "Banking/Consulting/Finance/Marketing/Business",
          "Banking/Consulting/Finance/Marketing/Business",
          "Academic/Research",
          "Academic/Research",
          "Academic/Research",
          "Academic/Research",
          "Academic/Research",
          "Academic/Research",
          "Academic/Research",
          "Academic/Research",
          "Speech Pathology",
          "Academic/Research",
          "Speech Pathology",
          "Academic/Research",
          "Academic/Research",
          "Academic/Research",
          "Academic/Research",
          "Academic/Research",
          "Undecided",
          "Banking/Consulting/Finance/Marketing/Business",
          "Creative Arts/Entertainment",
          "Creative Arts/Entertainment",
          "Academic/Research",
          "Academic/Research",
          "Banking/Consulting/Finance/Marketing/Business",
          "Banking/Consulting/Finance/Marketing/Business",
          "Banking/Consulting/Finance/Marketing/Business",
          "Academic/Research",
          "Academic/Research",
          "Banking/Consulting/Finance/Marketing/Business",
          "Academic/Research",
          "Academic/Research",
          "Psychologist",
          "Psychologist",
          "Academic/Research",
          "Banking/Consulting/Finance/Marketing/Business",
          "Academic/Research",
          "Academic/Research",
          "Undecided",
          "Academic/Research",
          "Academic/Research",
          "Banking/Consulting/Finance/Marketing/Business",
          "Doctor/Medicine",
          "Academic/Research",
          "Architecture",
          "Engineer",
          "Banking/Consulting/Finance/Marketing/Business",
          "Undecided",
          "Academic/Research",
          "Doctor/Medicine",
          "International/Humanitarian Affairs",
          "Doctor/Medicine",
          "Politics",
          "Academic/Research",
          "Banking/Consulting/Finance/Marketing/Business",
          "Doctor/Medicine",
          "Academic/Research",
          "Creative Arts/Entertainment",
          "Academic/Research",
          "Psychologist",
          "Psychologist",
          "Psychologist",
          "Academic/Research",
          "Banking/Consulting/Finance/Marketing/Business",
          "International/Humanitarian Affairs",
          "Psychologist",
          "Lawyer",
          "Lawyer",
          "Banking/Consulting/Finance/Marketing/Business",
          "Banking/Consulting/Finance/Marketing/Business",
          "Undecided",
          "Creative Arts/Entertainment",
          "Politics",
          "Creative Arts/Entertainment",
          "Psychologist",
          "Banking/Consulting/Finance/Marketing/Business",
          "International/Humanitarian Affairs",
          "Undecided",
          "Banking/Consulting/Finance/Marketing/Business",
          "Banking/Consulting/Finance/Marketing/Business",
          "Lawyer",
          "Undecided",
          "Banking/Consulting/Finance/Marketing/Business",
          "Banking/Consulting/Finance/Marketing/Business",
          "Banking/Consulting/Finance/Marketing/Business",
          "Creative Arts/Entertainment",
          "Creative Arts/Entertainment",
          "Creative Arts/Entertainment",
          "Banking/Consulting/Finance/Marketing/Business",
          "Undecided",
          "Academic/Research",
          "Psychologist",
          "Psychologist",
          "Psychologist",
          "Lawyer",
          "Academic/Research",
          "Creative Arts/Entertainment",
          "Creative Arts/Entertainment",
          "Creative Arts/Entertainment",
          "Creative Arts/Entertainment",
          "Creative Arts/Entertainment",
          "Creative Arts/Entertainment",
          "Lawyer",
          "Banking/Consulting/Finance/Marketing/Business",
          "Banking/Consulting/Finance/Marketing/Business",
          "Banking/Consulting/Finance/Marketing/Business",
          "Banking/Consulting/Finance/Marketing/Business",
          "Banking/Consulting/Finance/Marketing/Business",
          "Banking/Consulting/Finance/Marketing/Business",
          "Banking/Consulting/Finance/Marketing/Business",
          "International/Humanitarian Affairs",
          "Banking/Consulting/Finance/Marketing/Business",
          "Creative Arts/Entertainment",
          "International/Humanitarian Affairs",
          "Academic/Research",
          "Banking/Consulting/Finance/Marketing/Business",
          "Banking/Consulting/Finance/Marketing/Business",
          "Banking/Consulting/Finance/Marketing/Business",
          "Real Estate",
          "Banking/Consulting/Finance/Marketing/Business",
          "Banking/Consulting/Finance/Marketing/Business",
          "Psychologist",
          "Psychologist",
          "Lawyer",
          "Social Work",
          "Social Work",
          "Social Work",
          "Banking/Consulting/Finance/Marketing/Business",
          "Banking/Consulting/Finance/Marketing/Business",
          "Academic/Research",
          "Banking/Consulting/Finance/Marketing/Business",
          "Politics",
          "Other",
          "Banking/Consulting/Finance/Marketing/Business",
          "Banking/Consulting/Finance/Marketing/Business",
          "Academic/Research",
          "Banking/Consulting/Finance/Marketing/Business",
          "Social Work",
          "Creative Arts/Entertainment",
          "Other",
          "Lawyer",
          "Lawyer",
          "Social Work",
          "Social Work",
          "Academic/Research",
          "Lawyer",
          "Lawyer",
          "Lawyer",
          "International/Humanitarian Affairs",
          "Banking/Consulting/Finance/Marketing/Business",
          "International/Humanitarian Affairs",
          "Banking/Consulting/Finance/Marketing/Business",
          "Banking/Consulting/Finance/Marketing/Business",
          "Banking/Consulting/Finance/Marketing/Business",
          "Lawyer",
          "International/Humanitarian Affairs",
          "Banking/Consulting/Finance/Marketing/Business",
          "Banking/Consulting/Finance/Marketing/Business",
          "Lawyer",
          "Academic/Research",
          "Academic/Research",
          "Banking/Consulting/Finance/Marketing/Business",
          "Creative Arts/Entertainment",
          "Banking/Consulting/Finance/Marketing/Business",
          "Banking/Consulting/Finance/Marketing/Business",
          "Academic/Research",
          "Doctor/Medicine",
          "Academic/Research",
          "Undecided",
          "Banking/Consulting/Finance/Marketing/Business",
          "Creative Arts/Entertainment",
          "Undecided",
          "Banking/Consulting/Finance/Marketing/Business",
          "Academic/Research",
          "International/Humanitarian Affairs",
          "Doctor/Medicine",
          "Doctor/Medicine",
          "Engineer",
          "Academic/Research",
          "Academic/Research",
          "International/Humanitarian Affairs",
          "International/Humanitarian Affairs",
          "Engineer",
          "Banking/Consulting/Finance/Marketing/Business",
          "Banking/Consulting/Finance/Marketing/Business",
          "Engineer",
          "Academic/Research",
          "Banking/Consulting/Finance/Marketing/Business",
          "Academic/Research",
          "Other",
          "Academic/Research",
          "Doctor/Medicine",
          "Academic/Research",
          "Banking/Consulting/Finance/Marketing/Business",
          "Banking/Consulting/Finance/Marketing/Business",
          "Creative Arts/Entertainment",
          "Banking/Consulting/Finance/Marketing/Business",
          "Academic/Research",
          "Politics",
          "Creative Arts/Entertainment",
          "Creative Arts/Entertainment",
          "Academic/Research",
          "Academic/Research",
          "Academic/Research",
          "Academic/Research",
          "Academic/Research",
          "Academic/Research",
          "Banking/Consulting/Finance/Marketing/Business",
          "Academic/Research",
          "Banking/Consulting/Finance/Marketing/Business",
          "Creative Arts/Entertainment",
          "Banking/Consulting/Finance/Marketing/Business",
          "Academic/Research",
          "Undecided",
          "Journalism",
          "Academic/Research",
          "Banking/Consulting/Finance/Marketing/Business",
          "Creative Arts/Entertainment",
          "Academic/Research",
          "Journalism",
          "Academic/Research",
          "Creative Arts/Entertainment",
          "Creative Arts/Entertainment",
          "Politics",
          "International/Humanitarian Affairs",
          "International/Humanitarian Affairs",
          "Lawyer",
          "Undecided",
          "Doctor/Medicine",
          "Psychologist",
          "Social Work",
          "Social Work",
          "Social Work",
          "Engineer",
          "Undecided",
          "Academic/Research",
          "Engineer",
          "Academic/Research",
          "Engineer",
          "Academic/Research",
          "Banking/Consulting/Finance/Marketing/Business",
          "Lawyer",
          "Banking/Consulting/Finance/Marketing/Business",
          "Lawyer",
          "Academic/Research",
          "Banking/Consulting/Finance/Marketing/Business",
          "Banking/Consulting/Finance/Marketing/Business",
          "Engineer",
          "Doctor/Medicine",
          "Doctor/Medicine",
          "Banking/Consulting/Finance/Marketing/Business",
          "Banking/Consulting/Finance/Marketing/Business",
          "Banking/Consulting/Finance/Marketing/Business",
          "Banking/Consulting/Finance/Marketing/Business",
          "Banking/Consulting/Finance/Marketing/Business",
          "Banking/Consulting/Finance/Marketing/Business",
          "Other"
         ],
         "yaxis": "y"
        }
       ],
       "layout": {
        "barmode": "relative",
        "legend": {
         "tracegroupgap": 0
        },
        "template": {
         "data": {
          "bar": [
           {
            "error_x": {
             "color": "#2a3f5f"
            },
            "error_y": {
             "color": "#2a3f5f"
            },
            "marker": {
             "line": {
              "color": "#E5ECF6",
              "width": 0.5
             },
             "pattern": {
              "fillmode": "overlay",
              "size": 10,
              "solidity": 0.2
             }
            },
            "type": "bar"
           }
          ],
          "barpolar": [
           {
            "marker": {
             "line": {
              "color": "#E5ECF6",
              "width": 0.5
             },
             "pattern": {
              "fillmode": "overlay",
              "size": 10,
              "solidity": 0.2
             }
            },
            "type": "barpolar"
           }
          ],
          "carpet": [
           {
            "aaxis": {
             "endlinecolor": "#2a3f5f",
             "gridcolor": "white",
             "linecolor": "white",
             "minorgridcolor": "white",
             "startlinecolor": "#2a3f5f"
            },
            "baxis": {
             "endlinecolor": "#2a3f5f",
             "gridcolor": "white",
             "linecolor": "white",
             "minorgridcolor": "white",
             "startlinecolor": "#2a3f5f"
            },
            "type": "carpet"
           }
          ],
          "choropleth": [
           {
            "colorbar": {
             "outlinewidth": 0,
             "ticks": ""
            },
            "type": "choropleth"
           }
          ],
          "contour": [
           {
            "colorbar": {
             "outlinewidth": 0,
             "ticks": ""
            },
            "colorscale": [
             [
              0,
              "#0d0887"
             ],
             [
              0.1111111111111111,
              "#46039f"
             ],
             [
              0.2222222222222222,
              "#7201a8"
             ],
             [
              0.3333333333333333,
              "#9c179e"
             ],
             [
              0.4444444444444444,
              "#bd3786"
             ],
             [
              0.5555555555555556,
              "#d8576b"
             ],
             [
              0.6666666666666666,
              "#ed7953"
             ],
             [
              0.7777777777777778,
              "#fb9f3a"
             ],
             [
              0.8888888888888888,
              "#fdca26"
             ],
             [
              1,
              "#f0f921"
             ]
            ],
            "type": "contour"
           }
          ],
          "contourcarpet": [
           {
            "colorbar": {
             "outlinewidth": 0,
             "ticks": ""
            },
            "type": "contourcarpet"
           }
          ],
          "heatmap": [
           {
            "colorbar": {
             "outlinewidth": 0,
             "ticks": ""
            },
            "colorscale": [
             [
              0,
              "#0d0887"
             ],
             [
              0.1111111111111111,
              "#46039f"
             ],
             [
              0.2222222222222222,
              "#7201a8"
             ],
             [
              0.3333333333333333,
              "#9c179e"
             ],
             [
              0.4444444444444444,
              "#bd3786"
             ],
             [
              0.5555555555555556,
              "#d8576b"
             ],
             [
              0.6666666666666666,
              "#ed7953"
             ],
             [
              0.7777777777777778,
              "#fb9f3a"
             ],
             [
              0.8888888888888888,
              "#fdca26"
             ],
             [
              1,
              "#f0f921"
             ]
            ],
            "type": "heatmap"
           }
          ],
          "heatmapgl": [
           {
            "colorbar": {
             "outlinewidth": 0,
             "ticks": ""
            },
            "colorscale": [
             [
              0,
              "#0d0887"
             ],
             [
              0.1111111111111111,
              "#46039f"
             ],
             [
              0.2222222222222222,
              "#7201a8"
             ],
             [
              0.3333333333333333,
              "#9c179e"
             ],
             [
              0.4444444444444444,
              "#bd3786"
             ],
             [
              0.5555555555555556,
              "#d8576b"
             ],
             [
              0.6666666666666666,
              "#ed7953"
             ],
             [
              0.7777777777777778,
              "#fb9f3a"
             ],
             [
              0.8888888888888888,
              "#fdca26"
             ],
             [
              1,
              "#f0f921"
             ]
            ],
            "type": "heatmapgl"
           }
          ],
          "histogram": [
           {
            "marker": {
             "pattern": {
              "fillmode": "overlay",
              "size": 10,
              "solidity": 0.2
             }
            },
            "type": "histogram"
           }
          ],
          "histogram2d": [
           {
            "colorbar": {
             "outlinewidth": 0,
             "ticks": ""
            },
            "colorscale": [
             [
              0,
              "#0d0887"
             ],
             [
              0.1111111111111111,
              "#46039f"
             ],
             [
              0.2222222222222222,
              "#7201a8"
             ],
             [
              0.3333333333333333,
              "#9c179e"
             ],
             [
              0.4444444444444444,
              "#bd3786"
             ],
             [
              0.5555555555555556,
              "#d8576b"
             ],
             [
              0.6666666666666666,
              "#ed7953"
             ],
             [
              0.7777777777777778,
              "#fb9f3a"
             ],
             [
              0.8888888888888888,
              "#fdca26"
             ],
             [
              1,
              "#f0f921"
             ]
            ],
            "type": "histogram2d"
           }
          ],
          "histogram2dcontour": [
           {
            "colorbar": {
             "outlinewidth": 0,
             "ticks": ""
            },
            "colorscale": [
             [
              0,
              "#0d0887"
             ],
             [
              0.1111111111111111,
              "#46039f"
             ],
             [
              0.2222222222222222,
              "#7201a8"
             ],
             [
              0.3333333333333333,
              "#9c179e"
             ],
             [
              0.4444444444444444,
              "#bd3786"
             ],
             [
              0.5555555555555556,
              "#d8576b"
             ],
             [
              0.6666666666666666,
              "#ed7953"
             ],
             [
              0.7777777777777778,
              "#fb9f3a"
             ],
             [
              0.8888888888888888,
              "#fdca26"
             ],
             [
              1,
              "#f0f921"
             ]
            ],
            "type": "histogram2dcontour"
           }
          ],
          "mesh3d": [
           {
            "colorbar": {
             "outlinewidth": 0,
             "ticks": ""
            },
            "type": "mesh3d"
           }
          ],
          "parcoords": [
           {
            "line": {
             "colorbar": {
              "outlinewidth": 0,
              "ticks": ""
             }
            },
            "type": "parcoords"
           }
          ],
          "pie": [
           {
            "automargin": true,
            "type": "pie"
           }
          ],
          "scatter": [
           {
            "fillpattern": {
             "fillmode": "overlay",
             "size": 10,
             "solidity": 0.2
            },
            "type": "scatter"
           }
          ],
          "scatter3d": [
           {
            "line": {
             "colorbar": {
              "outlinewidth": 0,
              "ticks": ""
             }
            },
            "marker": {
             "colorbar": {
              "outlinewidth": 0,
              "ticks": ""
             }
            },
            "type": "scatter3d"
           }
          ],
          "scattercarpet": [
           {
            "marker": {
             "colorbar": {
              "outlinewidth": 0,
              "ticks": ""
             }
            },
            "type": "scattercarpet"
           }
          ],
          "scattergeo": [
           {
            "marker": {
             "colorbar": {
              "outlinewidth": 0,
              "ticks": ""
             }
            },
            "type": "scattergeo"
           }
          ],
          "scattergl": [
           {
            "marker": {
             "colorbar": {
              "outlinewidth": 0,
              "ticks": ""
             }
            },
            "type": "scattergl"
           }
          ],
          "scattermapbox": [
           {
            "marker": {
             "colorbar": {
              "outlinewidth": 0,
              "ticks": ""
             }
            },
            "type": "scattermapbox"
           }
          ],
          "scatterpolar": [
           {
            "marker": {
             "colorbar": {
              "outlinewidth": 0,
              "ticks": ""
             }
            },
            "type": "scatterpolar"
           }
          ],
          "scatterpolargl": [
           {
            "marker": {
             "colorbar": {
              "outlinewidth": 0,
              "ticks": ""
             }
            },
            "type": "scatterpolargl"
           }
          ],
          "scatterternary": [
           {
            "marker": {
             "colorbar": {
              "outlinewidth": 0,
              "ticks": ""
             }
            },
            "type": "scatterternary"
           }
          ],
          "surface": [
           {
            "colorbar": {
             "outlinewidth": 0,
             "ticks": ""
            },
            "colorscale": [
             [
              0,
              "#0d0887"
             ],
             [
              0.1111111111111111,
              "#46039f"
             ],
             [
              0.2222222222222222,
              "#7201a8"
             ],
             [
              0.3333333333333333,
              "#9c179e"
             ],
             [
              0.4444444444444444,
              "#bd3786"
             ],
             [
              0.5555555555555556,
              "#d8576b"
             ],
             [
              0.6666666666666666,
              "#ed7953"
             ],
             [
              0.7777777777777778,
              "#fb9f3a"
             ],
             [
              0.8888888888888888,
              "#fdca26"
             ],
             [
              1,
              "#f0f921"
             ]
            ],
            "type": "surface"
           }
          ],
          "table": [
           {
            "cells": {
             "fill": {
              "color": "#EBF0F8"
             },
             "line": {
              "color": "white"
             }
            },
            "header": {
             "fill": {
              "color": "#C8D4E3"
             },
             "line": {
              "color": "white"
             }
            },
            "type": "table"
           }
          ]
         },
         "layout": {
          "annotationdefaults": {
           "arrowcolor": "#2a3f5f",
           "arrowhead": 0,
           "arrowwidth": 1
          },
          "autotypenumbers": "strict",
          "coloraxis": {
           "colorbar": {
            "outlinewidth": 0,
            "ticks": ""
           }
          },
          "colorscale": {
           "diverging": [
            [
             0,
             "#8e0152"
            ],
            [
             0.1,
             "#c51b7d"
            ],
            [
             0.2,
             "#de77ae"
            ],
            [
             0.3,
             "#f1b6da"
            ],
            [
             0.4,
             "#fde0ef"
            ],
            [
             0.5,
             "#f7f7f7"
            ],
            [
             0.6,
             "#e6f5d0"
            ],
            [
             0.7,
             "#b8e186"
            ],
            [
             0.8,
             "#7fbc41"
            ],
            [
             0.9,
             "#4d9221"
            ],
            [
             1,
             "#276419"
            ]
           ],
           "sequential": [
            [
             0,
             "#0d0887"
            ],
            [
             0.1111111111111111,
             "#46039f"
            ],
            [
             0.2222222222222222,
             "#7201a8"
            ],
            [
             0.3333333333333333,
             "#9c179e"
            ],
            [
             0.4444444444444444,
             "#bd3786"
            ],
            [
             0.5555555555555556,
             "#d8576b"
            ],
            [
             0.6666666666666666,
             "#ed7953"
            ],
            [
             0.7777777777777778,
             "#fb9f3a"
            ],
            [
             0.8888888888888888,
             "#fdca26"
            ],
            [
             1,
             "#f0f921"
            ]
           ],
           "sequentialminus": [
            [
             0,
             "#0d0887"
            ],
            [
             0.1111111111111111,
             "#46039f"
            ],
            [
             0.2222222222222222,
             "#7201a8"
            ],
            [
             0.3333333333333333,
             "#9c179e"
            ],
            [
             0.4444444444444444,
             "#bd3786"
            ],
            [
             0.5555555555555556,
             "#d8576b"
            ],
            [
             0.6666666666666666,
             "#ed7953"
            ],
            [
             0.7777777777777778,
             "#fb9f3a"
            ],
            [
             0.8888888888888888,
             "#fdca26"
            ],
            [
             1,
             "#f0f921"
            ]
           ]
          },
          "colorway": [
           "#636efa",
           "#EF553B",
           "#00cc96",
           "#ab63fa",
           "#FFA15A",
           "#19d3f3",
           "#FF6692",
           "#B6E880",
           "#FF97FF",
           "#FECB52"
          ],
          "font": {
           "color": "#2a3f5f"
          },
          "geo": {
           "bgcolor": "white",
           "lakecolor": "white",
           "landcolor": "#E5ECF6",
           "showlakes": true,
           "showland": true,
           "subunitcolor": "white"
          },
          "hoverlabel": {
           "align": "left"
          },
          "hovermode": "closest",
          "mapbox": {
           "style": "light"
          },
          "paper_bgcolor": "white",
          "plot_bgcolor": "#E5ECF6",
          "polar": {
           "angularaxis": {
            "gridcolor": "white",
            "linecolor": "white",
            "ticks": ""
           },
           "bgcolor": "#E5ECF6",
           "radialaxis": {
            "gridcolor": "white",
            "linecolor": "white",
            "ticks": ""
           }
          },
          "scene": {
           "xaxis": {
            "backgroundcolor": "#E5ECF6",
            "gridcolor": "white",
            "gridwidth": 2,
            "linecolor": "white",
            "showbackground": true,
            "ticks": "",
            "zerolinecolor": "white"
           },
           "yaxis": {
            "backgroundcolor": "#E5ECF6",
            "gridcolor": "white",
            "gridwidth": 2,
            "linecolor": "white",
            "showbackground": true,
            "ticks": "",
            "zerolinecolor": "white"
           },
           "zaxis": {
            "backgroundcolor": "#E5ECF6",
            "gridcolor": "white",
            "gridwidth": 2,
            "linecolor": "white",
            "showbackground": true,
            "ticks": "",
            "zerolinecolor": "white"
           }
          },
          "shapedefaults": {
           "line": {
            "color": "#2a3f5f"
           }
          },
          "ternary": {
           "aaxis": {
            "gridcolor": "white",
            "linecolor": "white",
            "ticks": ""
           },
           "baxis": {
            "gridcolor": "white",
            "linecolor": "white",
            "ticks": ""
           },
           "bgcolor": "#E5ECF6",
           "caxis": {
            "gridcolor": "white",
            "linecolor": "white",
            "ticks": ""
           }
          },
          "title": {
           "x": 0.05
          },
          "xaxis": {
           "automargin": true,
           "gridcolor": "white",
           "linecolor": "white",
           "ticks": "",
           "title": {
            "standoff": 15
           },
           "zerolinecolor": "white",
           "zerolinewidth": 2
          },
          "yaxis": {
           "automargin": true,
           "gridcolor": "white",
           "linecolor": "white",
           "ticks": "",
           "title": {
            "standoff": 15
           },
           "zerolinecolor": "white",
           "zerolinewidth": 2
          }
         }
        },
        "title": {
         "text": "Répartition des personnes selon la carrière"
        },
        "xaxis": {
         "anchor": "y",
         "domain": [
          0,
          1
         ],
         "title": {
          "text": "count"
         }
        },
        "yaxis": {
         "anchor": "x",
         "domain": [
          0,
          1
         ],
         "title": {
          "text": "career_title"
         }
        }
       }
      }
     },
     "metadata": {},
     "output_type": "display_data"
    }
   ],
   "source": [
    "px.histogram(df_population, y='career_title', orientation='h', title=\"Répartition des personnes selon la carrière\")"
   ]
  },
  {
   "attachments": {},
   "cell_type": "markdown",
   "metadata": {},
   "source": [
    "Les étudiants et les métiers de la finance/marketing sont les plus représentés"
   ]
  },
  {
   "cell_type": "code",
   "execution_count": 17,
   "metadata": {},
   "outputs": [
    {
     "data": {
      "application/vnd.plotly.v1+json": {
       "config": {
        "plotlyServerURL": "https://plot.ly"
       },
       "data": [
        {
         "alignmentgroup": "True",
         "bingroup": "y",
         "hovertemplate": "count=%{x}<br>race_title=%{y}<extra></extra>",
         "legendgroup": "",
         "marker": {
          "color": "#636efa",
          "pattern": {
           "shape": ""
          }
         },
         "name": "",
         "offsetgroup": "",
         "orientation": "h",
         "showlegend": false,
         "type": "histogram",
         "xaxis": "x",
         "y": [
          "Asian/Pacific",
          "European/Caucasian",
          "European/Caucasian",
          "European/Caucasian",
          "European/Caucasian",
          "Asian/Pacific",
          "Asian/Pacific",
          "European/Caucasian",
          "Other",
          "European/Caucasian",
          "European/Caucasian",
          "European/Caucasian",
          "Asian/Pacific",
          "European/Caucasian",
          "Latino/Hispanic",
          "European/Caucasian",
          "European/Caucasian",
          "European/Caucasian",
          "European/Caucasian",
          "European/Caucasian",
          "Asian/Pacific",
          "Black/African",
          "Asian/Pacific",
          "European/Caucasian",
          "European/Caucasian",
          "European/Caucasian",
          "Latino/Hispanic",
          "European/Caucasian",
          "European/Caucasian",
          "European/Caucasian",
          "European/Caucasian",
          "Asian/Pacific",
          "European/Caucasian",
          "Asian/Pacific",
          "European/Caucasian",
          "European/Caucasian",
          "European/Caucasian",
          "Black/African",
          "Latino/Hispanic",
          "Asian/Pacific",
          "Asian/Pacific",
          "Asian/Pacific",
          "European/Caucasian",
          "European/Caucasian",
          "European/Caucasian",
          "European/Caucasian",
          "European/Caucasian",
          "European/Caucasian",
          "Asian/Pacific",
          "Black/African",
          "European/Caucasian",
          "European/Caucasian",
          "European/Caucasian",
          "European/Caucasian",
          "Black/African",
          "European/Caucasian",
          "European/Caucasian",
          "Other",
          "European/Caucasian",
          "Latino/Hispanic",
          "Asian/Pacific",
          "Asian/Pacific",
          "Other",
          "Latino/Hispanic",
          "Other",
          "Black/African",
          "European/Caucasian",
          "European/Caucasian",
          "European/Caucasian",
          "European/Caucasian",
          "European/Caucasian",
          "European/Caucasian",
          "Other",
          "European/Caucasian",
          "European/Caucasian",
          "Latino/Hispanic",
          "Asian/Pacific",
          "Asian/Pacific",
          "European/Caucasian",
          "Other",
          "Latino/Hispanic",
          "Latino/Hispanic",
          "European/Caucasian",
          "European/Caucasian",
          "European/Caucasian",
          "European/Caucasian",
          "European/Caucasian",
          "Asian/Pacific",
          "Other",
          "European/Caucasian",
          "European/Caucasian",
          "Asian/Pacific",
          "European/Caucasian",
          "Latino/Hispanic",
          "European/Caucasian",
          "European/Caucasian",
          "European/Caucasian",
          "Other",
          "Asian/Pacific",
          "European/Caucasian",
          "European/Caucasian",
          "European/Caucasian",
          "Black/African",
          "Latino/Hispanic",
          "European/Caucasian",
          "European/Caucasian",
          "Asian/Pacific",
          "European/Caucasian",
          "Asian/Pacific",
          "Other",
          "European/Caucasian",
          "Black/African",
          "European/Caucasian",
          "European/Caucasian",
          "European/Caucasian",
          "Latino/Hispanic",
          "Latino/Hispanic",
          "European/Caucasian",
          "Other",
          "Asian/Pacific",
          "Asian/Pacific",
          "European/Caucasian",
          "European/Caucasian",
          "European/Caucasian",
          "European/Caucasian",
          "Asian/Pacific",
          "Asian/Pacific",
          "European/Caucasian",
          "Asian/Pacific",
          "European/Caucasian",
          "European/Caucasian",
          "Asian/Pacific",
          "European/Caucasian",
          "Asian/Pacific",
          "European/Caucasian",
          "Latino/Hispanic",
          "European/Caucasian",
          "European/Caucasian",
          "European/Caucasian",
          "European/Caucasian",
          "European/Caucasian",
          "Asian/Pacific",
          "Asian/Pacific",
          "European/Caucasian",
          "European/Caucasian",
          "European/Caucasian",
          "Asian/Pacific",
          "Asian/Pacific",
          "European/Caucasian",
          "European/Caucasian",
          "Black/African",
          "Asian/Pacific",
          "European/Caucasian",
          "European/Caucasian",
          "Black/African",
          "European/Caucasian",
          "Asian/Pacific",
          "European/Caucasian",
          "European/Caucasian",
          "European/Caucasian",
          "Other",
          "European/Caucasian",
          "Asian/Pacific",
          "European/Caucasian",
          "Asian/Pacific",
          "European/Caucasian",
          "European/Caucasian",
          "European/Caucasian",
          "Asian/Pacific",
          "Other",
          "Asian/Pacific",
          "European/Caucasian",
          "Asian/Pacific",
          "Latino/Hispanic",
          "Asian/Pacific",
          "Black/African",
          "Black/African",
          "European/Caucasian",
          "European/Caucasian",
          "Asian/Pacific",
          "Asian/Pacific",
          "European/Caucasian",
          "European/Caucasian",
          "Other",
          "European/Caucasian",
          "European/Caucasian",
          "European/Caucasian",
          "Asian/Pacific",
          "European/Caucasian",
          "European/Caucasian",
          "Asian/Pacific",
          "Other",
          "Asian/Pacific",
          "European/Caucasian",
          "European/Caucasian",
          "European/Caucasian",
          "European/Caucasian",
          "European/Caucasian",
          "European/Caucasian",
          "European/Caucasian",
          "Black/African",
          "European/Caucasian",
          "Black/African",
          "Black/African",
          "European/Caucasian",
          "European/Caucasian",
          "Latino/Hispanic",
          "Latino/Hispanic",
          "European/Caucasian",
          "Asian/Pacific",
          "European/Caucasian",
          "European/Caucasian",
          "European/Caucasian",
          "European/Caucasian",
          "Other",
          "Asian/Pacific",
          "European/Caucasian",
          "European/Caucasian",
          "European/Caucasian",
          "Latino/Hispanic",
          "European/Caucasian",
          "European/Caucasian",
          "Asian/Pacific",
          "European/Caucasian",
          "European/Caucasian",
          "Latino/Hispanic",
          "European/Caucasian",
          "Asian/Pacific",
          "Other",
          "European/Caucasian",
          "Asian/Pacific",
          "European/Caucasian",
          "European/Caucasian",
          "European/Caucasian",
          "Asian/Pacific",
          "Asian/Pacific",
          "Latino/Hispanic",
          "European/Caucasian",
          "European/Caucasian",
          "European/Caucasian",
          "European/Caucasian",
          "Asian/Pacific",
          "Other",
          "Other",
          "Other",
          "Other",
          "Latino/Hispanic",
          "Asian/Pacific",
          "European/Caucasian",
          "Asian/Pacific",
          "Asian/Pacific",
          "European/Caucasian",
          "Other",
          "European/Caucasian",
          "Asian/Pacific",
          "Asian/Pacific",
          "European/Caucasian",
          "Black/African",
          "European/Caucasian",
          "European/Caucasian",
          "European/Caucasian",
          "Asian/Pacific",
          "Latino/Hispanic",
          "European/Caucasian",
          "Asian/Pacific",
          "European/Caucasian",
          "European/Caucasian",
          "European/Caucasian",
          "Latino/Hispanic",
          "European/Caucasian",
          "European/Caucasian",
          "European/Caucasian",
          "European/Caucasian",
          "European/Caucasian",
          "European/Caucasian",
          "European/Caucasian",
          "Black/African",
          "Asian/Pacific",
          "European/Caucasian",
          "Other",
          "European/Caucasian",
          "Asian/Pacific",
          "European/Caucasian",
          "Asian/Pacific",
          "European/Caucasian",
          "Asian/Pacific",
          "Black/African",
          "Latino/Hispanic",
          "Asian/Pacific",
          "European/Caucasian",
          "European/Caucasian",
          "European/Caucasian",
          "European/Caucasian",
          "Asian/Pacific",
          "European/Caucasian",
          "European/Caucasian",
          "European/Caucasian",
          "European/Caucasian",
          "European/Caucasian",
          "Asian/Pacific",
          "Asian/Pacific",
          "Asian/Pacific",
          "Asian/Pacific",
          "European/Caucasian",
          "European/Caucasian",
          "Asian/Pacific",
          "European/Caucasian",
          "European/Caucasian",
          "Other",
          "European/Caucasian",
          "European/Caucasian",
          "European/Caucasian",
          "Other",
          "European/Caucasian",
          "European/Caucasian",
          "European/Caucasian",
          "Asian/Pacific",
          "Asian/Pacific",
          "European/Caucasian",
          "Latino/Hispanic",
          "Black/African",
          "European/Caucasian",
          "European/Caucasian",
          "European/Caucasian",
          "Asian/Pacific",
          "European/Caucasian",
          "Asian/Pacific",
          "European/Caucasian",
          "Asian/Pacific",
          "European/Caucasian",
          "Latino/Hispanic",
          "European/Caucasian",
          "Other",
          "Asian/Pacific",
          "Latino/Hispanic",
          "European/Caucasian",
          "Latino/Hispanic",
          "European/Caucasian",
          "Black/African",
          "Asian/Pacific",
          "European/Caucasian",
          "European/Caucasian",
          "Asian/Pacific",
          "Other",
          "Asian/Pacific",
          "European/Caucasian",
          "European/Caucasian",
          "European/Caucasian",
          "Asian/Pacific",
          "Asian/Pacific",
          "European/Caucasian",
          "Other",
          "European/Caucasian",
          "European/Caucasian",
          "Asian/Pacific",
          "Latino/Hispanic",
          "European/Caucasian",
          "European/Caucasian",
          "European/Caucasian",
          "Other",
          "European/Caucasian",
          "European/Caucasian",
          "European/Caucasian",
          "European/Caucasian",
          "Latino/Hispanic",
          "Asian/Pacific",
          "European/Caucasian",
          "Asian/Pacific",
          "Asian/Pacific",
          "European/Caucasian",
          "European/Caucasian",
          "Black/African",
          "European/Caucasian",
          "European/Caucasian",
          "European/Caucasian",
          "European/Caucasian",
          "European/Caucasian",
          "European/Caucasian",
          "European/Caucasian",
          "European/Caucasian",
          "European/Caucasian",
          "Asian/Pacific",
          "European/Caucasian",
          "European/Caucasian",
          "European/Caucasian",
          "European/Caucasian",
          "European/Caucasian",
          "Asian/Pacific",
          "European/Caucasian",
          "European/Caucasian",
          "European/Caucasian",
          "European/Caucasian",
          "European/Caucasian",
          "Asian/Pacific",
          "European/Caucasian",
          "European/Caucasian",
          "Black/African",
          "Asian/Pacific",
          "European/Caucasian",
          "Latino/Hispanic",
          "European/Caucasian",
          "European/Caucasian",
          "European/Caucasian",
          "European/Caucasian",
          "European/Caucasian",
          "European/Caucasian",
          "European/Caucasian",
          "Latino/Hispanic",
          "European/Caucasian",
          "Asian/Pacific",
          "European/Caucasian",
          "European/Caucasian",
          "Asian/Pacific",
          "European/Caucasian",
          "European/Caucasian",
          "Asian/Pacific",
          "European/Caucasian",
          "European/Caucasian",
          "European/Caucasian",
          "Asian/Pacific",
          "European/Caucasian",
          "Asian/Pacific",
          "Asian/Pacific",
          "European/Caucasian",
          "Other",
          "European/Caucasian",
          "Black/African",
          "European/Caucasian",
          "European/Caucasian",
          "European/Caucasian",
          "European/Caucasian",
          "European/Caucasian",
          "European/Caucasian",
          "European/Caucasian",
          "Latino/Hispanic",
          "European/Caucasian",
          "European/Caucasian",
          "Latino/Hispanic",
          "Asian/Pacific",
          "European/Caucasian",
          "Other",
          "European/Caucasian",
          "Asian/Pacific",
          "Asian/Pacific",
          "Asian/Pacific",
          "European/Caucasian",
          "Asian/Pacific",
          "Asian/Pacific",
          "Asian/Pacific",
          "Asian/Pacific",
          "Asian/Pacific",
          "European/Caucasian",
          "Other",
          "Asian/Pacific",
          "Asian/Pacific",
          "Asian/Pacific",
          "European/Caucasian",
          "European/Caucasian",
          "European/Caucasian",
          "Other",
          "Asian/Pacific",
          "Asian/Pacific",
          "Asian/Pacific",
          "Latino/Hispanic",
          "Asian/Pacific",
          "Black/African",
          "Latino/Hispanic",
          "European/Caucasian",
          "Latino/Hispanic",
          "European/Caucasian",
          "European/Caucasian",
          "European/Caucasian",
          "European/Caucasian",
          "European/Caucasian",
          "European/Caucasian",
          "Asian/Pacific",
          "Black/African",
          "Latino/Hispanic",
          "Asian/Pacific",
          "Asian/Pacific",
          "European/Caucasian",
          "European/Caucasian",
          "Latino/Hispanic",
          "Other",
          "Asian/Pacific",
          "European/Caucasian",
          "Other",
          "Asian/Pacific",
          "European/Caucasian",
          "European/Caucasian",
          "European/Caucasian",
          "Black/African",
          "European/Caucasian",
          "Asian/Pacific",
          "European/Caucasian",
          "European/Caucasian",
          "Asian/Pacific",
          "Asian/Pacific",
          "Asian/Pacific",
          "Asian/Pacific",
          "Asian/Pacific",
          "Latino/Hispanic",
          "Asian/Pacific",
          "European/Caucasian",
          "European/Caucasian",
          "European/Caucasian",
          "Asian/Pacific",
          "Latino/Hispanic",
          "European/Caucasian",
          "European/Caucasian",
          "Other",
          "European/Caucasian",
          "European/Caucasian",
          "Asian/Pacific",
          "Asian/Pacific",
          "European/Caucasian",
          "Latino/Hispanic",
          "Other",
          "Latino/Hispanic",
          "Asian/Pacific",
          "Asian/Pacific",
          "Asian/Pacific",
          "Asian/Pacific",
          "European/Caucasian",
          "Other",
          "European/Caucasian",
          "European/Caucasian",
          "Asian/Pacific",
          "European/Caucasian",
          "European/Caucasian",
          "European/Caucasian",
          "Asian/Pacific",
          "Asian/Pacific",
          "Asian/Pacific",
          "Asian/Pacific",
          "European/Caucasian",
          "European/Caucasian",
          "European/Caucasian",
          "European/Caucasian",
          "European/Caucasian",
          "European/Caucasian",
          "Black/African",
          "European/Caucasian"
         ],
         "yaxis": "y"
        }
       ],
       "layout": {
        "barmode": "relative",
        "legend": {
         "tracegroupgap": 0
        },
        "template": {
         "data": {
          "bar": [
           {
            "error_x": {
             "color": "#2a3f5f"
            },
            "error_y": {
             "color": "#2a3f5f"
            },
            "marker": {
             "line": {
              "color": "#E5ECF6",
              "width": 0.5
             },
             "pattern": {
              "fillmode": "overlay",
              "size": 10,
              "solidity": 0.2
             }
            },
            "type": "bar"
           }
          ],
          "barpolar": [
           {
            "marker": {
             "line": {
              "color": "#E5ECF6",
              "width": 0.5
             },
             "pattern": {
              "fillmode": "overlay",
              "size": 10,
              "solidity": 0.2
             }
            },
            "type": "barpolar"
           }
          ],
          "carpet": [
           {
            "aaxis": {
             "endlinecolor": "#2a3f5f",
             "gridcolor": "white",
             "linecolor": "white",
             "minorgridcolor": "white",
             "startlinecolor": "#2a3f5f"
            },
            "baxis": {
             "endlinecolor": "#2a3f5f",
             "gridcolor": "white",
             "linecolor": "white",
             "minorgridcolor": "white",
             "startlinecolor": "#2a3f5f"
            },
            "type": "carpet"
           }
          ],
          "choropleth": [
           {
            "colorbar": {
             "outlinewidth": 0,
             "ticks": ""
            },
            "type": "choropleth"
           }
          ],
          "contour": [
           {
            "colorbar": {
             "outlinewidth": 0,
             "ticks": ""
            },
            "colorscale": [
             [
              0,
              "#0d0887"
             ],
             [
              0.1111111111111111,
              "#46039f"
             ],
             [
              0.2222222222222222,
              "#7201a8"
             ],
             [
              0.3333333333333333,
              "#9c179e"
             ],
             [
              0.4444444444444444,
              "#bd3786"
             ],
             [
              0.5555555555555556,
              "#d8576b"
             ],
             [
              0.6666666666666666,
              "#ed7953"
             ],
             [
              0.7777777777777778,
              "#fb9f3a"
             ],
             [
              0.8888888888888888,
              "#fdca26"
             ],
             [
              1,
              "#f0f921"
             ]
            ],
            "type": "contour"
           }
          ],
          "contourcarpet": [
           {
            "colorbar": {
             "outlinewidth": 0,
             "ticks": ""
            },
            "type": "contourcarpet"
           }
          ],
          "heatmap": [
           {
            "colorbar": {
             "outlinewidth": 0,
             "ticks": ""
            },
            "colorscale": [
             [
              0,
              "#0d0887"
             ],
             [
              0.1111111111111111,
              "#46039f"
             ],
             [
              0.2222222222222222,
              "#7201a8"
             ],
             [
              0.3333333333333333,
              "#9c179e"
             ],
             [
              0.4444444444444444,
              "#bd3786"
             ],
             [
              0.5555555555555556,
              "#d8576b"
             ],
             [
              0.6666666666666666,
              "#ed7953"
             ],
             [
              0.7777777777777778,
              "#fb9f3a"
             ],
             [
              0.8888888888888888,
              "#fdca26"
             ],
             [
              1,
              "#f0f921"
             ]
            ],
            "type": "heatmap"
           }
          ],
          "heatmapgl": [
           {
            "colorbar": {
             "outlinewidth": 0,
             "ticks": ""
            },
            "colorscale": [
             [
              0,
              "#0d0887"
             ],
             [
              0.1111111111111111,
              "#46039f"
             ],
             [
              0.2222222222222222,
              "#7201a8"
             ],
             [
              0.3333333333333333,
              "#9c179e"
             ],
             [
              0.4444444444444444,
              "#bd3786"
             ],
             [
              0.5555555555555556,
              "#d8576b"
             ],
             [
              0.6666666666666666,
              "#ed7953"
             ],
             [
              0.7777777777777778,
              "#fb9f3a"
             ],
             [
              0.8888888888888888,
              "#fdca26"
             ],
             [
              1,
              "#f0f921"
             ]
            ],
            "type": "heatmapgl"
           }
          ],
          "histogram": [
           {
            "marker": {
             "pattern": {
              "fillmode": "overlay",
              "size": 10,
              "solidity": 0.2
             }
            },
            "type": "histogram"
           }
          ],
          "histogram2d": [
           {
            "colorbar": {
             "outlinewidth": 0,
             "ticks": ""
            },
            "colorscale": [
             [
              0,
              "#0d0887"
             ],
             [
              0.1111111111111111,
              "#46039f"
             ],
             [
              0.2222222222222222,
              "#7201a8"
             ],
             [
              0.3333333333333333,
              "#9c179e"
             ],
             [
              0.4444444444444444,
              "#bd3786"
             ],
             [
              0.5555555555555556,
              "#d8576b"
             ],
             [
              0.6666666666666666,
              "#ed7953"
             ],
             [
              0.7777777777777778,
              "#fb9f3a"
             ],
             [
              0.8888888888888888,
              "#fdca26"
             ],
             [
              1,
              "#f0f921"
             ]
            ],
            "type": "histogram2d"
           }
          ],
          "histogram2dcontour": [
           {
            "colorbar": {
             "outlinewidth": 0,
             "ticks": ""
            },
            "colorscale": [
             [
              0,
              "#0d0887"
             ],
             [
              0.1111111111111111,
              "#46039f"
             ],
             [
              0.2222222222222222,
              "#7201a8"
             ],
             [
              0.3333333333333333,
              "#9c179e"
             ],
             [
              0.4444444444444444,
              "#bd3786"
             ],
             [
              0.5555555555555556,
              "#d8576b"
             ],
             [
              0.6666666666666666,
              "#ed7953"
             ],
             [
              0.7777777777777778,
              "#fb9f3a"
             ],
             [
              0.8888888888888888,
              "#fdca26"
             ],
             [
              1,
              "#f0f921"
             ]
            ],
            "type": "histogram2dcontour"
           }
          ],
          "mesh3d": [
           {
            "colorbar": {
             "outlinewidth": 0,
             "ticks": ""
            },
            "type": "mesh3d"
           }
          ],
          "parcoords": [
           {
            "line": {
             "colorbar": {
              "outlinewidth": 0,
              "ticks": ""
             }
            },
            "type": "parcoords"
           }
          ],
          "pie": [
           {
            "automargin": true,
            "type": "pie"
           }
          ],
          "scatter": [
           {
            "fillpattern": {
             "fillmode": "overlay",
             "size": 10,
             "solidity": 0.2
            },
            "type": "scatter"
           }
          ],
          "scatter3d": [
           {
            "line": {
             "colorbar": {
              "outlinewidth": 0,
              "ticks": ""
             }
            },
            "marker": {
             "colorbar": {
              "outlinewidth": 0,
              "ticks": ""
             }
            },
            "type": "scatter3d"
           }
          ],
          "scattercarpet": [
           {
            "marker": {
             "colorbar": {
              "outlinewidth": 0,
              "ticks": ""
             }
            },
            "type": "scattercarpet"
           }
          ],
          "scattergeo": [
           {
            "marker": {
             "colorbar": {
              "outlinewidth": 0,
              "ticks": ""
             }
            },
            "type": "scattergeo"
           }
          ],
          "scattergl": [
           {
            "marker": {
             "colorbar": {
              "outlinewidth": 0,
              "ticks": ""
             }
            },
            "type": "scattergl"
           }
          ],
          "scattermapbox": [
           {
            "marker": {
             "colorbar": {
              "outlinewidth": 0,
              "ticks": ""
             }
            },
            "type": "scattermapbox"
           }
          ],
          "scatterpolar": [
           {
            "marker": {
             "colorbar": {
              "outlinewidth": 0,
              "ticks": ""
             }
            },
            "type": "scatterpolar"
           }
          ],
          "scatterpolargl": [
           {
            "marker": {
             "colorbar": {
              "outlinewidth": 0,
              "ticks": ""
             }
            },
            "type": "scatterpolargl"
           }
          ],
          "scatterternary": [
           {
            "marker": {
             "colorbar": {
              "outlinewidth": 0,
              "ticks": ""
             }
            },
            "type": "scatterternary"
           }
          ],
          "surface": [
           {
            "colorbar": {
             "outlinewidth": 0,
             "ticks": ""
            },
            "colorscale": [
             [
              0,
              "#0d0887"
             ],
             [
              0.1111111111111111,
              "#46039f"
             ],
             [
              0.2222222222222222,
              "#7201a8"
             ],
             [
              0.3333333333333333,
              "#9c179e"
             ],
             [
              0.4444444444444444,
              "#bd3786"
             ],
             [
              0.5555555555555556,
              "#d8576b"
             ],
             [
              0.6666666666666666,
              "#ed7953"
             ],
             [
              0.7777777777777778,
              "#fb9f3a"
             ],
             [
              0.8888888888888888,
              "#fdca26"
             ],
             [
              1,
              "#f0f921"
             ]
            ],
            "type": "surface"
           }
          ],
          "table": [
           {
            "cells": {
             "fill": {
              "color": "#EBF0F8"
             },
             "line": {
              "color": "white"
             }
            },
            "header": {
             "fill": {
              "color": "#C8D4E3"
             },
             "line": {
              "color": "white"
             }
            },
            "type": "table"
           }
          ]
         },
         "layout": {
          "annotationdefaults": {
           "arrowcolor": "#2a3f5f",
           "arrowhead": 0,
           "arrowwidth": 1
          },
          "autotypenumbers": "strict",
          "coloraxis": {
           "colorbar": {
            "outlinewidth": 0,
            "ticks": ""
           }
          },
          "colorscale": {
           "diverging": [
            [
             0,
             "#8e0152"
            ],
            [
             0.1,
             "#c51b7d"
            ],
            [
             0.2,
             "#de77ae"
            ],
            [
             0.3,
             "#f1b6da"
            ],
            [
             0.4,
             "#fde0ef"
            ],
            [
             0.5,
             "#f7f7f7"
            ],
            [
             0.6,
             "#e6f5d0"
            ],
            [
             0.7,
             "#b8e186"
            ],
            [
             0.8,
             "#7fbc41"
            ],
            [
             0.9,
             "#4d9221"
            ],
            [
             1,
             "#276419"
            ]
           ],
           "sequential": [
            [
             0,
             "#0d0887"
            ],
            [
             0.1111111111111111,
             "#46039f"
            ],
            [
             0.2222222222222222,
             "#7201a8"
            ],
            [
             0.3333333333333333,
             "#9c179e"
            ],
            [
             0.4444444444444444,
             "#bd3786"
            ],
            [
             0.5555555555555556,
             "#d8576b"
            ],
            [
             0.6666666666666666,
             "#ed7953"
            ],
            [
             0.7777777777777778,
             "#fb9f3a"
            ],
            [
             0.8888888888888888,
             "#fdca26"
            ],
            [
             1,
             "#f0f921"
            ]
           ],
           "sequentialminus": [
            [
             0,
             "#0d0887"
            ],
            [
             0.1111111111111111,
             "#46039f"
            ],
            [
             0.2222222222222222,
             "#7201a8"
            ],
            [
             0.3333333333333333,
             "#9c179e"
            ],
            [
             0.4444444444444444,
             "#bd3786"
            ],
            [
             0.5555555555555556,
             "#d8576b"
            ],
            [
             0.6666666666666666,
             "#ed7953"
            ],
            [
             0.7777777777777778,
             "#fb9f3a"
            ],
            [
             0.8888888888888888,
             "#fdca26"
            ],
            [
             1,
             "#f0f921"
            ]
           ]
          },
          "colorway": [
           "#636efa",
           "#EF553B",
           "#00cc96",
           "#ab63fa",
           "#FFA15A",
           "#19d3f3",
           "#FF6692",
           "#B6E880",
           "#FF97FF",
           "#FECB52"
          ],
          "font": {
           "color": "#2a3f5f"
          },
          "geo": {
           "bgcolor": "white",
           "lakecolor": "white",
           "landcolor": "#E5ECF6",
           "showlakes": true,
           "showland": true,
           "subunitcolor": "white"
          },
          "hoverlabel": {
           "align": "left"
          },
          "hovermode": "closest",
          "mapbox": {
           "style": "light"
          },
          "paper_bgcolor": "white",
          "plot_bgcolor": "#E5ECF6",
          "polar": {
           "angularaxis": {
            "gridcolor": "white",
            "linecolor": "white",
            "ticks": ""
           },
           "bgcolor": "#E5ECF6",
           "radialaxis": {
            "gridcolor": "white",
            "linecolor": "white",
            "ticks": ""
           }
          },
          "scene": {
           "xaxis": {
            "backgroundcolor": "#E5ECF6",
            "gridcolor": "white",
            "gridwidth": 2,
            "linecolor": "white",
            "showbackground": true,
            "ticks": "",
            "zerolinecolor": "white"
           },
           "yaxis": {
            "backgroundcolor": "#E5ECF6",
            "gridcolor": "white",
            "gridwidth": 2,
            "linecolor": "white",
            "showbackground": true,
            "ticks": "",
            "zerolinecolor": "white"
           },
           "zaxis": {
            "backgroundcolor": "#E5ECF6",
            "gridcolor": "white",
            "gridwidth": 2,
            "linecolor": "white",
            "showbackground": true,
            "ticks": "",
            "zerolinecolor": "white"
           }
          },
          "shapedefaults": {
           "line": {
            "color": "#2a3f5f"
           }
          },
          "ternary": {
           "aaxis": {
            "gridcolor": "white",
            "linecolor": "white",
            "ticks": ""
           },
           "baxis": {
            "gridcolor": "white",
            "linecolor": "white",
            "ticks": ""
           },
           "bgcolor": "#E5ECF6",
           "caxis": {
            "gridcolor": "white",
            "linecolor": "white",
            "ticks": ""
           }
          },
          "title": {
           "x": 0.05
          },
          "xaxis": {
           "automargin": true,
           "gridcolor": "white",
           "linecolor": "white",
           "ticks": "",
           "title": {
            "standoff": 15
           },
           "zerolinecolor": "white",
           "zerolinewidth": 2
          },
          "yaxis": {
           "automargin": true,
           "gridcolor": "white",
           "linecolor": "white",
           "ticks": "",
           "title": {
            "standoff": 15
           },
           "zerolinecolor": "white",
           "zerolinewidth": 2
          }
         }
        },
        "title": {
         "text": "Répartition des personnes selon l'origine ethnique"
        },
        "xaxis": {
         "anchor": "y",
         "domain": [
          0,
          1
         ],
         "title": {
          "text": "count"
         }
        },
        "yaxis": {
         "anchor": "x",
         "domain": [
          0,
          1
         ],
         "title": {
          "text": "race_title"
         }
        }
       }
      }
     },
     "metadata": {},
     "output_type": "display_data"
    }
   ],
   "source": [
    "px.histogram(df_population, y='race_title', orientation='h', title=\"Répartition des personnes selon l'origine ethnique\")"
   ]
  },
  {
   "attachments": {},
   "cell_type": "markdown",
   "metadata": {},
   "source": [
    "Les européens/caucasien sont les plus représentés."
   ]
  },
  {
   "cell_type": "code",
   "execution_count": 18,
   "metadata": {},
   "outputs": [
    {
     "data": {
      "application/vnd.plotly.v1+json": {
       "config": {
        "plotlyServerURL": "https://plot.ly"
       },
       "data": [
        {
         "alignmentgroup": "True",
         "bingroup": "x",
         "hovertemplate": "age=%{x}<br>count=%{y}<extra></extra>",
         "legendgroup": "",
         "marker": {
          "color": "#636efa",
          "pattern": {
           "shape": ""
          }
         },
         "name": "",
         "offsetgroup": "",
         "orientation": "v",
         "showlegend": false,
         "type": "histogram",
         "x": [
          21,
          24,
          25,
          23,
          21,
          23,
          22,
          25,
          26,
          26,
          27,
          22,
          22,
          23,
          24,
          25,
          30,
          27,
          28,
          24,
          21,
          27,
          21,
          27,
          25,
          23,
          22,
          26,
          22,
          23,
          24,
          27,
          30,
          21,
          25,
          26,
          27,
          23,
          24,
          25,
          30,
          23,
          24,
          24,
          28,
          26,
          30,
          22,
          25,
          27,
          23,
          21,
          28,
          28,
          23,
          23,
          22,
          29,
          28,
          26,
          24,
          27,
          23,
          29,
          22,
          27,
          28,
          26,
          21,
          22,
          22,
          25,
          24,
          34,
          22,
          23,
          26,
          27,
          28,
          25,
          35,
          32,
          30,
          22,
          23,
          23,
          27,
          23,
          25,
          29,
          29,
          28,
          26,
          26,
          29,
          39,
          28,
          30,
          22,
          32,
          26,
          27,
          25,
          22,
          21,
          24,
          25,
          28,
          27,
          20,
          21,
          20,
          21,
          21,
          21,
          19,
          20,
          21,
          22,
          18,
          22,
          21,
          22,
          22,
          21,
          20,
          19,
          27,
          24,
          23,
          26,
          26,
          32,
          37,
          29,
          28,
          24,
          33,
          23,
          24,
          36,
          26,
          27,
          28,
          31,
          28,
          27,
          28,
          27,
          27,
          30,
          28,
          23,
          28,
          29,
          22,
          27,
          26,
          27,
          30,
          26,
          23,
          23,
          28,
          28,
          29,
          27,
          22,
          29,
          23,
          28,
          22,
          35,
          30,
          24,
          22,
          22,
          24,
          34,
          25,
          24,
          26,
          21,
          27,
          25,
          28,
          24,
          25,
          24,
          27,
          25,
          24,
          23,
          30,
          25,
          25,
          22,
          22,
          26,
          23,
          31,
          23,
          25,
          28,
          29,
          28,
          27,
          25,
          23,
          26,
          27,
          26,
          24,
          26,
          25,
          27,
          27,
          28,
          32,
          28,
          23,
          26,
          24,
          28,
          42,
          30,
          31,
          29,
          22,
          23,
          24,
          34,
          27,
          34,
          26,
          29,
          26,
          27,
          28,
          32,
          25,
          25,
          27,
          33,
          25,
          33,
          28,
          33,
          22,
          26,
          24,
          24,
          25,
          25,
          27,
          26,
          29,
          26,
          26,
          32,
          28,
          26,
          24,
          24,
          23,
          23,
          25,
          29,
          24,
          21,
          26,
          25,
          32,
          25,
          25,
          27,
          23,
          27,
          27,
          24,
          22,
          22,
          27,
          28,
          34,
          27,
          28,
          28,
          30,
          30,
          28,
          21,
          22,
          24,
          35,
          34,
          21,
          33,
          28,
          29,
          22,
          27,
          27,
          32,
          25,
          29,
          23,
          27,
          32,
          27,
          25,
          30,
          29,
          26,
          36,
          29,
          34,
          25,
          23,
          30,
          36,
          29,
          30,
          29,
          22,
          34,
          30,
          23,
          29,
          24,
          25,
          28,
          27,
          23,
          33,
          32,
          26,
          24,
          26,
          21,
          33,
          31,
          35,
          29,
          25,
          22,
          24,
          27,
          27,
          26,
          26,
          24,
          34,
          30,
          23,
          27,
          30,
          27,
          27,
          24,
          25,
          28,
          27,
          27,
          29,
          30,
          27,
          25,
          26,
          29,
          38,
          33,
          24,
          28,
          27,
          23,
          25,
          26,
          25,
          24,
          21,
          30,
          28,
          26,
          22,
          24,
          33,
          25,
          24,
          29,
          29,
          26,
          31,
          29,
          22,
          23,
          30,
          27,
          24,
          24,
          23,
          27,
          34,
          27,
          26,
          29,
          31,
          25,
          29,
          25,
          28,
          22,
          25,
          26,
          30,
          24,
          28,
          24,
          28,
          27,
          27,
          22,
          27,
          28,
          30,
          27,
          22,
          23,
          23,
          23,
          29,
          21,
          24,
          25,
          27,
          26,
          30,
          28,
          26,
          22,
          23,
          25,
          30,
          29,
          27,
          27,
          24,
          29,
          55,
          29,
          26,
          33,
          27,
          33,
          23,
          33,
          23,
          24,
          24,
          25,
          25,
          29,
          30,
          25,
          34,
          30,
          27,
          25,
          27,
          26,
          27,
          26,
          23,
          30,
          28,
          31,
          29,
          32,
          24,
          29,
          28,
          29,
          29,
          30,
          20,
          30,
          32,
          23,
          24,
          25,
          26,
          25,
          26,
          26,
          25,
          23,
          27,
          24,
          24,
          36,
          28,
          26,
          23,
          23,
          23,
          23,
          27,
          30,
          23,
          26,
          28,
          26,
          22,
          27,
          25,
          24,
          26,
          24,
          29,
          22,
          22,
          25,
          26,
          26,
          24,
          23,
          29,
          22,
          32,
          22,
          24,
          23,
          23,
          24,
          23,
          24,
          30,
          30,
          30,
          28,
          30,
          27,
          25
         ],
         "xaxis": "x",
         "yaxis": "y"
        }
       ],
       "layout": {
        "barmode": "relative",
        "legend": {
         "tracegroupgap": 0
        },
        "template": {
         "data": {
          "bar": [
           {
            "error_x": {
             "color": "#2a3f5f"
            },
            "error_y": {
             "color": "#2a3f5f"
            },
            "marker": {
             "line": {
              "color": "#E5ECF6",
              "width": 0.5
             },
             "pattern": {
              "fillmode": "overlay",
              "size": 10,
              "solidity": 0.2
             }
            },
            "type": "bar"
           }
          ],
          "barpolar": [
           {
            "marker": {
             "line": {
              "color": "#E5ECF6",
              "width": 0.5
             },
             "pattern": {
              "fillmode": "overlay",
              "size": 10,
              "solidity": 0.2
             }
            },
            "type": "barpolar"
           }
          ],
          "carpet": [
           {
            "aaxis": {
             "endlinecolor": "#2a3f5f",
             "gridcolor": "white",
             "linecolor": "white",
             "minorgridcolor": "white",
             "startlinecolor": "#2a3f5f"
            },
            "baxis": {
             "endlinecolor": "#2a3f5f",
             "gridcolor": "white",
             "linecolor": "white",
             "minorgridcolor": "white",
             "startlinecolor": "#2a3f5f"
            },
            "type": "carpet"
           }
          ],
          "choropleth": [
           {
            "colorbar": {
             "outlinewidth": 0,
             "ticks": ""
            },
            "type": "choropleth"
           }
          ],
          "contour": [
           {
            "colorbar": {
             "outlinewidth": 0,
             "ticks": ""
            },
            "colorscale": [
             [
              0,
              "#0d0887"
             ],
             [
              0.1111111111111111,
              "#46039f"
             ],
             [
              0.2222222222222222,
              "#7201a8"
             ],
             [
              0.3333333333333333,
              "#9c179e"
             ],
             [
              0.4444444444444444,
              "#bd3786"
             ],
             [
              0.5555555555555556,
              "#d8576b"
             ],
             [
              0.6666666666666666,
              "#ed7953"
             ],
             [
              0.7777777777777778,
              "#fb9f3a"
             ],
             [
              0.8888888888888888,
              "#fdca26"
             ],
             [
              1,
              "#f0f921"
             ]
            ],
            "type": "contour"
           }
          ],
          "contourcarpet": [
           {
            "colorbar": {
             "outlinewidth": 0,
             "ticks": ""
            },
            "type": "contourcarpet"
           }
          ],
          "heatmap": [
           {
            "colorbar": {
             "outlinewidth": 0,
             "ticks": ""
            },
            "colorscale": [
             [
              0,
              "#0d0887"
             ],
             [
              0.1111111111111111,
              "#46039f"
             ],
             [
              0.2222222222222222,
              "#7201a8"
             ],
             [
              0.3333333333333333,
              "#9c179e"
             ],
             [
              0.4444444444444444,
              "#bd3786"
             ],
             [
              0.5555555555555556,
              "#d8576b"
             ],
             [
              0.6666666666666666,
              "#ed7953"
             ],
             [
              0.7777777777777778,
              "#fb9f3a"
             ],
             [
              0.8888888888888888,
              "#fdca26"
             ],
             [
              1,
              "#f0f921"
             ]
            ],
            "type": "heatmap"
           }
          ],
          "heatmapgl": [
           {
            "colorbar": {
             "outlinewidth": 0,
             "ticks": ""
            },
            "colorscale": [
             [
              0,
              "#0d0887"
             ],
             [
              0.1111111111111111,
              "#46039f"
             ],
             [
              0.2222222222222222,
              "#7201a8"
             ],
             [
              0.3333333333333333,
              "#9c179e"
             ],
             [
              0.4444444444444444,
              "#bd3786"
             ],
             [
              0.5555555555555556,
              "#d8576b"
             ],
             [
              0.6666666666666666,
              "#ed7953"
             ],
             [
              0.7777777777777778,
              "#fb9f3a"
             ],
             [
              0.8888888888888888,
              "#fdca26"
             ],
             [
              1,
              "#f0f921"
             ]
            ],
            "type": "heatmapgl"
           }
          ],
          "histogram": [
           {
            "marker": {
             "pattern": {
              "fillmode": "overlay",
              "size": 10,
              "solidity": 0.2
             }
            },
            "type": "histogram"
           }
          ],
          "histogram2d": [
           {
            "colorbar": {
             "outlinewidth": 0,
             "ticks": ""
            },
            "colorscale": [
             [
              0,
              "#0d0887"
             ],
             [
              0.1111111111111111,
              "#46039f"
             ],
             [
              0.2222222222222222,
              "#7201a8"
             ],
             [
              0.3333333333333333,
              "#9c179e"
             ],
             [
              0.4444444444444444,
              "#bd3786"
             ],
             [
              0.5555555555555556,
              "#d8576b"
             ],
             [
              0.6666666666666666,
              "#ed7953"
             ],
             [
              0.7777777777777778,
              "#fb9f3a"
             ],
             [
              0.8888888888888888,
              "#fdca26"
             ],
             [
              1,
              "#f0f921"
             ]
            ],
            "type": "histogram2d"
           }
          ],
          "histogram2dcontour": [
           {
            "colorbar": {
             "outlinewidth": 0,
             "ticks": ""
            },
            "colorscale": [
             [
              0,
              "#0d0887"
             ],
             [
              0.1111111111111111,
              "#46039f"
             ],
             [
              0.2222222222222222,
              "#7201a8"
             ],
             [
              0.3333333333333333,
              "#9c179e"
             ],
             [
              0.4444444444444444,
              "#bd3786"
             ],
             [
              0.5555555555555556,
              "#d8576b"
             ],
             [
              0.6666666666666666,
              "#ed7953"
             ],
             [
              0.7777777777777778,
              "#fb9f3a"
             ],
             [
              0.8888888888888888,
              "#fdca26"
             ],
             [
              1,
              "#f0f921"
             ]
            ],
            "type": "histogram2dcontour"
           }
          ],
          "mesh3d": [
           {
            "colorbar": {
             "outlinewidth": 0,
             "ticks": ""
            },
            "type": "mesh3d"
           }
          ],
          "parcoords": [
           {
            "line": {
             "colorbar": {
              "outlinewidth": 0,
              "ticks": ""
             }
            },
            "type": "parcoords"
           }
          ],
          "pie": [
           {
            "automargin": true,
            "type": "pie"
           }
          ],
          "scatter": [
           {
            "fillpattern": {
             "fillmode": "overlay",
             "size": 10,
             "solidity": 0.2
            },
            "type": "scatter"
           }
          ],
          "scatter3d": [
           {
            "line": {
             "colorbar": {
              "outlinewidth": 0,
              "ticks": ""
             }
            },
            "marker": {
             "colorbar": {
              "outlinewidth": 0,
              "ticks": ""
             }
            },
            "type": "scatter3d"
           }
          ],
          "scattercarpet": [
           {
            "marker": {
             "colorbar": {
              "outlinewidth": 0,
              "ticks": ""
             }
            },
            "type": "scattercarpet"
           }
          ],
          "scattergeo": [
           {
            "marker": {
             "colorbar": {
              "outlinewidth": 0,
              "ticks": ""
             }
            },
            "type": "scattergeo"
           }
          ],
          "scattergl": [
           {
            "marker": {
             "colorbar": {
              "outlinewidth": 0,
              "ticks": ""
             }
            },
            "type": "scattergl"
           }
          ],
          "scattermapbox": [
           {
            "marker": {
             "colorbar": {
              "outlinewidth": 0,
              "ticks": ""
             }
            },
            "type": "scattermapbox"
           }
          ],
          "scatterpolar": [
           {
            "marker": {
             "colorbar": {
              "outlinewidth": 0,
              "ticks": ""
             }
            },
            "type": "scatterpolar"
           }
          ],
          "scatterpolargl": [
           {
            "marker": {
             "colorbar": {
              "outlinewidth": 0,
              "ticks": ""
             }
            },
            "type": "scatterpolargl"
           }
          ],
          "scatterternary": [
           {
            "marker": {
             "colorbar": {
              "outlinewidth": 0,
              "ticks": ""
             }
            },
            "type": "scatterternary"
           }
          ],
          "surface": [
           {
            "colorbar": {
             "outlinewidth": 0,
             "ticks": ""
            },
            "colorscale": [
             [
              0,
              "#0d0887"
             ],
             [
              0.1111111111111111,
              "#46039f"
             ],
             [
              0.2222222222222222,
              "#7201a8"
             ],
             [
              0.3333333333333333,
              "#9c179e"
             ],
             [
              0.4444444444444444,
              "#bd3786"
             ],
             [
              0.5555555555555556,
              "#d8576b"
             ],
             [
              0.6666666666666666,
              "#ed7953"
             ],
             [
              0.7777777777777778,
              "#fb9f3a"
             ],
             [
              0.8888888888888888,
              "#fdca26"
             ],
             [
              1,
              "#f0f921"
             ]
            ],
            "type": "surface"
           }
          ],
          "table": [
           {
            "cells": {
             "fill": {
              "color": "#EBF0F8"
             },
             "line": {
              "color": "white"
             }
            },
            "header": {
             "fill": {
              "color": "#C8D4E3"
             },
             "line": {
              "color": "white"
             }
            },
            "type": "table"
           }
          ]
         },
         "layout": {
          "annotationdefaults": {
           "arrowcolor": "#2a3f5f",
           "arrowhead": 0,
           "arrowwidth": 1
          },
          "autotypenumbers": "strict",
          "coloraxis": {
           "colorbar": {
            "outlinewidth": 0,
            "ticks": ""
           }
          },
          "colorscale": {
           "diverging": [
            [
             0,
             "#8e0152"
            ],
            [
             0.1,
             "#c51b7d"
            ],
            [
             0.2,
             "#de77ae"
            ],
            [
             0.3,
             "#f1b6da"
            ],
            [
             0.4,
             "#fde0ef"
            ],
            [
             0.5,
             "#f7f7f7"
            ],
            [
             0.6,
             "#e6f5d0"
            ],
            [
             0.7,
             "#b8e186"
            ],
            [
             0.8,
             "#7fbc41"
            ],
            [
             0.9,
             "#4d9221"
            ],
            [
             1,
             "#276419"
            ]
           ],
           "sequential": [
            [
             0,
             "#0d0887"
            ],
            [
             0.1111111111111111,
             "#46039f"
            ],
            [
             0.2222222222222222,
             "#7201a8"
            ],
            [
             0.3333333333333333,
             "#9c179e"
            ],
            [
             0.4444444444444444,
             "#bd3786"
            ],
            [
             0.5555555555555556,
             "#d8576b"
            ],
            [
             0.6666666666666666,
             "#ed7953"
            ],
            [
             0.7777777777777778,
             "#fb9f3a"
            ],
            [
             0.8888888888888888,
             "#fdca26"
            ],
            [
             1,
             "#f0f921"
            ]
           ],
           "sequentialminus": [
            [
             0,
             "#0d0887"
            ],
            [
             0.1111111111111111,
             "#46039f"
            ],
            [
             0.2222222222222222,
             "#7201a8"
            ],
            [
             0.3333333333333333,
             "#9c179e"
            ],
            [
             0.4444444444444444,
             "#bd3786"
            ],
            [
             0.5555555555555556,
             "#d8576b"
            ],
            [
             0.6666666666666666,
             "#ed7953"
            ],
            [
             0.7777777777777778,
             "#fb9f3a"
            ],
            [
             0.8888888888888888,
             "#fdca26"
            ],
            [
             1,
             "#f0f921"
            ]
           ]
          },
          "colorway": [
           "#636efa",
           "#EF553B",
           "#00cc96",
           "#ab63fa",
           "#FFA15A",
           "#19d3f3",
           "#FF6692",
           "#B6E880",
           "#FF97FF",
           "#FECB52"
          ],
          "font": {
           "color": "#2a3f5f"
          },
          "geo": {
           "bgcolor": "white",
           "lakecolor": "white",
           "landcolor": "#E5ECF6",
           "showlakes": true,
           "showland": true,
           "subunitcolor": "white"
          },
          "hoverlabel": {
           "align": "left"
          },
          "hovermode": "closest",
          "mapbox": {
           "style": "light"
          },
          "paper_bgcolor": "white",
          "plot_bgcolor": "#E5ECF6",
          "polar": {
           "angularaxis": {
            "gridcolor": "white",
            "linecolor": "white",
            "ticks": ""
           },
           "bgcolor": "#E5ECF6",
           "radialaxis": {
            "gridcolor": "white",
            "linecolor": "white",
            "ticks": ""
           }
          },
          "scene": {
           "xaxis": {
            "backgroundcolor": "#E5ECF6",
            "gridcolor": "white",
            "gridwidth": 2,
            "linecolor": "white",
            "showbackground": true,
            "ticks": "",
            "zerolinecolor": "white"
           },
           "yaxis": {
            "backgroundcolor": "#E5ECF6",
            "gridcolor": "white",
            "gridwidth": 2,
            "linecolor": "white",
            "showbackground": true,
            "ticks": "",
            "zerolinecolor": "white"
           },
           "zaxis": {
            "backgroundcolor": "#E5ECF6",
            "gridcolor": "white",
            "gridwidth": 2,
            "linecolor": "white",
            "showbackground": true,
            "ticks": "",
            "zerolinecolor": "white"
           }
          },
          "shapedefaults": {
           "line": {
            "color": "#2a3f5f"
           }
          },
          "ternary": {
           "aaxis": {
            "gridcolor": "white",
            "linecolor": "white",
            "ticks": ""
           },
           "baxis": {
            "gridcolor": "white",
            "linecolor": "white",
            "ticks": ""
           },
           "bgcolor": "#E5ECF6",
           "caxis": {
            "gridcolor": "white",
            "linecolor": "white",
            "ticks": ""
           }
          },
          "title": {
           "x": 0.05
          },
          "xaxis": {
           "automargin": true,
           "gridcolor": "white",
           "linecolor": "white",
           "ticks": "",
           "title": {
            "standoff": 15
           },
           "zerolinecolor": "white",
           "zerolinewidth": 2
          },
          "yaxis": {
           "automargin": true,
           "gridcolor": "white",
           "linecolor": "white",
           "ticks": "",
           "title": {
            "standoff": 15
           },
           "zerolinecolor": "white",
           "zerolinewidth": 2
          }
         }
        },
        "title": {
         "text": "Répartition des personnes selon l'âge"
        },
        "xaxis": {
         "anchor": "y",
         "domain": [
          0,
          1
         ],
         "title": {
          "text": "age"
         }
        },
        "yaxis": {
         "anchor": "x",
         "domain": [
          0,
          1
         ],
         "title": {
          "text": "count"
         }
        }
       }
      }
     },
     "metadata": {},
     "output_type": "display_data"
    }
   ],
   "source": [
    "px.histogram(df_population, x='age', orientation='v', title=\"Répartition des personnes selon l'âge\")"
   ]
  },
  {
   "cell_type": "code",
   "execution_count": 19,
   "metadata": {},
   "outputs": [
    {
     "name": "stdout",
     "output_type": "stream",
     "text": [
      "L'âge moyen est de  26.36 ans\n",
      "L'âge médian est de  26.0 ans\n",
      "L'âge de 95% des personnes sont éloignés de moins de  7.53 ans de la moyenne\n"
     ]
    }
   ],
   "source": [
    "print(\"L'âge moyen est de \", round(df_population['age'].mean(),2), \"ans\")\n",
    "print(\"L'âge médian est de \", round(df_population['age'].median(),2), \"ans\")\n",
    "print(\"L'âge de 95% des personnes sont éloignés de moins de \", round(2*df_population['age'].std(),2), \"ans de la moyenne\")"
   ]
  },
  {
   "attachments": {},
   "cell_type": "markdown",
   "metadata": {},
   "source": [
    "Les rencontres se font majoritairement dans des âges proches. On remarque un participant de 55 ans qui pourrait presque être considéré comme outliers. Etant seul, il n'affecte pas trop la distribution.\n",
    "\n",
    "**La médiane étant quasi identique à la moyenne. La distribution respecte très bien la loi normale.**"
   ]
  },
  {
   "attachments": {},
   "cell_type": "markdown",
   "metadata": {},
   "source": [
    "Regardons quelles populations sont les plus encluns à faire des matchs :"
   ]
  },
  {
   "cell_type": "code",
   "execution_count": 20,
   "metadata": {},
   "outputs": [],
   "source": [
    "df_race_match = df.groupby([\"race\",\"race_title\"]).agg({'match':'sum'}).reset_index() # cette somme est équivalent à count des match=1\n",
    "df_race_count = df.groupby([\"race\",\"race_title\"]).agg({'iid':'count'}).reset_index()"
   ]
  },
  {
   "cell_type": "code",
   "execution_count": 21,
   "metadata": {},
   "outputs": [],
   "source": [
    "df_race_match['match_rate'] = df_race_match['match'] / df_race_count['iid'] * 100"
   ]
  },
  {
   "cell_type": "code",
   "execution_count": 22,
   "metadata": {},
   "outputs": [
    {
     "data": {
      "text/html": [
       "<div>\n",
       "<style scoped>\n",
       "    .dataframe tbody tr th:only-of-type {\n",
       "        vertical-align: middle;\n",
       "    }\n",
       "\n",
       "    .dataframe tbody tr th {\n",
       "        vertical-align: top;\n",
       "    }\n",
       "\n",
       "    .dataframe thead th {\n",
       "        text-align: right;\n",
       "    }\n",
       "</style>\n",
       "<table border=\"1\" class=\"dataframe\">\n",
       "  <thead>\n",
       "    <tr style=\"text-align: right;\">\n",
       "      <th></th>\n",
       "      <th>race</th>\n",
       "      <th>race_title</th>\n",
       "      <th>match</th>\n",
       "      <th>match_rate</th>\n",
       "    </tr>\n",
       "  </thead>\n",
       "  <tbody>\n",
       "    <tr>\n",
       "      <th>0</th>\n",
       "      <td>1.0</td>\n",
       "      <td>Black/African</td>\n",
       "      <td>85</td>\n",
       "      <td>20.238095</td>\n",
       "    </tr>\n",
       "    <tr>\n",
       "      <th>4</th>\n",
       "      <td>6.0</td>\n",
       "      <td>Other</td>\n",
       "      <td>117</td>\n",
       "      <td>20.000000</td>\n",
       "    </tr>\n",
       "    <tr>\n",
       "      <th>2</th>\n",
       "      <td>3.0</td>\n",
       "      <td>Latino/Hispanic</td>\n",
       "      <td>123</td>\n",
       "      <td>18.524096</td>\n",
       "    </tr>\n",
       "    <tr>\n",
       "      <th>1</th>\n",
       "      <td>2.0</td>\n",
       "      <td>European/Caucasian</td>\n",
       "      <td>788</td>\n",
       "      <td>16.670193</td>\n",
       "    </tr>\n",
       "    <tr>\n",
       "      <th>3</th>\n",
       "      <td>4.0</td>\n",
       "      <td>Asian/Pacific</td>\n",
       "      <td>267</td>\n",
       "      <td>13.471241</td>\n",
       "    </tr>\n",
       "  </tbody>\n",
       "</table>\n",
       "</div>"
      ],
      "text/plain": [
       "   race          race_title  match  match_rate\n",
       "0   1.0       Black/African     85   20.238095\n",
       "4   6.0               Other    117   20.000000\n",
       "2   3.0     Latino/Hispanic    123   18.524096\n",
       "1   2.0  European/Caucasian    788   16.670193\n",
       "3   4.0       Asian/Pacific    267   13.471241"
      ]
     },
     "execution_count": 22,
     "metadata": {},
     "output_type": "execute_result"
    }
   ],
   "source": [
    "df_race_match.sort_values('match_rate', ascending=False)"
   ]
  },
  {
   "attachments": {},
   "cell_type": "markdown",
   "metadata": {},
   "source": [
    "La population Black/African va plus souvent faire des matchs avec 20.2% des dates alors que la population Asian/Pacific fera un match dans 13,4% des cas. Comme vu plus haut, le % global de match est de 16.47 %."
   ]
  },
  {
   "cell_type": "code",
   "execution_count": 23,
   "metadata": {},
   "outputs": [
    {
     "data": {
      "text/html": [
       "<div>\n",
       "<style scoped>\n",
       "    .dataframe tbody tr th:only-of-type {\n",
       "        vertical-align: middle;\n",
       "    }\n",
       "\n",
       "    .dataframe tbody tr th {\n",
       "        vertical-align: top;\n",
       "    }\n",
       "\n",
       "    .dataframe thead th {\n",
       "        text-align: right;\n",
       "    }\n",
       "</style>\n",
       "<table border=\"1\" class=\"dataframe\">\n",
       "  <thead>\n",
       "    <tr style=\"text-align: right;\">\n",
       "      <th></th>\n",
       "      <th>career_c</th>\n",
       "      <th>career_title</th>\n",
       "      <th>match</th>\n",
       "      <th>match_rate</th>\n",
       "    </tr>\n",
       "  </thead>\n",
       "  <tbody>\n",
       "    <tr>\n",
       "      <th>13</th>\n",
       "      <td>14.0</td>\n",
       "      <td>Pro sports/Athletics</td>\n",
       "      <td>3</td>\n",
       "      <td>30.000000</td>\n",
       "    </tr>\n",
       "    <tr>\n",
       "      <th>2</th>\n",
       "      <td>3.0</td>\n",
       "      <td>Psychologist</td>\n",
       "      <td>54</td>\n",
       "      <td>20.689655</td>\n",
       "    </tr>\n",
       "    <tr>\n",
       "      <th>0</th>\n",
       "      <td>1.0</td>\n",
       "      <td>Lawyer</td>\n",
       "      <td>134</td>\n",
       "      <td>19.851852</td>\n",
       "    </tr>\n",
       "    <tr>\n",
       "      <th>15</th>\n",
       "      <td>16.0</td>\n",
       "      <td>Journalism</td>\n",
       "      <td>8</td>\n",
       "      <td>18.181818</td>\n",
       "    </tr>\n",
       "    <tr>\n",
       "      <th>6</th>\n",
       "      <td>7.0</td>\n",
       "      <td>Banking/Consulting/Finance/Marketing/Business</td>\n",
       "      <td>390</td>\n",
       "      <td>17.972350</td>\n",
       "    </tr>\n",
       "    <tr>\n",
       "      <th>3</th>\n",
       "      <td>4.0</td>\n",
       "      <td>Doctor/Medicine</td>\n",
       "      <td>70</td>\n",
       "      <td>16.627078</td>\n",
       "    </tr>\n",
       "    <tr>\n",
       "      <th>14</th>\n",
       "      <td>15.0</td>\n",
       "      <td>Other</td>\n",
       "      <td>35</td>\n",
       "      <td>16.279070</td>\n",
       "    </tr>\n",
       "    <tr>\n",
       "      <th>10</th>\n",
       "      <td>11.0</td>\n",
       "      <td>Social Work</td>\n",
       "      <td>35</td>\n",
       "      <td>15.909091</td>\n",
       "    </tr>\n",
       "    <tr>\n",
       "      <th>5</th>\n",
       "      <td>6.0</td>\n",
       "      <td>Creative Arts/Entertainment</td>\n",
       "      <td>115</td>\n",
       "      <td>15.883978</td>\n",
       "    </tr>\n",
       "    <tr>\n",
       "      <th>1</th>\n",
       "      <td>2.0</td>\n",
       "      <td>Academic/Research</td>\n",
       "      <td>360</td>\n",
       "      <td>15.517241</td>\n",
       "    </tr>\n",
       "    <tr>\n",
       "      <th>4</th>\n",
       "      <td>5.0</td>\n",
       "      <td>Engineer</td>\n",
       "      <td>36</td>\n",
       "      <td>15.384615</td>\n",
       "    </tr>\n",
       "    <tr>\n",
       "      <th>8</th>\n",
       "      <td>9.0</td>\n",
       "      <td>International/Humanitarian Affairs</td>\n",
       "      <td>79</td>\n",
       "      <td>14.442413</td>\n",
       "    </tr>\n",
       "    <tr>\n",
       "      <th>7</th>\n",
       "      <td>8.0</td>\n",
       "      <td>Real Estate</td>\n",
       "      <td>5</td>\n",
       "      <td>12.820513</td>\n",
       "    </tr>\n",
       "    <tr>\n",
       "      <th>9</th>\n",
       "      <td>10.0</td>\n",
       "      <td>Undecided</td>\n",
       "      <td>48</td>\n",
       "      <td>12.664908</td>\n",
       "    </tr>\n",
       "    <tr>\n",
       "      <th>16</th>\n",
       "      <td>17.0</td>\n",
       "      <td>Architecture</td>\n",
       "      <td>1</td>\n",
       "      <td>10.000000</td>\n",
       "    </tr>\n",
       "    <tr>\n",
       "      <th>12</th>\n",
       "      <td>13.0</td>\n",
       "      <td>Politics</td>\n",
       "      <td>6</td>\n",
       "      <td>7.407407</td>\n",
       "    </tr>\n",
       "    <tr>\n",
       "      <th>11</th>\n",
       "      <td>12.0</td>\n",
       "      <td>Speech Pathology</td>\n",
       "      <td>1</td>\n",
       "      <td>3.571429</td>\n",
       "    </tr>\n",
       "  </tbody>\n",
       "</table>\n",
       "</div>"
      ],
      "text/plain": [
       "    career_c                                   career_title  match  match_rate\n",
       "13      14.0                           Pro sports/Athletics      3   30.000000\n",
       "2        3.0                                   Psychologist     54   20.689655\n",
       "0        1.0                                         Lawyer    134   19.851852\n",
       "15      16.0                                     Journalism      8   18.181818\n",
       "6        7.0  Banking/Consulting/Finance/Marketing/Business    390   17.972350\n",
       "3        4.0                                Doctor/Medicine     70   16.627078\n",
       "14      15.0                                          Other     35   16.279070\n",
       "10      11.0                                    Social Work     35   15.909091\n",
       "5        6.0                    Creative Arts/Entertainment    115   15.883978\n",
       "1        2.0                              Academic/Research    360   15.517241\n",
       "4        5.0                                       Engineer     36   15.384615\n",
       "8        9.0             International/Humanitarian Affairs     79   14.442413\n",
       "7        8.0                                    Real Estate      5   12.820513\n",
       "9       10.0                                      Undecided     48   12.664908\n",
       "16      17.0                                   Architecture      1   10.000000\n",
       "12      13.0                                       Politics      6    7.407407\n",
       "11      12.0                               Speech Pathology      1    3.571429"
      ]
     },
     "execution_count": 23,
     "metadata": {},
     "output_type": "execute_result"
    }
   ],
   "source": [
    "# Exactement la même logique que pour \"race\"\n",
    "df_career_match = df.groupby([\"career_c\",\"career_title\"]).agg({'match':'sum'}).reset_index()\n",
    "df_career_count = df.groupby([\"career_c\",\"career_title\"]).agg({'iid':'count'}).reset_index()\n",
    "\n",
    "df_career_match['match_rate'] = df_career_match['match'] / df_career_count['iid'] * 100\n",
    "\n",
    "df_career_match.sort_values('match_rate', ascending=False)"
   ]
  },
  {
   "attachments": {},
   "cell_type": "markdown",
   "metadata": {},
   "source": [
    "En regardant les catégories suffisemment représentées (il n'y a qu'un seul sportif et un seul architecte par exemple), les Psychologist et Lawyer sont plus encluns à matcher que les International/Humanitarian Affairs et les Engineer."
   ]
  },
  {
   "attachments": {},
   "cell_type": "markdown",
   "metadata": {},
   "source": [
    "**Pour créer une fonction plus générique ensuite** : nous avons une colonne \"samerace\" qui indique si le date était avec des personnes de la même origine ethnique (pas spécialement très éthique cette donnée cependant). On aurait pu le déduire nous même. Et voici comment faire :"
   ]
  },
  {
   "cell_type": "code",
   "execution_count": 24,
   "metadata": {},
   "outputs": [
    {
     "data": {
      "text/html": [
       "<div>\n",
       "<style scoped>\n",
       "    .dataframe tbody tr th:only-of-type {\n",
       "        vertical-align: middle;\n",
       "    }\n",
       "\n",
       "    .dataframe tbody tr th {\n",
       "        vertical-align: top;\n",
       "    }\n",
       "\n",
       "    .dataframe thead th {\n",
       "        text-align: right;\n",
       "    }\n",
       "</style>\n",
       "<table border=\"1\" class=\"dataframe\">\n",
       "  <thead>\n",
       "    <tr style=\"text-align: right;\">\n",
       "      <th></th>\n",
       "      <th>iid</th>\n",
       "      <th>race</th>\n",
       "    </tr>\n",
       "  </thead>\n",
       "  <tbody>\n",
       "    <tr>\n",
       "      <th>0</th>\n",
       "      <td>1</td>\n",
       "      <td>4.0</td>\n",
       "    </tr>\n",
       "    <tr>\n",
       "      <th>1</th>\n",
       "      <td>2</td>\n",
       "      <td>2.0</td>\n",
       "    </tr>\n",
       "    <tr>\n",
       "      <th>2</th>\n",
       "      <td>3</td>\n",
       "      <td>2.0</td>\n",
       "    </tr>\n",
       "    <tr>\n",
       "      <th>3</th>\n",
       "      <td>4</td>\n",
       "      <td>2.0</td>\n",
       "    </tr>\n",
       "    <tr>\n",
       "      <th>4</th>\n",
       "      <td>5</td>\n",
       "      <td>2.0</td>\n",
       "    </tr>\n",
       "  </tbody>\n",
       "</table>\n",
       "</div>"
      ],
      "text/plain": [
       "   iid  race\n",
       "0    1   4.0\n",
       "1    2   2.0\n",
       "2    3   2.0\n",
       "3    4   2.0\n",
       "4    5   2.0"
      ]
     },
     "execution_count": 24,
     "metadata": {},
     "output_type": "execute_result"
    }
   ],
   "source": [
    "# on fait un dataframe où chaque ligne est une personne unique et on indique sont origine ethnique\n",
    "df_iid = df.groupby(['iid','race']).count().reset_index().loc[:,['iid','race']]\n",
    "df_iid.head()"
   ]
  },
  {
   "cell_type": "code",
   "execution_count": 25,
   "metadata": {},
   "outputs": [
    {
     "data": {
      "text/html": [
       "<div>\n",
       "<style scoped>\n",
       "    .dataframe tbody tr th:only-of-type {\n",
       "        vertical-align: middle;\n",
       "    }\n",
       "\n",
       "    .dataframe tbody tr th {\n",
       "        vertical-align: top;\n",
       "    }\n",
       "\n",
       "    .dataframe thead th {\n",
       "        text-align: right;\n",
       "    }\n",
       "</style>\n",
       "<table border=\"1\" class=\"dataframe\">\n",
       "  <thead>\n",
       "    <tr style=\"text-align: right;\">\n",
       "      <th></th>\n",
       "      <th>iid</th>\n",
       "      <th>pid</th>\n",
       "      <th>race</th>\n",
       "      <th>race_partner</th>\n",
       "    </tr>\n",
       "  </thead>\n",
       "  <tbody>\n",
       "    <tr>\n",
       "      <th>0</th>\n",
       "      <td>1</td>\n",
       "      <td>11.0</td>\n",
       "      <td>4.0</td>\n",
       "      <td>2.0</td>\n",
       "    </tr>\n",
       "    <tr>\n",
       "      <th>1</th>\n",
       "      <td>1</td>\n",
       "      <td>12.0</td>\n",
       "      <td>4.0</td>\n",
       "      <td>2.0</td>\n",
       "    </tr>\n",
       "    <tr>\n",
       "      <th>2</th>\n",
       "      <td>1</td>\n",
       "      <td>13.0</td>\n",
       "      <td>4.0</td>\n",
       "      <td>4.0</td>\n",
       "    </tr>\n",
       "    <tr>\n",
       "      <th>3</th>\n",
       "      <td>1</td>\n",
       "      <td>14.0</td>\n",
       "      <td>4.0</td>\n",
       "      <td>2.0</td>\n",
       "    </tr>\n",
       "    <tr>\n",
       "      <th>4</th>\n",
       "      <td>1</td>\n",
       "      <td>15.0</td>\n",
       "      <td>4.0</td>\n",
       "      <td>3.0</td>\n",
       "    </tr>\n",
       "  </tbody>\n",
       "</table>\n",
       "</div>"
      ],
      "text/plain": [
       "   iid   pid  race  race_partner\n",
       "0    1  11.0   4.0           2.0\n",
       "1    1  12.0   4.0           2.0\n",
       "2    1  13.0   4.0           4.0\n",
       "3    1  14.0   4.0           2.0\n",
       "4    1  15.0   4.0           3.0"
      ]
     },
     "execution_count": 25,
     "metadata": {},
     "output_type": "execute_result"
    }
   ],
   "source": [
    "# on fait une jointure vers cette \"table\" iid pour récupérer la \"race\" du pid (partner id)\n",
    "df_same = df.merge(df_iid, how='left', left_on='pid', right_on='iid', suffixes=('', '_partner'))\n",
    "df_same = df_same.loc[:,['iid','pid','race','race_partner']]\n",
    "df_same.head()"
   ]
  },
  {
   "cell_type": "code",
   "execution_count": 26,
   "metadata": {},
   "outputs": [
    {
     "data": {
      "text/plain": [
       "0"
      ]
     },
     "execution_count": 26,
     "metadata": {},
     "output_type": "execute_result"
    }
   ],
   "source": [
    "df['iid'].isna().sum()"
   ]
  },
  {
   "cell_type": "code",
   "execution_count": 27,
   "metadata": {},
   "outputs": [],
   "source": [
    "# on fait un filtre pour indiquer les même \"race\" entre les 2 personnes et on peut l'ajouter au df initial\n",
    "# car aucune row n'a été modifiée ou supprimée grâce au left join (et pas de NaN dans les iid)\n",
    "df[\"samerace2\"] = df_same['race'] == df_same['race_partner']"
   ]
  },
  {
   "cell_type": "code",
   "execution_count": 28,
   "metadata": {},
   "outputs": [],
   "source": [
    "df[\"samerace2\"] = df[\"samerace2\"].map({False:0,True:1})\n",
    "df[\"race_partner\"] = df_same['race_partner'] # autant mettre cette info aussi dans le df principal"
   ]
  },
  {
   "cell_type": "code",
   "execution_count": 29,
   "metadata": {},
   "outputs": [
    {
     "data": {
      "text/plain": [
       "0"
      ]
     },
     "execution_count": 29,
     "metadata": {},
     "output_type": "execute_result"
    }
   ],
   "source": [
    "# on vérifie que notre calcul correspond bien avec samerace d'origine\n",
    "(~df[\"samerace2\"] == df[\"samerace2\"]).sum()"
   ]
  },
  {
   "attachments": {},
   "cell_type": "markdown",
   "metadata": {},
   "source": [
    "La somme de ce qui n'est pas identique est égale à 0. **Donc on a réussi à déduire \"samerace\" !**"
   ]
  },
  {
   "attachments": {},
   "cell_type": "markdown",
   "metadata": {},
   "source": [
    "Grâce à ça, on peut utiliser cet algo **pour faire une fonction permettant de faire des \"same\"** sur d'autres champs qui n'existent pas :"
   ]
  },
  {
   "cell_type": "code",
   "execution_count": 252,
   "metadata": {},
   "outputs": [],
   "source": [
    "def df_add_same(same_field, df_temp):\n",
    "    df_iid = df.groupby(['iid',same_field]).count().reset_index().loc[:,['iid',same_field]]\n",
    "    df_same = df_temp.merge(df_iid, how='left', left_on='pid', right_on='iid', suffixes=('', '_partner'))\n",
    "    df_same = df_same.loc[:,['iid','pid','match',same_field,same_field+'_partner']]\n",
    "    df_same[\"same_\"+same_field] = df_same[same_field] == df_same[same_field+'_partner']\n",
    "    df_same[\"same_\"+same_field] = df_same[\"same_\"+same_field].map({False:0,True:1})\n",
    "    return df_same"
   ]
  },
  {
   "attachments": {},
   "cell_type": "markdown",
   "metadata": {},
   "source": [
    "Usage avec le type d'études:"
   ]
  },
  {
   "cell_type": "code",
   "execution_count": 61,
   "metadata": {},
   "outputs": [
    {
     "data": {
      "text/html": [
       "<div>\n",
       "<style scoped>\n",
       "    .dataframe tbody tr th:only-of-type {\n",
       "        vertical-align: middle;\n",
       "    }\n",
       "\n",
       "    .dataframe tbody tr th {\n",
       "        vertical-align: top;\n",
       "    }\n",
       "\n",
       "    .dataframe thead th {\n",
       "        text-align: right;\n",
       "    }\n",
       "</style>\n",
       "<table border=\"1\" class=\"dataframe\">\n",
       "  <thead>\n",
       "    <tr style=\"text-align: right;\">\n",
       "      <th></th>\n",
       "      <th>iid</th>\n",
       "      <th>pid</th>\n",
       "      <th>match</th>\n",
       "      <th>field_cd</th>\n",
       "      <th>field_cd_partner</th>\n",
       "      <th>same_field_cd</th>\n",
       "    </tr>\n",
       "  </thead>\n",
       "  <tbody>\n",
       "    <tr>\n",
       "      <th>0</th>\n",
       "      <td>1</td>\n",
       "      <td>11.0</td>\n",
       "      <td>0</td>\n",
       "      <td>1.0</td>\n",
       "      <td>8.0</td>\n",
       "      <td>0</td>\n",
       "    </tr>\n",
       "    <tr>\n",
       "      <th>1</th>\n",
       "      <td>1</td>\n",
       "      <td>12.0</td>\n",
       "      <td>0</td>\n",
       "      <td>1.0</td>\n",
       "      <td>1.0</td>\n",
       "      <td>1</td>\n",
       "    </tr>\n",
       "    <tr>\n",
       "      <th>2</th>\n",
       "      <td>1</td>\n",
       "      <td>13.0</td>\n",
       "      <td>1</td>\n",
       "      <td>1.0</td>\n",
       "      <td>1.0</td>\n",
       "      <td>1</td>\n",
       "    </tr>\n",
       "    <tr>\n",
       "      <th>3</th>\n",
       "      <td>1</td>\n",
       "      <td>14.0</td>\n",
       "      <td>1</td>\n",
       "      <td>1.0</td>\n",
       "      <td>1.0</td>\n",
       "      <td>1</td>\n",
       "    </tr>\n",
       "    <tr>\n",
       "      <th>4</th>\n",
       "      <td>1</td>\n",
       "      <td>15.0</td>\n",
       "      <td>1</td>\n",
       "      <td>1.0</td>\n",
       "      <td>1.0</td>\n",
       "      <td>1</td>\n",
       "    </tr>\n",
       "  </tbody>\n",
       "</table>\n",
       "</div>"
      ],
      "text/plain": [
       "   iid   pid  match  field_cd  field_cd_partner  same_field_cd\n",
       "0    1  11.0      0       1.0               8.0              0\n",
       "1    1  12.0      0       1.0               1.0              1\n",
       "2    1  13.0      1       1.0               1.0              1\n",
       "3    1  14.0      1       1.0               1.0              1\n",
       "4    1  15.0      1       1.0               1.0              1"
      ]
     },
     "execution_count": 61,
     "metadata": {},
     "output_type": "execute_result"
    }
   ],
   "source": [
    "df_add_same(\"field_cd\",df.copy()).head()"
   ]
  },
  {
   "attachments": {},
   "cell_type": "markdown",
   "metadata": {},
   "source": [
    "Usage avec le type de carrière:"
   ]
  },
  {
   "cell_type": "code",
   "execution_count": 254,
   "metadata": {},
   "outputs": [
    {
     "data": {
      "text/html": [
       "<div>\n",
       "<style scoped>\n",
       "    .dataframe tbody tr th:only-of-type {\n",
       "        vertical-align: middle;\n",
       "    }\n",
       "\n",
       "    .dataframe tbody tr th {\n",
       "        vertical-align: top;\n",
       "    }\n",
       "\n",
       "    .dataframe thead th {\n",
       "        text-align: right;\n",
       "    }\n",
       "</style>\n",
       "<table border=\"1\" class=\"dataframe\">\n",
       "  <thead>\n",
       "    <tr style=\"text-align: right;\">\n",
       "      <th></th>\n",
       "      <th>iid</th>\n",
       "      <th>pid</th>\n",
       "      <th>match</th>\n",
       "      <th>career_c</th>\n",
       "      <th>career_c_partner</th>\n",
       "      <th>same_career_c</th>\n",
       "    </tr>\n",
       "  </thead>\n",
       "  <tbody>\n",
       "    <tr>\n",
       "      <th>0</th>\n",
       "      <td>4</td>\n",
       "      <td>11.0</td>\n",
       "      <td>0</td>\n",
       "      <td>1.0</td>\n",
       "      <td>2.0</td>\n",
       "      <td>0</td>\n",
       "    </tr>\n",
       "    <tr>\n",
       "      <th>1</th>\n",
       "      <td>4</td>\n",
       "      <td>12.0</td>\n",
       "      <td>0</td>\n",
       "      <td>1.0</td>\n",
       "      <td>1.0</td>\n",
       "      <td>1</td>\n",
       "    </tr>\n",
       "    <tr>\n",
       "      <th>2</th>\n",
       "      <td>4</td>\n",
       "      <td>13.0</td>\n",
       "      <td>0</td>\n",
       "      <td>1.0</td>\n",
       "      <td>1.0</td>\n",
       "      <td>1</td>\n",
       "    </tr>\n",
       "    <tr>\n",
       "      <th>3</th>\n",
       "      <td>4</td>\n",
       "      <td>14.0</td>\n",
       "      <td>1</td>\n",
       "      <td>1.0</td>\n",
       "      <td>1.0</td>\n",
       "      <td>1</td>\n",
       "    </tr>\n",
       "    <tr>\n",
       "      <th>4</th>\n",
       "      <td>4</td>\n",
       "      <td>15.0</td>\n",
       "      <td>0</td>\n",
       "      <td>1.0</td>\n",
       "      <td>1.0</td>\n",
       "      <td>1</td>\n",
       "    </tr>\n",
       "  </tbody>\n",
       "</table>\n",
       "</div>"
      ],
      "text/plain": [
       "   iid   pid  match  career_c  career_c_partner  same_career_c\n",
       "0    4  11.0      0       1.0               2.0              0\n",
       "1    4  12.0      0       1.0               1.0              1\n",
       "2    4  13.0      0       1.0               1.0              1\n",
       "3    4  14.0      1       1.0               1.0              1\n",
       "4    4  15.0      0       1.0               1.0              1"
      ]
     },
     "execution_count": 254,
     "metadata": {},
     "output_type": "execute_result"
    }
   ],
   "source": [
    "df_add_same(\"career_c\",df.dropna(subset=\"career_c\").copy()).head()"
   ]
  },
  {
   "attachments": {},
   "cell_type": "markdown",
   "metadata": {},
   "source": [
    "### Analyse des rencontres après 3/4 semaines"
   ]
  },
  {
   "cell_type": "code",
   "execution_count": 31,
   "metadata": {},
   "outputs": [],
   "source": [
    "df_calls = df.groupby(['iid','you_call','them_cal'], dropna=True).count().reset_index().loc[:,['iid','you_call','them_cal']]"
   ]
  },
  {
   "cell_type": "code",
   "execution_count": 32,
   "metadata": {},
   "outputs": [],
   "source": [
    "total_calls = df_calls.shape[0]\n",
    "total_you_calls = df_calls.loc[df_calls['you_call'] != 0,'iid'].count()\n",
    "total_them_cal = df_calls.loc[df_calls['them_cal'] != 0,'iid'].count()"
   ]
  },
  {
   "cell_type": "code",
   "execution_count": 33,
   "metadata": {},
   "outputs": [
    {
     "data": {
      "application/vnd.plotly.v1+json": {
       "config": {
        "plotlyServerURL": "https://plot.ly"
       },
       "data": [
        {
         "alignmentgroup": "True",
         "bingroup": "x",
         "hovertemplate": "you_call=%{x}<br>count=%{y}<extra></extra>",
         "legendgroup": "",
         "marker": {
          "color": "#636efa",
          "pattern": {
           "shape": ""
          }
         },
         "name": "",
         "offsetgroup": "",
         "orientation": "v",
         "showlegend": false,
         "type": "histogram",
         "x": [
          1,
          0,
          0,
          0,
          0,
          1,
          3,
          0,
          1,
          1,
          0,
          0,
          0,
          0,
          0,
          0,
          0,
          0,
          0,
          0,
          0,
          0,
          1,
          0,
          1,
          1,
          1,
          0,
          0,
          0,
          0,
          1,
          0,
          2,
          0,
          0,
          2,
          0,
          2,
          0,
          0,
          1,
          0,
          1,
          0,
          0,
          0,
          0,
          0,
          1,
          0,
          4,
          2,
          0,
          1,
          1,
          8,
          0,
          0,
          1,
          0,
          0,
          0,
          0,
          0,
          1,
          2,
          0,
          0,
          0,
          0,
          0,
          1,
          1,
          0,
          0,
          0,
          0,
          0,
          0,
          1,
          2,
          0,
          0,
          0,
          0,
          1,
          3,
          2,
          1,
          1,
          0,
          4,
          0,
          0,
          0,
          0,
          0,
          0,
          4,
          0,
          1,
          0,
          0,
          0,
          0,
          0,
          0,
          0,
          0,
          0,
          1,
          0,
          1,
          0,
          0,
          0,
          0,
          0,
          0,
          0,
          1,
          3,
          2,
          2,
          0,
          0,
          0,
          0,
          2,
          3,
          1,
          0,
          0,
          0,
          0,
          0,
          0,
          0,
          0,
          1,
          1,
          0,
          2,
          0,
          1,
          0,
          0,
          0,
          0,
          0,
          0,
          0,
          0,
          0,
          0,
          1,
          4,
          1,
          1,
          0,
          4,
          1,
          0,
          5,
          0,
          3,
          0,
          0,
          1,
          0,
          0,
          1,
          0,
          0,
          1,
          0,
          0,
          0,
          2,
          2,
          0,
          0,
          0,
          21,
          0,
          0,
          0,
          0,
          0,
          1,
          0,
          1,
          4,
          1,
          0,
          5,
          1,
          0,
          2,
          0,
          0,
          0,
          1,
          0,
          0,
          1,
          6,
          1,
          0,
          0,
          1,
          1,
          1,
          0,
          0,
          0,
          0,
          1,
          0,
          0,
          1,
          0,
          0,
          1,
          2,
          2,
          2,
          0,
          1,
          0,
          0,
          0,
          6,
          2,
          0,
          0,
          2,
          1,
          0,
          2,
          3,
          0,
          0,
          0,
          0,
          0,
          0,
          0,
          0,
          2,
          0,
          0,
          0,
          0,
          0,
          2,
          0,
          1,
          2,
          2,
          1,
          2
         ],
         "xaxis": "x",
         "yaxis": "y"
        }
       ],
       "layout": {
        "barmode": "relative",
        "legend": {
         "tracegroupgap": 0
        },
        "template": {
         "data": {
          "bar": [
           {
            "error_x": {
             "color": "#2a3f5f"
            },
            "error_y": {
             "color": "#2a3f5f"
            },
            "marker": {
             "line": {
              "color": "#E5ECF6",
              "width": 0.5
             },
             "pattern": {
              "fillmode": "overlay",
              "size": 10,
              "solidity": 0.2
             }
            },
            "type": "bar"
           }
          ],
          "barpolar": [
           {
            "marker": {
             "line": {
              "color": "#E5ECF6",
              "width": 0.5
             },
             "pattern": {
              "fillmode": "overlay",
              "size": 10,
              "solidity": 0.2
             }
            },
            "type": "barpolar"
           }
          ],
          "carpet": [
           {
            "aaxis": {
             "endlinecolor": "#2a3f5f",
             "gridcolor": "white",
             "linecolor": "white",
             "minorgridcolor": "white",
             "startlinecolor": "#2a3f5f"
            },
            "baxis": {
             "endlinecolor": "#2a3f5f",
             "gridcolor": "white",
             "linecolor": "white",
             "minorgridcolor": "white",
             "startlinecolor": "#2a3f5f"
            },
            "type": "carpet"
           }
          ],
          "choropleth": [
           {
            "colorbar": {
             "outlinewidth": 0,
             "ticks": ""
            },
            "type": "choropleth"
           }
          ],
          "contour": [
           {
            "colorbar": {
             "outlinewidth": 0,
             "ticks": ""
            },
            "colorscale": [
             [
              0,
              "#0d0887"
             ],
             [
              0.1111111111111111,
              "#46039f"
             ],
             [
              0.2222222222222222,
              "#7201a8"
             ],
             [
              0.3333333333333333,
              "#9c179e"
             ],
             [
              0.4444444444444444,
              "#bd3786"
             ],
             [
              0.5555555555555556,
              "#d8576b"
             ],
             [
              0.6666666666666666,
              "#ed7953"
             ],
             [
              0.7777777777777778,
              "#fb9f3a"
             ],
             [
              0.8888888888888888,
              "#fdca26"
             ],
             [
              1,
              "#f0f921"
             ]
            ],
            "type": "contour"
           }
          ],
          "contourcarpet": [
           {
            "colorbar": {
             "outlinewidth": 0,
             "ticks": ""
            },
            "type": "contourcarpet"
           }
          ],
          "heatmap": [
           {
            "colorbar": {
             "outlinewidth": 0,
             "ticks": ""
            },
            "colorscale": [
             [
              0,
              "#0d0887"
             ],
             [
              0.1111111111111111,
              "#46039f"
             ],
             [
              0.2222222222222222,
              "#7201a8"
             ],
             [
              0.3333333333333333,
              "#9c179e"
             ],
             [
              0.4444444444444444,
              "#bd3786"
             ],
             [
              0.5555555555555556,
              "#d8576b"
             ],
             [
              0.6666666666666666,
              "#ed7953"
             ],
             [
              0.7777777777777778,
              "#fb9f3a"
             ],
             [
              0.8888888888888888,
              "#fdca26"
             ],
             [
              1,
              "#f0f921"
             ]
            ],
            "type": "heatmap"
           }
          ],
          "heatmapgl": [
           {
            "colorbar": {
             "outlinewidth": 0,
             "ticks": ""
            },
            "colorscale": [
             [
              0,
              "#0d0887"
             ],
             [
              0.1111111111111111,
              "#46039f"
             ],
             [
              0.2222222222222222,
              "#7201a8"
             ],
             [
              0.3333333333333333,
              "#9c179e"
             ],
             [
              0.4444444444444444,
              "#bd3786"
             ],
             [
              0.5555555555555556,
              "#d8576b"
             ],
             [
              0.6666666666666666,
              "#ed7953"
             ],
             [
              0.7777777777777778,
              "#fb9f3a"
             ],
             [
              0.8888888888888888,
              "#fdca26"
             ],
             [
              1,
              "#f0f921"
             ]
            ],
            "type": "heatmapgl"
           }
          ],
          "histogram": [
           {
            "marker": {
             "pattern": {
              "fillmode": "overlay",
              "size": 10,
              "solidity": 0.2
             }
            },
            "type": "histogram"
           }
          ],
          "histogram2d": [
           {
            "colorbar": {
             "outlinewidth": 0,
             "ticks": ""
            },
            "colorscale": [
             [
              0,
              "#0d0887"
             ],
             [
              0.1111111111111111,
              "#46039f"
             ],
             [
              0.2222222222222222,
              "#7201a8"
             ],
             [
              0.3333333333333333,
              "#9c179e"
             ],
             [
              0.4444444444444444,
              "#bd3786"
             ],
             [
              0.5555555555555556,
              "#d8576b"
             ],
             [
              0.6666666666666666,
              "#ed7953"
             ],
             [
              0.7777777777777778,
              "#fb9f3a"
             ],
             [
              0.8888888888888888,
              "#fdca26"
             ],
             [
              1,
              "#f0f921"
             ]
            ],
            "type": "histogram2d"
           }
          ],
          "histogram2dcontour": [
           {
            "colorbar": {
             "outlinewidth": 0,
             "ticks": ""
            },
            "colorscale": [
             [
              0,
              "#0d0887"
             ],
             [
              0.1111111111111111,
              "#46039f"
             ],
             [
              0.2222222222222222,
              "#7201a8"
             ],
             [
              0.3333333333333333,
              "#9c179e"
             ],
             [
              0.4444444444444444,
              "#bd3786"
             ],
             [
              0.5555555555555556,
              "#d8576b"
             ],
             [
              0.6666666666666666,
              "#ed7953"
             ],
             [
              0.7777777777777778,
              "#fb9f3a"
             ],
             [
              0.8888888888888888,
              "#fdca26"
             ],
             [
              1,
              "#f0f921"
             ]
            ],
            "type": "histogram2dcontour"
           }
          ],
          "mesh3d": [
           {
            "colorbar": {
             "outlinewidth": 0,
             "ticks": ""
            },
            "type": "mesh3d"
           }
          ],
          "parcoords": [
           {
            "line": {
             "colorbar": {
              "outlinewidth": 0,
              "ticks": ""
             }
            },
            "type": "parcoords"
           }
          ],
          "pie": [
           {
            "automargin": true,
            "type": "pie"
           }
          ],
          "scatter": [
           {
            "fillpattern": {
             "fillmode": "overlay",
             "size": 10,
             "solidity": 0.2
            },
            "type": "scatter"
           }
          ],
          "scatter3d": [
           {
            "line": {
             "colorbar": {
              "outlinewidth": 0,
              "ticks": ""
             }
            },
            "marker": {
             "colorbar": {
              "outlinewidth": 0,
              "ticks": ""
             }
            },
            "type": "scatter3d"
           }
          ],
          "scattercarpet": [
           {
            "marker": {
             "colorbar": {
              "outlinewidth": 0,
              "ticks": ""
             }
            },
            "type": "scattercarpet"
           }
          ],
          "scattergeo": [
           {
            "marker": {
             "colorbar": {
              "outlinewidth": 0,
              "ticks": ""
             }
            },
            "type": "scattergeo"
           }
          ],
          "scattergl": [
           {
            "marker": {
             "colorbar": {
              "outlinewidth": 0,
              "ticks": ""
             }
            },
            "type": "scattergl"
           }
          ],
          "scattermapbox": [
           {
            "marker": {
             "colorbar": {
              "outlinewidth": 0,
              "ticks": ""
             }
            },
            "type": "scattermapbox"
           }
          ],
          "scatterpolar": [
           {
            "marker": {
             "colorbar": {
              "outlinewidth": 0,
              "ticks": ""
             }
            },
            "type": "scatterpolar"
           }
          ],
          "scatterpolargl": [
           {
            "marker": {
             "colorbar": {
              "outlinewidth": 0,
              "ticks": ""
             }
            },
            "type": "scatterpolargl"
           }
          ],
          "scatterternary": [
           {
            "marker": {
             "colorbar": {
              "outlinewidth": 0,
              "ticks": ""
             }
            },
            "type": "scatterternary"
           }
          ],
          "surface": [
           {
            "colorbar": {
             "outlinewidth": 0,
             "ticks": ""
            },
            "colorscale": [
             [
              0,
              "#0d0887"
             ],
             [
              0.1111111111111111,
              "#46039f"
             ],
             [
              0.2222222222222222,
              "#7201a8"
             ],
             [
              0.3333333333333333,
              "#9c179e"
             ],
             [
              0.4444444444444444,
              "#bd3786"
             ],
             [
              0.5555555555555556,
              "#d8576b"
             ],
             [
              0.6666666666666666,
              "#ed7953"
             ],
             [
              0.7777777777777778,
              "#fb9f3a"
             ],
             [
              0.8888888888888888,
              "#fdca26"
             ],
             [
              1,
              "#f0f921"
             ]
            ],
            "type": "surface"
           }
          ],
          "table": [
           {
            "cells": {
             "fill": {
              "color": "#EBF0F8"
             },
             "line": {
              "color": "white"
             }
            },
            "header": {
             "fill": {
              "color": "#C8D4E3"
             },
             "line": {
              "color": "white"
             }
            },
            "type": "table"
           }
          ]
         },
         "layout": {
          "annotationdefaults": {
           "arrowcolor": "#2a3f5f",
           "arrowhead": 0,
           "arrowwidth": 1
          },
          "autotypenumbers": "strict",
          "coloraxis": {
           "colorbar": {
            "outlinewidth": 0,
            "ticks": ""
           }
          },
          "colorscale": {
           "diverging": [
            [
             0,
             "#8e0152"
            ],
            [
             0.1,
             "#c51b7d"
            ],
            [
             0.2,
             "#de77ae"
            ],
            [
             0.3,
             "#f1b6da"
            ],
            [
             0.4,
             "#fde0ef"
            ],
            [
             0.5,
             "#f7f7f7"
            ],
            [
             0.6,
             "#e6f5d0"
            ],
            [
             0.7,
             "#b8e186"
            ],
            [
             0.8,
             "#7fbc41"
            ],
            [
             0.9,
             "#4d9221"
            ],
            [
             1,
             "#276419"
            ]
           ],
           "sequential": [
            [
             0,
             "#0d0887"
            ],
            [
             0.1111111111111111,
             "#46039f"
            ],
            [
             0.2222222222222222,
             "#7201a8"
            ],
            [
             0.3333333333333333,
             "#9c179e"
            ],
            [
             0.4444444444444444,
             "#bd3786"
            ],
            [
             0.5555555555555556,
             "#d8576b"
            ],
            [
             0.6666666666666666,
             "#ed7953"
            ],
            [
             0.7777777777777778,
             "#fb9f3a"
            ],
            [
             0.8888888888888888,
             "#fdca26"
            ],
            [
             1,
             "#f0f921"
            ]
           ],
           "sequentialminus": [
            [
             0,
             "#0d0887"
            ],
            [
             0.1111111111111111,
             "#46039f"
            ],
            [
             0.2222222222222222,
             "#7201a8"
            ],
            [
             0.3333333333333333,
             "#9c179e"
            ],
            [
             0.4444444444444444,
             "#bd3786"
            ],
            [
             0.5555555555555556,
             "#d8576b"
            ],
            [
             0.6666666666666666,
             "#ed7953"
            ],
            [
             0.7777777777777778,
             "#fb9f3a"
            ],
            [
             0.8888888888888888,
             "#fdca26"
            ],
            [
             1,
             "#f0f921"
            ]
           ]
          },
          "colorway": [
           "#636efa",
           "#EF553B",
           "#00cc96",
           "#ab63fa",
           "#FFA15A",
           "#19d3f3",
           "#FF6692",
           "#B6E880",
           "#FF97FF",
           "#FECB52"
          ],
          "font": {
           "color": "#2a3f5f"
          },
          "geo": {
           "bgcolor": "white",
           "lakecolor": "white",
           "landcolor": "#E5ECF6",
           "showlakes": true,
           "showland": true,
           "subunitcolor": "white"
          },
          "hoverlabel": {
           "align": "left"
          },
          "hovermode": "closest",
          "mapbox": {
           "style": "light"
          },
          "paper_bgcolor": "white",
          "plot_bgcolor": "#E5ECF6",
          "polar": {
           "angularaxis": {
            "gridcolor": "white",
            "linecolor": "white",
            "ticks": ""
           },
           "bgcolor": "#E5ECF6",
           "radialaxis": {
            "gridcolor": "white",
            "linecolor": "white",
            "ticks": ""
           }
          },
          "scene": {
           "xaxis": {
            "backgroundcolor": "#E5ECF6",
            "gridcolor": "white",
            "gridwidth": 2,
            "linecolor": "white",
            "showbackground": true,
            "ticks": "",
            "zerolinecolor": "white"
           },
           "yaxis": {
            "backgroundcolor": "#E5ECF6",
            "gridcolor": "white",
            "gridwidth": 2,
            "linecolor": "white",
            "showbackground": true,
            "ticks": "",
            "zerolinecolor": "white"
           },
           "zaxis": {
            "backgroundcolor": "#E5ECF6",
            "gridcolor": "white",
            "gridwidth": 2,
            "linecolor": "white",
            "showbackground": true,
            "ticks": "",
            "zerolinecolor": "white"
           }
          },
          "shapedefaults": {
           "line": {
            "color": "#2a3f5f"
           }
          },
          "ternary": {
           "aaxis": {
            "gridcolor": "white",
            "linecolor": "white",
            "ticks": ""
           },
           "baxis": {
            "gridcolor": "white",
            "linecolor": "white",
            "ticks": ""
           },
           "bgcolor": "#E5ECF6",
           "caxis": {
            "gridcolor": "white",
            "linecolor": "white",
            "ticks": ""
           }
          },
          "title": {
           "x": 0.05
          },
          "xaxis": {
           "automargin": true,
           "gridcolor": "white",
           "linecolor": "white",
           "ticks": "",
           "title": {
            "standoff": 15
           },
           "zerolinecolor": "white",
           "zerolinewidth": 2
          },
          "yaxis": {
           "automargin": true,
           "gridcolor": "white",
           "linecolor": "white",
           "ticks": "",
           "title": {
            "standoff": 15
           },
           "zerolinecolor": "white",
           "zerolinewidth": 2
          }
         }
        },
        "title": {
         "text": "Nombre de personnes ayant appelé n matchs après 3/4 semaines"
        },
        "xaxis": {
         "anchor": "y",
         "domain": [
          0,
          1
         ],
         "title": {
          "text": "you_call"
         }
        },
        "yaxis": {
         "anchor": "x",
         "domain": [
          0,
          1
         ],
         "title": {
          "text": "count"
         }
        }
       }
      }
     },
     "metadata": {},
     "output_type": "display_data"
    }
   ],
   "source": [
    "px.histogram(df_calls, x='you_call', orientation='v', title=\"Nombre de personnes ayant appelé n matchs après 3/4 semaines\")"
   ]
  },
  {
   "cell_type": "code",
   "execution_count": 34,
   "metadata": {},
   "outputs": [
    {
     "name": "stdout",
     "output_type": "stream",
     "text": [
      "63.12 % des gens n'ont jamais rappelé personne\n"
     ]
    }
   ],
   "source": [
    "print(round((1 - total_you_calls / total_calls) * 100, 2),\"% des gens n'ont jamais rappelé personne\")"
   ]
  },
  {
   "cell_type": "code",
   "execution_count": 35,
   "metadata": {},
   "outputs": [
    {
     "data": {
      "application/vnd.plotly.v1+json": {
       "config": {
        "plotlyServerURL": "https://plot.ly"
       },
       "data": [
        {
         "alignmentgroup": "True",
         "bingroup": "x",
         "hovertemplate": "them_cal=%{x}<br>count=%{y}<extra></extra>",
         "legendgroup": "",
         "marker": {
          "color": "#636efa",
          "pattern": {
           "shape": ""
          }
         },
         "name": "",
         "offsetgroup": "",
         "orientation": "v",
         "showlegend": false,
         "type": "histogram",
         "x": [
          1,
          0,
          0,
          0,
          0,
          1,
          0,
          0,
          1,
          0,
          0,
          0,
          0,
          0,
          1,
          1,
          0,
          0,
          0,
          0,
          0,
          0,
          0,
          0,
          0,
          0,
          0,
          2,
          0,
          1,
          0,
          1,
          0,
          0,
          0,
          0,
          2,
          4,
          0,
          1,
          2,
          3,
          0,
          1,
          1,
          1,
          0,
          0,
          3,
          4,
          1,
          1,
          1,
          0,
          1,
          0,
          6,
          1,
          2,
          0,
          1,
          0,
          2,
          0,
          0,
          0,
          2,
          0,
          1,
          0,
          0,
          0,
          0,
          1,
          0,
          3,
          0,
          0,
          2,
          5,
          1,
          2,
          1,
          2,
          2,
          0,
          0,
          0,
          0,
          0,
          0,
          0,
          2,
          1,
          0,
          1,
          0,
          0,
          1,
          2,
          0,
          0,
          0,
          0,
          0,
          0,
          0,
          0,
          0,
          4,
          0,
          3,
          1,
          1,
          0,
          0,
          1,
          4,
          2,
          1,
          4,
          0,
          0,
          1,
          0,
          0,
          0,
          1,
          0,
          0,
          2,
          0,
          0,
          1,
          0,
          1,
          0,
          0,
          0,
          3,
          1,
          1,
          0,
          0,
          0,
          0,
          1,
          0,
          1,
          2,
          0,
          4,
          0,
          9,
          3,
          1,
          1,
          2,
          1,
          0,
          0,
          0,
          1,
          4,
          0,
          0,
          3,
          2,
          0,
          1,
          0,
          1,
          1,
          0,
          0,
          0,
          0,
          2,
          1,
          1,
          1,
          2,
          0,
          0,
          1,
          0,
          0,
          2,
          1,
          3,
          4,
          2,
          1,
          1,
          1,
          0,
          1,
          0,
          0,
          4,
          1,
          1,
          3,
          0,
          0,
          1,
          1,
          4,
          0,
          0,
          2,
          0,
          1,
          1,
          5,
          0,
          2,
          1,
          1,
          0,
          1,
          1,
          2,
          3,
          0,
          1,
          0,
          0,
          0,
          1,
          0,
          1,
          0,
          0,
          2,
          4,
          2,
          0,
          0,
          0,
          0,
          2,
          0,
          0,
          0,
          0,
          5,
          0,
          0,
          2,
          3,
          1,
          0,
          0,
          0,
          1,
          1,
          0,
          1,
          2,
          0,
          0,
          0
         ],
         "xaxis": "x",
         "yaxis": "y"
        }
       ],
       "layout": {
        "barmode": "relative",
        "legend": {
         "tracegroupgap": 0
        },
        "template": {
         "data": {
          "bar": [
           {
            "error_x": {
             "color": "#2a3f5f"
            },
            "error_y": {
             "color": "#2a3f5f"
            },
            "marker": {
             "line": {
              "color": "#E5ECF6",
              "width": 0.5
             },
             "pattern": {
              "fillmode": "overlay",
              "size": 10,
              "solidity": 0.2
             }
            },
            "type": "bar"
           }
          ],
          "barpolar": [
           {
            "marker": {
             "line": {
              "color": "#E5ECF6",
              "width": 0.5
             },
             "pattern": {
              "fillmode": "overlay",
              "size": 10,
              "solidity": 0.2
             }
            },
            "type": "barpolar"
           }
          ],
          "carpet": [
           {
            "aaxis": {
             "endlinecolor": "#2a3f5f",
             "gridcolor": "white",
             "linecolor": "white",
             "minorgridcolor": "white",
             "startlinecolor": "#2a3f5f"
            },
            "baxis": {
             "endlinecolor": "#2a3f5f",
             "gridcolor": "white",
             "linecolor": "white",
             "minorgridcolor": "white",
             "startlinecolor": "#2a3f5f"
            },
            "type": "carpet"
           }
          ],
          "choropleth": [
           {
            "colorbar": {
             "outlinewidth": 0,
             "ticks": ""
            },
            "type": "choropleth"
           }
          ],
          "contour": [
           {
            "colorbar": {
             "outlinewidth": 0,
             "ticks": ""
            },
            "colorscale": [
             [
              0,
              "#0d0887"
             ],
             [
              0.1111111111111111,
              "#46039f"
             ],
             [
              0.2222222222222222,
              "#7201a8"
             ],
             [
              0.3333333333333333,
              "#9c179e"
             ],
             [
              0.4444444444444444,
              "#bd3786"
             ],
             [
              0.5555555555555556,
              "#d8576b"
             ],
             [
              0.6666666666666666,
              "#ed7953"
             ],
             [
              0.7777777777777778,
              "#fb9f3a"
             ],
             [
              0.8888888888888888,
              "#fdca26"
             ],
             [
              1,
              "#f0f921"
             ]
            ],
            "type": "contour"
           }
          ],
          "contourcarpet": [
           {
            "colorbar": {
             "outlinewidth": 0,
             "ticks": ""
            },
            "type": "contourcarpet"
           }
          ],
          "heatmap": [
           {
            "colorbar": {
             "outlinewidth": 0,
             "ticks": ""
            },
            "colorscale": [
             [
              0,
              "#0d0887"
             ],
             [
              0.1111111111111111,
              "#46039f"
             ],
             [
              0.2222222222222222,
              "#7201a8"
             ],
             [
              0.3333333333333333,
              "#9c179e"
             ],
             [
              0.4444444444444444,
              "#bd3786"
             ],
             [
              0.5555555555555556,
              "#d8576b"
             ],
             [
              0.6666666666666666,
              "#ed7953"
             ],
             [
              0.7777777777777778,
              "#fb9f3a"
             ],
             [
              0.8888888888888888,
              "#fdca26"
             ],
             [
              1,
              "#f0f921"
             ]
            ],
            "type": "heatmap"
           }
          ],
          "heatmapgl": [
           {
            "colorbar": {
             "outlinewidth": 0,
             "ticks": ""
            },
            "colorscale": [
             [
              0,
              "#0d0887"
             ],
             [
              0.1111111111111111,
              "#46039f"
             ],
             [
              0.2222222222222222,
              "#7201a8"
             ],
             [
              0.3333333333333333,
              "#9c179e"
             ],
             [
              0.4444444444444444,
              "#bd3786"
             ],
             [
              0.5555555555555556,
              "#d8576b"
             ],
             [
              0.6666666666666666,
              "#ed7953"
             ],
             [
              0.7777777777777778,
              "#fb9f3a"
             ],
             [
              0.8888888888888888,
              "#fdca26"
             ],
             [
              1,
              "#f0f921"
             ]
            ],
            "type": "heatmapgl"
           }
          ],
          "histogram": [
           {
            "marker": {
             "pattern": {
              "fillmode": "overlay",
              "size": 10,
              "solidity": 0.2
             }
            },
            "type": "histogram"
           }
          ],
          "histogram2d": [
           {
            "colorbar": {
             "outlinewidth": 0,
             "ticks": ""
            },
            "colorscale": [
             [
              0,
              "#0d0887"
             ],
             [
              0.1111111111111111,
              "#46039f"
             ],
             [
              0.2222222222222222,
              "#7201a8"
             ],
             [
              0.3333333333333333,
              "#9c179e"
             ],
             [
              0.4444444444444444,
              "#bd3786"
             ],
             [
              0.5555555555555556,
              "#d8576b"
             ],
             [
              0.6666666666666666,
              "#ed7953"
             ],
             [
              0.7777777777777778,
              "#fb9f3a"
             ],
             [
              0.8888888888888888,
              "#fdca26"
             ],
             [
              1,
              "#f0f921"
             ]
            ],
            "type": "histogram2d"
           }
          ],
          "histogram2dcontour": [
           {
            "colorbar": {
             "outlinewidth": 0,
             "ticks": ""
            },
            "colorscale": [
             [
              0,
              "#0d0887"
             ],
             [
              0.1111111111111111,
              "#46039f"
             ],
             [
              0.2222222222222222,
              "#7201a8"
             ],
             [
              0.3333333333333333,
              "#9c179e"
             ],
             [
              0.4444444444444444,
              "#bd3786"
             ],
             [
              0.5555555555555556,
              "#d8576b"
             ],
             [
              0.6666666666666666,
              "#ed7953"
             ],
             [
              0.7777777777777778,
              "#fb9f3a"
             ],
             [
              0.8888888888888888,
              "#fdca26"
             ],
             [
              1,
              "#f0f921"
             ]
            ],
            "type": "histogram2dcontour"
           }
          ],
          "mesh3d": [
           {
            "colorbar": {
             "outlinewidth": 0,
             "ticks": ""
            },
            "type": "mesh3d"
           }
          ],
          "parcoords": [
           {
            "line": {
             "colorbar": {
              "outlinewidth": 0,
              "ticks": ""
             }
            },
            "type": "parcoords"
           }
          ],
          "pie": [
           {
            "automargin": true,
            "type": "pie"
           }
          ],
          "scatter": [
           {
            "fillpattern": {
             "fillmode": "overlay",
             "size": 10,
             "solidity": 0.2
            },
            "type": "scatter"
           }
          ],
          "scatter3d": [
           {
            "line": {
             "colorbar": {
              "outlinewidth": 0,
              "ticks": ""
             }
            },
            "marker": {
             "colorbar": {
              "outlinewidth": 0,
              "ticks": ""
             }
            },
            "type": "scatter3d"
           }
          ],
          "scattercarpet": [
           {
            "marker": {
             "colorbar": {
              "outlinewidth": 0,
              "ticks": ""
             }
            },
            "type": "scattercarpet"
           }
          ],
          "scattergeo": [
           {
            "marker": {
             "colorbar": {
              "outlinewidth": 0,
              "ticks": ""
             }
            },
            "type": "scattergeo"
           }
          ],
          "scattergl": [
           {
            "marker": {
             "colorbar": {
              "outlinewidth": 0,
              "ticks": ""
             }
            },
            "type": "scattergl"
           }
          ],
          "scattermapbox": [
           {
            "marker": {
             "colorbar": {
              "outlinewidth": 0,
              "ticks": ""
             }
            },
            "type": "scattermapbox"
           }
          ],
          "scatterpolar": [
           {
            "marker": {
             "colorbar": {
              "outlinewidth": 0,
              "ticks": ""
             }
            },
            "type": "scatterpolar"
           }
          ],
          "scatterpolargl": [
           {
            "marker": {
             "colorbar": {
              "outlinewidth": 0,
              "ticks": ""
             }
            },
            "type": "scatterpolargl"
           }
          ],
          "scatterternary": [
           {
            "marker": {
             "colorbar": {
              "outlinewidth": 0,
              "ticks": ""
             }
            },
            "type": "scatterternary"
           }
          ],
          "surface": [
           {
            "colorbar": {
             "outlinewidth": 0,
             "ticks": ""
            },
            "colorscale": [
             [
              0,
              "#0d0887"
             ],
             [
              0.1111111111111111,
              "#46039f"
             ],
             [
              0.2222222222222222,
              "#7201a8"
             ],
             [
              0.3333333333333333,
              "#9c179e"
             ],
             [
              0.4444444444444444,
              "#bd3786"
             ],
             [
              0.5555555555555556,
              "#d8576b"
             ],
             [
              0.6666666666666666,
              "#ed7953"
             ],
             [
              0.7777777777777778,
              "#fb9f3a"
             ],
             [
              0.8888888888888888,
              "#fdca26"
             ],
             [
              1,
              "#f0f921"
             ]
            ],
            "type": "surface"
           }
          ],
          "table": [
           {
            "cells": {
             "fill": {
              "color": "#EBF0F8"
             },
             "line": {
              "color": "white"
             }
            },
            "header": {
             "fill": {
              "color": "#C8D4E3"
             },
             "line": {
              "color": "white"
             }
            },
            "type": "table"
           }
          ]
         },
         "layout": {
          "annotationdefaults": {
           "arrowcolor": "#2a3f5f",
           "arrowhead": 0,
           "arrowwidth": 1
          },
          "autotypenumbers": "strict",
          "coloraxis": {
           "colorbar": {
            "outlinewidth": 0,
            "ticks": ""
           }
          },
          "colorscale": {
           "diverging": [
            [
             0,
             "#8e0152"
            ],
            [
             0.1,
             "#c51b7d"
            ],
            [
             0.2,
             "#de77ae"
            ],
            [
             0.3,
             "#f1b6da"
            ],
            [
             0.4,
             "#fde0ef"
            ],
            [
             0.5,
             "#f7f7f7"
            ],
            [
             0.6,
             "#e6f5d0"
            ],
            [
             0.7,
             "#b8e186"
            ],
            [
             0.8,
             "#7fbc41"
            ],
            [
             0.9,
             "#4d9221"
            ],
            [
             1,
             "#276419"
            ]
           ],
           "sequential": [
            [
             0,
             "#0d0887"
            ],
            [
             0.1111111111111111,
             "#46039f"
            ],
            [
             0.2222222222222222,
             "#7201a8"
            ],
            [
             0.3333333333333333,
             "#9c179e"
            ],
            [
             0.4444444444444444,
             "#bd3786"
            ],
            [
             0.5555555555555556,
             "#d8576b"
            ],
            [
             0.6666666666666666,
             "#ed7953"
            ],
            [
             0.7777777777777778,
             "#fb9f3a"
            ],
            [
             0.8888888888888888,
             "#fdca26"
            ],
            [
             1,
             "#f0f921"
            ]
           ],
           "sequentialminus": [
            [
             0,
             "#0d0887"
            ],
            [
             0.1111111111111111,
             "#46039f"
            ],
            [
             0.2222222222222222,
             "#7201a8"
            ],
            [
             0.3333333333333333,
             "#9c179e"
            ],
            [
             0.4444444444444444,
             "#bd3786"
            ],
            [
             0.5555555555555556,
             "#d8576b"
            ],
            [
             0.6666666666666666,
             "#ed7953"
            ],
            [
             0.7777777777777778,
             "#fb9f3a"
            ],
            [
             0.8888888888888888,
             "#fdca26"
            ],
            [
             1,
             "#f0f921"
            ]
           ]
          },
          "colorway": [
           "#636efa",
           "#EF553B",
           "#00cc96",
           "#ab63fa",
           "#FFA15A",
           "#19d3f3",
           "#FF6692",
           "#B6E880",
           "#FF97FF",
           "#FECB52"
          ],
          "font": {
           "color": "#2a3f5f"
          },
          "geo": {
           "bgcolor": "white",
           "lakecolor": "white",
           "landcolor": "#E5ECF6",
           "showlakes": true,
           "showland": true,
           "subunitcolor": "white"
          },
          "hoverlabel": {
           "align": "left"
          },
          "hovermode": "closest",
          "mapbox": {
           "style": "light"
          },
          "paper_bgcolor": "white",
          "plot_bgcolor": "#E5ECF6",
          "polar": {
           "angularaxis": {
            "gridcolor": "white",
            "linecolor": "white",
            "ticks": ""
           },
           "bgcolor": "#E5ECF6",
           "radialaxis": {
            "gridcolor": "white",
            "linecolor": "white",
            "ticks": ""
           }
          },
          "scene": {
           "xaxis": {
            "backgroundcolor": "#E5ECF6",
            "gridcolor": "white",
            "gridwidth": 2,
            "linecolor": "white",
            "showbackground": true,
            "ticks": "",
            "zerolinecolor": "white"
           },
           "yaxis": {
            "backgroundcolor": "#E5ECF6",
            "gridcolor": "white",
            "gridwidth": 2,
            "linecolor": "white",
            "showbackground": true,
            "ticks": "",
            "zerolinecolor": "white"
           },
           "zaxis": {
            "backgroundcolor": "#E5ECF6",
            "gridcolor": "white",
            "gridwidth": 2,
            "linecolor": "white",
            "showbackground": true,
            "ticks": "",
            "zerolinecolor": "white"
           }
          },
          "shapedefaults": {
           "line": {
            "color": "#2a3f5f"
           }
          },
          "ternary": {
           "aaxis": {
            "gridcolor": "white",
            "linecolor": "white",
            "ticks": ""
           },
           "baxis": {
            "gridcolor": "white",
            "linecolor": "white",
            "ticks": ""
           },
           "bgcolor": "#E5ECF6",
           "caxis": {
            "gridcolor": "white",
            "linecolor": "white",
            "ticks": ""
           }
          },
          "title": {
           "x": 0.05
          },
          "xaxis": {
           "automargin": true,
           "gridcolor": "white",
           "linecolor": "white",
           "ticks": "",
           "title": {
            "standoff": 15
           },
           "zerolinecolor": "white",
           "zerolinewidth": 2
          },
          "yaxis": {
           "automargin": true,
           "gridcolor": "white",
           "linecolor": "white",
           "ticks": "",
           "title": {
            "standoff": 15
           },
           "zerolinecolor": "white",
           "zerolinewidth": 2
          }
         }
        },
        "title": {
         "text": "Nombre de personnes ayant été appélé par n matchs après 3/4 semaines"
        },
        "xaxis": {
         "anchor": "y",
         "domain": [
          0,
          1
         ],
         "title": {
          "text": "them_cal"
         }
        },
        "yaxis": {
         "anchor": "x",
         "domain": [
          0,
          1
         ],
         "title": {
          "text": "count"
         }
        }
       }
      }
     },
     "metadata": {},
     "output_type": "display_data"
    }
   ],
   "source": [
    "px.histogram(df_calls, x='them_cal', orientation='v', title=\"Nombre de personnes ayant été appelé par n matchs après 3/4 semaines\")"
   ]
  },
  {
   "cell_type": "code",
   "execution_count": 36,
   "metadata": {},
   "outputs": [
    {
     "name": "stdout",
     "output_type": "stream",
     "text": [
      "52.47 % des gens n'ont jamais été rappelé par personne\n"
     ]
    }
   ],
   "source": [
    "print(round((1 - total_them_cal / total_calls) * 100, 2),\"% des gens n'ont jamais été rappelé par personne\")"
   ]
  },
  {
   "cell_type": "code",
   "execution_count": 37,
   "metadata": {},
   "outputs": [],
   "source": [
    "df_dates = df.groupby(['iid','date_3'], dropna=True).count().reset_index().loc[:,['iid','date_3']]"
   ]
  },
  {
   "cell_type": "code",
   "execution_count": 38,
   "metadata": {},
   "outputs": [],
   "source": [
    "total_infos = df_dates.shape[0]\n",
    "total_dates = df_calls.loc[df_dates['date_3'] != 0,'iid'].count()"
   ]
  },
  {
   "cell_type": "code",
   "execution_count": 39,
   "metadata": {},
   "outputs": [
    {
     "name": "stdout",
     "output_type": "stream",
     "text": [
      "35.74 % des gens ont été faire un date avec un de leur match après 3/4 semaines\n"
     ]
    }
   ],
   "source": [
    "print(round((total_dates / total_infos) * 100, 2),\"% des gens ont été faire un date avec un de leur match après 3/4 semaines\")"
   ]
  },
  {
   "attachments": {},
   "cell_type": "markdown",
   "metadata": {},
   "source": [
    "### Analyse de l'impact de quelques corrélations sur les matchs"
   ]
  },
  {
   "attachments": {},
   "cell_type": "markdown",
   "metadata": {},
   "source": [
    "**Corrélation des centres d'intérêt des participants sur les matchs:**"
   ]
  },
  {
   "cell_type": "code",
   "execution_count": 40,
   "metadata": {},
   "outputs": [],
   "source": [
    "df_interest_corr = df.dropna(subset='int_corr')\n",
    "mean_corr_match = df_interest_corr.loc[df_interest_corr['match'] == 1,'int_corr'].mean()\n",
    "mean_corr_nomatch = df_interest_corr.loc[df_interest_corr['match'] == 0,'int_corr'].mean()"
   ]
  },
  {
   "cell_type": "code",
   "execution_count": 41,
   "metadata": {},
   "outputs": [
    {
     "name": "stdout",
     "output_type": "stream",
     "text": [
      "La corrélation moyenne des centres d'intérêt quand il y a eu match est 0.21731851851851852\n",
      "La corrélation moyenne des centres d'intérêt quand il n'y a pas eu match est 0.19182241630276567\n"
     ]
    }
   ],
   "source": [
    "print(\"La corrélation moyenne des centres d'intérêt quand il y a eu match est\", mean_corr_match)\n",
    "print(\"La corrélation moyenne des centres d'intérêt quand il n'y a pas eu match est\", mean_corr_nomatch)"
   ]
  },
  {
   "attachments": {},
   "cell_type": "markdown",
   "metadata": {},
   "source": [
    "On peut conclure qu'il n'y a pas un impact réel des centres d'intérêt sur les matchs"
   ]
  },
  {
   "attachments": {},
   "cell_type": "markdown",
   "metadata": {},
   "source": [
    "**Corrélation entre la \"même race\" des participants sur les matchs :**"
   ]
  },
  {
   "attachments": {},
   "cell_type": "markdown",
   "metadata": {},
   "source": [
    "On recalcule d'abord le % de match sur les dates en général :"
   ]
  },
  {
   "cell_type": "code",
   "execution_count": 123,
   "metadata": {},
   "outputs": [
    {
     "name": "stdout",
     "output_type": "stream",
     "text": [
      "% match au global :  16.47\n"
     ]
    }
   ],
   "source": [
    "count_same = df.shape[0]\n",
    "count_match = df.query(\"match == 1\").shape[0]\n",
    "perc_match_global = round((count_match / count_same) * 100, 2)\n",
    "print(\"% match au global : \", perc_match_global)"
   ]
  },
  {
   "attachments": {},
   "cell_type": "markdown",
   "metadata": {},
   "source": [
    "Puis on calcule le % de match parmi les gens avec la même origine éthnique :"
   ]
  },
  {
   "cell_type": "code",
   "execution_count": 188,
   "metadata": {},
   "outputs": [
    {
     "name": "stdout",
     "output_type": "stream",
     "text": [
      "% match avec la même origine ethnique :  17.07\n",
      "Soit 0.6 points en + que la moyenne des matchs\n"
     ]
    }
   ],
   "source": [
    "df_same = df.dropna(subset='samerace')\n",
    "# pour un samerace, quel est mon % de chance d'avoir un match ? pas de match ?\n",
    "df_same = df_same.query(\"samerace == 1\")\n",
    "count_same = df_same.shape[0]\n",
    "count_match = df_same.query(\"match == 1\").shape[0]\n",
    "perc_match = round((count_match / count_same) * 100, 2)\n",
    "print(\"% match avec la même origine ethnique : \", perc_match)\n",
    "\n",
    "print(\"Soit\",round((perc_match - perc_match_global), 2),\"points en + que la moyenne des matchs\")"
   ]
  },
  {
   "attachments": {},
   "cell_type": "markdown",
   "metadata": {},
   "source": [
    "On regarde ce % selon chaque origine ethnique :"
   ]
  },
  {
   "cell_type": "code",
   "execution_count": 247,
   "metadata": {},
   "outputs": [],
   "source": [
    "def get_points_bysame(id, type_same, type_init, df_temp):\n",
    "    try:\n",
    "        df_same = df_temp.dropna(subset=type_same)\n",
    "        \n",
    "        # pour un same, quel est mon % de chance d'avoir un match ? pas de match ?\n",
    "        df_same = df_same.query(f\"{type_same} == 1 & {type_init}==@id\")\n",
    "        count_same = df_same.shape[0]\n",
    "\n",
    "        count_match = df_same.query(\"match == 1\").shape[0]\n",
    "        perc_match = round((count_match / count_same) * 100, 2)\n",
    "        \n",
    "        return round((perc_match - perc_match_global), 2) # return de la difference\n",
    "    except:\n",
    "        pass"
   ]
  },
  {
   "cell_type": "code",
   "execution_count": 248,
   "metadata": {},
   "outputs": [
    {
     "name": "stdout",
     "output_type": "stream",
     "text": [
      "Points de chance en plus d'avoir un match en ayant la même origine Black/African:  39.09 \n",
      "Points de chance en plus d'avoir un match en ayant la même origine European/Caucasian:  1.08 \n",
      "Points de chance en plus d'avoir un match en ayant la même origine Latino/Hispanic:  6.61 \n",
      "Points de chance en plus d'avoir un match en ayant la même origine Asian/Pacific:  -3.55 \n",
      "Points de chance en plus d'avoir un match en ayant la même origine Native American:  None \n",
      "Points de chance en plus d'avoir un match en ayant la même origine Other:  -6.95 \n"
     ]
    },
    {
     "data": {
      "application/vnd.plotly.v1+json": {
       "config": {
        "plotlyServerURL": "https://plot.ly"
       },
       "data": [
        {
         "alignmentgroup": "True",
         "hovertemplate": "x=%{x}<br>y=%{y}<extra></extra>",
         "legendgroup": "",
         "marker": {
          "color": "#636efa",
          "pattern": {
           "shape": ""
          }
         },
         "name": "",
         "offsetgroup": "",
         "orientation": "h",
         "showlegend": false,
         "textposition": "auto",
         "type": "bar",
         "x": [
          39.09,
          1.08,
          6.61,
          -3.55,
          null,
          -6.95
         ],
         "xaxis": "x",
         "y": [
          "Black/African",
          "European/Caucasian",
          "Latino/Hispanic",
          "Asian/Pacific",
          "Native American",
          "Other"
         ],
         "yaxis": "y"
        }
       ],
       "layout": {
        "barmode": "relative",
        "legend": {
         "tracegroupgap": 0
        },
        "template": {
         "data": {
          "bar": [
           {
            "error_x": {
             "color": "#2a3f5f"
            },
            "error_y": {
             "color": "#2a3f5f"
            },
            "marker": {
             "line": {
              "color": "#E5ECF6",
              "width": 0.5
             },
             "pattern": {
              "fillmode": "overlay",
              "size": 10,
              "solidity": 0.2
             }
            },
            "type": "bar"
           }
          ],
          "barpolar": [
           {
            "marker": {
             "line": {
              "color": "#E5ECF6",
              "width": 0.5
             },
             "pattern": {
              "fillmode": "overlay",
              "size": 10,
              "solidity": 0.2
             }
            },
            "type": "barpolar"
           }
          ],
          "carpet": [
           {
            "aaxis": {
             "endlinecolor": "#2a3f5f",
             "gridcolor": "white",
             "linecolor": "white",
             "minorgridcolor": "white",
             "startlinecolor": "#2a3f5f"
            },
            "baxis": {
             "endlinecolor": "#2a3f5f",
             "gridcolor": "white",
             "linecolor": "white",
             "minorgridcolor": "white",
             "startlinecolor": "#2a3f5f"
            },
            "type": "carpet"
           }
          ],
          "choropleth": [
           {
            "colorbar": {
             "outlinewidth": 0,
             "ticks": ""
            },
            "type": "choropleth"
           }
          ],
          "contour": [
           {
            "colorbar": {
             "outlinewidth": 0,
             "ticks": ""
            },
            "colorscale": [
             [
              0,
              "#0d0887"
             ],
             [
              0.1111111111111111,
              "#46039f"
             ],
             [
              0.2222222222222222,
              "#7201a8"
             ],
             [
              0.3333333333333333,
              "#9c179e"
             ],
             [
              0.4444444444444444,
              "#bd3786"
             ],
             [
              0.5555555555555556,
              "#d8576b"
             ],
             [
              0.6666666666666666,
              "#ed7953"
             ],
             [
              0.7777777777777778,
              "#fb9f3a"
             ],
             [
              0.8888888888888888,
              "#fdca26"
             ],
             [
              1,
              "#f0f921"
             ]
            ],
            "type": "contour"
           }
          ],
          "contourcarpet": [
           {
            "colorbar": {
             "outlinewidth": 0,
             "ticks": ""
            },
            "type": "contourcarpet"
           }
          ],
          "heatmap": [
           {
            "colorbar": {
             "outlinewidth": 0,
             "ticks": ""
            },
            "colorscale": [
             [
              0,
              "#0d0887"
             ],
             [
              0.1111111111111111,
              "#46039f"
             ],
             [
              0.2222222222222222,
              "#7201a8"
             ],
             [
              0.3333333333333333,
              "#9c179e"
             ],
             [
              0.4444444444444444,
              "#bd3786"
             ],
             [
              0.5555555555555556,
              "#d8576b"
             ],
             [
              0.6666666666666666,
              "#ed7953"
             ],
             [
              0.7777777777777778,
              "#fb9f3a"
             ],
             [
              0.8888888888888888,
              "#fdca26"
             ],
             [
              1,
              "#f0f921"
             ]
            ],
            "type": "heatmap"
           }
          ],
          "heatmapgl": [
           {
            "colorbar": {
             "outlinewidth": 0,
             "ticks": ""
            },
            "colorscale": [
             [
              0,
              "#0d0887"
             ],
             [
              0.1111111111111111,
              "#46039f"
             ],
             [
              0.2222222222222222,
              "#7201a8"
             ],
             [
              0.3333333333333333,
              "#9c179e"
             ],
             [
              0.4444444444444444,
              "#bd3786"
             ],
             [
              0.5555555555555556,
              "#d8576b"
             ],
             [
              0.6666666666666666,
              "#ed7953"
             ],
             [
              0.7777777777777778,
              "#fb9f3a"
             ],
             [
              0.8888888888888888,
              "#fdca26"
             ],
             [
              1,
              "#f0f921"
             ]
            ],
            "type": "heatmapgl"
           }
          ],
          "histogram": [
           {
            "marker": {
             "pattern": {
              "fillmode": "overlay",
              "size": 10,
              "solidity": 0.2
             }
            },
            "type": "histogram"
           }
          ],
          "histogram2d": [
           {
            "colorbar": {
             "outlinewidth": 0,
             "ticks": ""
            },
            "colorscale": [
             [
              0,
              "#0d0887"
             ],
             [
              0.1111111111111111,
              "#46039f"
             ],
             [
              0.2222222222222222,
              "#7201a8"
             ],
             [
              0.3333333333333333,
              "#9c179e"
             ],
             [
              0.4444444444444444,
              "#bd3786"
             ],
             [
              0.5555555555555556,
              "#d8576b"
             ],
             [
              0.6666666666666666,
              "#ed7953"
             ],
             [
              0.7777777777777778,
              "#fb9f3a"
             ],
             [
              0.8888888888888888,
              "#fdca26"
             ],
             [
              1,
              "#f0f921"
             ]
            ],
            "type": "histogram2d"
           }
          ],
          "histogram2dcontour": [
           {
            "colorbar": {
             "outlinewidth": 0,
             "ticks": ""
            },
            "colorscale": [
             [
              0,
              "#0d0887"
             ],
             [
              0.1111111111111111,
              "#46039f"
             ],
             [
              0.2222222222222222,
              "#7201a8"
             ],
             [
              0.3333333333333333,
              "#9c179e"
             ],
             [
              0.4444444444444444,
              "#bd3786"
             ],
             [
              0.5555555555555556,
              "#d8576b"
             ],
             [
              0.6666666666666666,
              "#ed7953"
             ],
             [
              0.7777777777777778,
              "#fb9f3a"
             ],
             [
              0.8888888888888888,
              "#fdca26"
             ],
             [
              1,
              "#f0f921"
             ]
            ],
            "type": "histogram2dcontour"
           }
          ],
          "mesh3d": [
           {
            "colorbar": {
             "outlinewidth": 0,
             "ticks": ""
            },
            "type": "mesh3d"
           }
          ],
          "parcoords": [
           {
            "line": {
             "colorbar": {
              "outlinewidth": 0,
              "ticks": ""
             }
            },
            "type": "parcoords"
           }
          ],
          "pie": [
           {
            "automargin": true,
            "type": "pie"
           }
          ],
          "scatter": [
           {
            "fillpattern": {
             "fillmode": "overlay",
             "size": 10,
             "solidity": 0.2
            },
            "type": "scatter"
           }
          ],
          "scatter3d": [
           {
            "line": {
             "colorbar": {
              "outlinewidth": 0,
              "ticks": ""
             }
            },
            "marker": {
             "colorbar": {
              "outlinewidth": 0,
              "ticks": ""
             }
            },
            "type": "scatter3d"
           }
          ],
          "scattercarpet": [
           {
            "marker": {
             "colorbar": {
              "outlinewidth": 0,
              "ticks": ""
             }
            },
            "type": "scattercarpet"
           }
          ],
          "scattergeo": [
           {
            "marker": {
             "colorbar": {
              "outlinewidth": 0,
              "ticks": ""
             }
            },
            "type": "scattergeo"
           }
          ],
          "scattergl": [
           {
            "marker": {
             "colorbar": {
              "outlinewidth": 0,
              "ticks": ""
             }
            },
            "type": "scattergl"
           }
          ],
          "scattermapbox": [
           {
            "marker": {
             "colorbar": {
              "outlinewidth": 0,
              "ticks": ""
             }
            },
            "type": "scattermapbox"
           }
          ],
          "scatterpolar": [
           {
            "marker": {
             "colorbar": {
              "outlinewidth": 0,
              "ticks": ""
             }
            },
            "type": "scatterpolar"
           }
          ],
          "scatterpolargl": [
           {
            "marker": {
             "colorbar": {
              "outlinewidth": 0,
              "ticks": ""
             }
            },
            "type": "scatterpolargl"
           }
          ],
          "scatterternary": [
           {
            "marker": {
             "colorbar": {
              "outlinewidth": 0,
              "ticks": ""
             }
            },
            "type": "scatterternary"
           }
          ],
          "surface": [
           {
            "colorbar": {
             "outlinewidth": 0,
             "ticks": ""
            },
            "colorscale": [
             [
              0,
              "#0d0887"
             ],
             [
              0.1111111111111111,
              "#46039f"
             ],
             [
              0.2222222222222222,
              "#7201a8"
             ],
             [
              0.3333333333333333,
              "#9c179e"
             ],
             [
              0.4444444444444444,
              "#bd3786"
             ],
             [
              0.5555555555555556,
              "#d8576b"
             ],
             [
              0.6666666666666666,
              "#ed7953"
             ],
             [
              0.7777777777777778,
              "#fb9f3a"
             ],
             [
              0.8888888888888888,
              "#fdca26"
             ],
             [
              1,
              "#f0f921"
             ]
            ],
            "type": "surface"
           }
          ],
          "table": [
           {
            "cells": {
             "fill": {
              "color": "#EBF0F8"
             },
             "line": {
              "color": "white"
             }
            },
            "header": {
             "fill": {
              "color": "#C8D4E3"
             },
             "line": {
              "color": "white"
             }
            },
            "type": "table"
           }
          ]
         },
         "layout": {
          "annotationdefaults": {
           "arrowcolor": "#2a3f5f",
           "arrowhead": 0,
           "arrowwidth": 1
          },
          "autotypenumbers": "strict",
          "coloraxis": {
           "colorbar": {
            "outlinewidth": 0,
            "ticks": ""
           }
          },
          "colorscale": {
           "diverging": [
            [
             0,
             "#8e0152"
            ],
            [
             0.1,
             "#c51b7d"
            ],
            [
             0.2,
             "#de77ae"
            ],
            [
             0.3,
             "#f1b6da"
            ],
            [
             0.4,
             "#fde0ef"
            ],
            [
             0.5,
             "#f7f7f7"
            ],
            [
             0.6,
             "#e6f5d0"
            ],
            [
             0.7,
             "#b8e186"
            ],
            [
             0.8,
             "#7fbc41"
            ],
            [
             0.9,
             "#4d9221"
            ],
            [
             1,
             "#276419"
            ]
           ],
           "sequential": [
            [
             0,
             "#0d0887"
            ],
            [
             0.1111111111111111,
             "#46039f"
            ],
            [
             0.2222222222222222,
             "#7201a8"
            ],
            [
             0.3333333333333333,
             "#9c179e"
            ],
            [
             0.4444444444444444,
             "#bd3786"
            ],
            [
             0.5555555555555556,
             "#d8576b"
            ],
            [
             0.6666666666666666,
             "#ed7953"
            ],
            [
             0.7777777777777778,
             "#fb9f3a"
            ],
            [
             0.8888888888888888,
             "#fdca26"
            ],
            [
             1,
             "#f0f921"
            ]
           ],
           "sequentialminus": [
            [
             0,
             "#0d0887"
            ],
            [
             0.1111111111111111,
             "#46039f"
            ],
            [
             0.2222222222222222,
             "#7201a8"
            ],
            [
             0.3333333333333333,
             "#9c179e"
            ],
            [
             0.4444444444444444,
             "#bd3786"
            ],
            [
             0.5555555555555556,
             "#d8576b"
            ],
            [
             0.6666666666666666,
             "#ed7953"
            ],
            [
             0.7777777777777778,
             "#fb9f3a"
            ],
            [
             0.8888888888888888,
             "#fdca26"
            ],
            [
             1,
             "#f0f921"
            ]
           ]
          },
          "colorway": [
           "#636efa",
           "#EF553B",
           "#00cc96",
           "#ab63fa",
           "#FFA15A",
           "#19d3f3",
           "#FF6692",
           "#B6E880",
           "#FF97FF",
           "#FECB52"
          ],
          "font": {
           "color": "#2a3f5f"
          },
          "geo": {
           "bgcolor": "white",
           "lakecolor": "white",
           "landcolor": "#E5ECF6",
           "showlakes": true,
           "showland": true,
           "subunitcolor": "white"
          },
          "hoverlabel": {
           "align": "left"
          },
          "hovermode": "closest",
          "mapbox": {
           "style": "light"
          },
          "paper_bgcolor": "white",
          "plot_bgcolor": "#E5ECF6",
          "polar": {
           "angularaxis": {
            "gridcolor": "white",
            "linecolor": "white",
            "ticks": ""
           },
           "bgcolor": "#E5ECF6",
           "radialaxis": {
            "gridcolor": "white",
            "linecolor": "white",
            "ticks": ""
           }
          },
          "scene": {
           "xaxis": {
            "backgroundcolor": "#E5ECF6",
            "gridcolor": "white",
            "gridwidth": 2,
            "linecolor": "white",
            "showbackground": true,
            "ticks": "",
            "zerolinecolor": "white"
           },
           "yaxis": {
            "backgroundcolor": "#E5ECF6",
            "gridcolor": "white",
            "gridwidth": 2,
            "linecolor": "white",
            "showbackground": true,
            "ticks": "",
            "zerolinecolor": "white"
           },
           "zaxis": {
            "backgroundcolor": "#E5ECF6",
            "gridcolor": "white",
            "gridwidth": 2,
            "linecolor": "white",
            "showbackground": true,
            "ticks": "",
            "zerolinecolor": "white"
           }
          },
          "shapedefaults": {
           "line": {
            "color": "#2a3f5f"
           }
          },
          "ternary": {
           "aaxis": {
            "gridcolor": "white",
            "linecolor": "white",
            "ticks": ""
           },
           "baxis": {
            "gridcolor": "white",
            "linecolor": "white",
            "ticks": ""
           },
           "bgcolor": "#E5ECF6",
           "caxis": {
            "gridcolor": "white",
            "linecolor": "white",
            "ticks": ""
           }
          },
          "title": {
           "x": 0.05
          },
          "xaxis": {
           "automargin": true,
           "gridcolor": "white",
           "linecolor": "white",
           "ticks": "",
           "title": {
            "standoff": 15
           },
           "zerolinecolor": "white",
           "zerolinewidth": 2
          },
          "yaxis": {
           "automargin": true,
           "gridcolor": "white",
           "linecolor": "white",
           "ticks": "",
           "title": {
            "standoff": 15
           },
           "zerolinecolor": "white",
           "zerolinewidth": 2
          }
         }
        },
        "title": {
         "text": "Points en plus de la moyenne générale d'avoir un match avec la même origine ethnique"
        },
        "xaxis": {
         "anchor": "y",
         "domain": [
          0,
          1
         ],
         "title": {
          "text": "x"
         }
        },
        "yaxis": {
         "anchor": "x",
         "domain": [
          0,
          1
         ],
         "title": {
          "text": "y"
         }
        }
       }
      }
     },
     "metadata": {},
     "output_type": "display_data"
    }
   ],
   "source": [
    "results = []\n",
    "for race_id in range(1,7):\n",
    "    diff = get_points_bysame(race_id, \"samerace\", \"race\", df)\n",
    "    label_race = dic_race[race_id] # On récupére le label de l'origine dans le dic déjà créé\n",
    "    print(f\"Points de chance en plus d'avoir un match en ayant la même origine {label_race}: \",diff,\"\")\n",
    "    results.append(diff)\n",
    "    \n",
    "px.bar(x=results, y=[dic_race[race_id] for race_id in range(1,7)], title=\"Points en plus de la moyenne générale d'avoir un match avec la même origine ethnique\")"
   ]
  },
  {
   "attachments": {},
   "cell_type": "markdown",
   "metadata": {},
   "source": [
    "On observe que les Black/African et Latino/Hispanic, auront plus de chance d'avoir un match s'ils font un date entre eux. Alors que les Asian/Pacific auront plutôt tendance à moins matcher que la moyenne entre eux."
   ]
  },
  {
   "attachments": {},
   "cell_type": "markdown",
   "metadata": {},
   "source": [
    "**Corrélation entre le type de carrière des participants sur les matchs :**"
   ]
  },
  {
   "attachments": {},
   "cell_type": "markdown",
   "metadata": {},
   "source": [
    "On utilise la fonction df_add_same créée précédemment pour fabriquer un dataframe qui contient l'information same_career_c, indiquant si les participants au date avait fait le même type de carrière"
   ]
  },
  {
   "cell_type": "code",
   "execution_count": 245,
   "metadata": {},
   "outputs": [],
   "source": [
    "df_career = df_add_same(\"career_c\", df.dropna(subset='career_c').copy())"
   ]
  },
  {
   "cell_type": "code",
   "execution_count": 251,
   "metadata": {},
   "outputs": [
    {
     "data": {
      "application/vnd.plotly.v1+json": {
       "config": {
        "plotlyServerURL": "https://plot.ly"
       },
       "data": [
        {
         "alignmentgroup": "True",
         "hovertemplate": "x=%{x}<br>y=%{y}<extra></extra>",
         "legendgroup": "",
         "marker": {
          "color": "#636efa",
          "pattern": {
           "shape": ""
          }
         },
         "name": "",
         "offsetgroup": "",
         "orientation": "h",
         "showlegend": false,
         "textposition": "auto",
         "type": "bar",
         "x": [
          13.89,
          0.16,
          33.53,
          -16.47,
          43.53,
          -16.47,
          5.23,
          null,
          -16.47,
          -16.47,
          null,
          null,
          -16.47,
          null,
          null
         ],
         "xaxis": "x",
         "y": [
          "Lawyer",
          "Academic/Research",
          "Psychologist",
          "Doctor/Medicine",
          "Engineer",
          "Creative Arts/Entertainment",
          "Banking/Consulting/Finance/Marketing/Business",
          "Real Estate",
          "International/Humanitarian Affairs",
          "Undecided",
          "Social Work",
          "Speech Pathology",
          "Politics",
          "Pro sports/Athletics",
          "Other"
         ],
         "yaxis": "y"
        }
       ],
       "layout": {
        "barmode": "relative",
        "legend": {
         "tracegroupgap": 0
        },
        "template": {
         "data": {
          "bar": [
           {
            "error_x": {
             "color": "#2a3f5f"
            },
            "error_y": {
             "color": "#2a3f5f"
            },
            "marker": {
             "line": {
              "color": "#E5ECF6",
              "width": 0.5
             },
             "pattern": {
              "fillmode": "overlay",
              "size": 10,
              "solidity": 0.2
             }
            },
            "type": "bar"
           }
          ],
          "barpolar": [
           {
            "marker": {
             "line": {
              "color": "#E5ECF6",
              "width": 0.5
             },
             "pattern": {
              "fillmode": "overlay",
              "size": 10,
              "solidity": 0.2
             }
            },
            "type": "barpolar"
           }
          ],
          "carpet": [
           {
            "aaxis": {
             "endlinecolor": "#2a3f5f",
             "gridcolor": "white",
             "linecolor": "white",
             "minorgridcolor": "white",
             "startlinecolor": "#2a3f5f"
            },
            "baxis": {
             "endlinecolor": "#2a3f5f",
             "gridcolor": "white",
             "linecolor": "white",
             "minorgridcolor": "white",
             "startlinecolor": "#2a3f5f"
            },
            "type": "carpet"
           }
          ],
          "choropleth": [
           {
            "colorbar": {
             "outlinewidth": 0,
             "ticks": ""
            },
            "type": "choropleth"
           }
          ],
          "contour": [
           {
            "colorbar": {
             "outlinewidth": 0,
             "ticks": ""
            },
            "colorscale": [
             [
              0,
              "#0d0887"
             ],
             [
              0.1111111111111111,
              "#46039f"
             ],
             [
              0.2222222222222222,
              "#7201a8"
             ],
             [
              0.3333333333333333,
              "#9c179e"
             ],
             [
              0.4444444444444444,
              "#bd3786"
             ],
             [
              0.5555555555555556,
              "#d8576b"
             ],
             [
              0.6666666666666666,
              "#ed7953"
             ],
             [
              0.7777777777777778,
              "#fb9f3a"
             ],
             [
              0.8888888888888888,
              "#fdca26"
             ],
             [
              1,
              "#f0f921"
             ]
            ],
            "type": "contour"
           }
          ],
          "contourcarpet": [
           {
            "colorbar": {
             "outlinewidth": 0,
             "ticks": ""
            },
            "type": "contourcarpet"
           }
          ],
          "heatmap": [
           {
            "colorbar": {
             "outlinewidth": 0,
             "ticks": ""
            },
            "colorscale": [
             [
              0,
              "#0d0887"
             ],
             [
              0.1111111111111111,
              "#46039f"
             ],
             [
              0.2222222222222222,
              "#7201a8"
             ],
             [
              0.3333333333333333,
              "#9c179e"
             ],
             [
              0.4444444444444444,
              "#bd3786"
             ],
             [
              0.5555555555555556,
              "#d8576b"
             ],
             [
              0.6666666666666666,
              "#ed7953"
             ],
             [
              0.7777777777777778,
              "#fb9f3a"
             ],
             [
              0.8888888888888888,
              "#fdca26"
             ],
             [
              1,
              "#f0f921"
             ]
            ],
            "type": "heatmap"
           }
          ],
          "heatmapgl": [
           {
            "colorbar": {
             "outlinewidth": 0,
             "ticks": ""
            },
            "colorscale": [
             [
              0,
              "#0d0887"
             ],
             [
              0.1111111111111111,
              "#46039f"
             ],
             [
              0.2222222222222222,
              "#7201a8"
             ],
             [
              0.3333333333333333,
              "#9c179e"
             ],
             [
              0.4444444444444444,
              "#bd3786"
             ],
             [
              0.5555555555555556,
              "#d8576b"
             ],
             [
              0.6666666666666666,
              "#ed7953"
             ],
             [
              0.7777777777777778,
              "#fb9f3a"
             ],
             [
              0.8888888888888888,
              "#fdca26"
             ],
             [
              1,
              "#f0f921"
             ]
            ],
            "type": "heatmapgl"
           }
          ],
          "histogram": [
           {
            "marker": {
             "pattern": {
              "fillmode": "overlay",
              "size": 10,
              "solidity": 0.2
             }
            },
            "type": "histogram"
           }
          ],
          "histogram2d": [
           {
            "colorbar": {
             "outlinewidth": 0,
             "ticks": ""
            },
            "colorscale": [
             [
              0,
              "#0d0887"
             ],
             [
              0.1111111111111111,
              "#46039f"
             ],
             [
              0.2222222222222222,
              "#7201a8"
             ],
             [
              0.3333333333333333,
              "#9c179e"
             ],
             [
              0.4444444444444444,
              "#bd3786"
             ],
             [
              0.5555555555555556,
              "#d8576b"
             ],
             [
              0.6666666666666666,
              "#ed7953"
             ],
             [
              0.7777777777777778,
              "#fb9f3a"
             ],
             [
              0.8888888888888888,
              "#fdca26"
             ],
             [
              1,
              "#f0f921"
             ]
            ],
            "type": "histogram2d"
           }
          ],
          "histogram2dcontour": [
           {
            "colorbar": {
             "outlinewidth": 0,
             "ticks": ""
            },
            "colorscale": [
             [
              0,
              "#0d0887"
             ],
             [
              0.1111111111111111,
              "#46039f"
             ],
             [
              0.2222222222222222,
              "#7201a8"
             ],
             [
              0.3333333333333333,
              "#9c179e"
             ],
             [
              0.4444444444444444,
              "#bd3786"
             ],
             [
              0.5555555555555556,
              "#d8576b"
             ],
             [
              0.6666666666666666,
              "#ed7953"
             ],
             [
              0.7777777777777778,
              "#fb9f3a"
             ],
             [
              0.8888888888888888,
              "#fdca26"
             ],
             [
              1,
              "#f0f921"
             ]
            ],
            "type": "histogram2dcontour"
           }
          ],
          "mesh3d": [
           {
            "colorbar": {
             "outlinewidth": 0,
             "ticks": ""
            },
            "type": "mesh3d"
           }
          ],
          "parcoords": [
           {
            "line": {
             "colorbar": {
              "outlinewidth": 0,
              "ticks": ""
             }
            },
            "type": "parcoords"
           }
          ],
          "pie": [
           {
            "automargin": true,
            "type": "pie"
           }
          ],
          "scatter": [
           {
            "fillpattern": {
             "fillmode": "overlay",
             "size": 10,
             "solidity": 0.2
            },
            "type": "scatter"
           }
          ],
          "scatter3d": [
           {
            "line": {
             "colorbar": {
              "outlinewidth": 0,
              "ticks": ""
             }
            },
            "marker": {
             "colorbar": {
              "outlinewidth": 0,
              "ticks": ""
             }
            },
            "type": "scatter3d"
           }
          ],
          "scattercarpet": [
           {
            "marker": {
             "colorbar": {
              "outlinewidth": 0,
              "ticks": ""
             }
            },
            "type": "scattercarpet"
           }
          ],
          "scattergeo": [
           {
            "marker": {
             "colorbar": {
              "outlinewidth": 0,
              "ticks": ""
             }
            },
            "type": "scattergeo"
           }
          ],
          "scattergl": [
           {
            "marker": {
             "colorbar": {
              "outlinewidth": 0,
              "ticks": ""
             }
            },
            "type": "scattergl"
           }
          ],
          "scattermapbox": [
           {
            "marker": {
             "colorbar": {
              "outlinewidth": 0,
              "ticks": ""
             }
            },
            "type": "scattermapbox"
           }
          ],
          "scatterpolar": [
           {
            "marker": {
             "colorbar": {
              "outlinewidth": 0,
              "ticks": ""
             }
            },
            "type": "scatterpolar"
           }
          ],
          "scatterpolargl": [
           {
            "marker": {
             "colorbar": {
              "outlinewidth": 0,
              "ticks": ""
             }
            },
            "type": "scatterpolargl"
           }
          ],
          "scatterternary": [
           {
            "marker": {
             "colorbar": {
              "outlinewidth": 0,
              "ticks": ""
             }
            },
            "type": "scatterternary"
           }
          ],
          "surface": [
           {
            "colorbar": {
             "outlinewidth": 0,
             "ticks": ""
            },
            "colorscale": [
             [
              0,
              "#0d0887"
             ],
             [
              0.1111111111111111,
              "#46039f"
             ],
             [
              0.2222222222222222,
              "#7201a8"
             ],
             [
              0.3333333333333333,
              "#9c179e"
             ],
             [
              0.4444444444444444,
              "#bd3786"
             ],
             [
              0.5555555555555556,
              "#d8576b"
             ],
             [
              0.6666666666666666,
              "#ed7953"
             ],
             [
              0.7777777777777778,
              "#fb9f3a"
             ],
             [
              0.8888888888888888,
              "#fdca26"
             ],
             [
              1,
              "#f0f921"
             ]
            ],
            "type": "surface"
           }
          ],
          "table": [
           {
            "cells": {
             "fill": {
              "color": "#EBF0F8"
             },
             "line": {
              "color": "white"
             }
            },
            "header": {
             "fill": {
              "color": "#C8D4E3"
             },
             "line": {
              "color": "white"
             }
            },
            "type": "table"
           }
          ]
         },
         "layout": {
          "annotationdefaults": {
           "arrowcolor": "#2a3f5f",
           "arrowhead": 0,
           "arrowwidth": 1
          },
          "autotypenumbers": "strict",
          "coloraxis": {
           "colorbar": {
            "outlinewidth": 0,
            "ticks": ""
           }
          },
          "colorscale": {
           "diverging": [
            [
             0,
             "#8e0152"
            ],
            [
             0.1,
             "#c51b7d"
            ],
            [
             0.2,
             "#de77ae"
            ],
            [
             0.3,
             "#f1b6da"
            ],
            [
             0.4,
             "#fde0ef"
            ],
            [
             0.5,
             "#f7f7f7"
            ],
            [
             0.6,
             "#e6f5d0"
            ],
            [
             0.7,
             "#b8e186"
            ],
            [
             0.8,
             "#7fbc41"
            ],
            [
             0.9,
             "#4d9221"
            ],
            [
             1,
             "#276419"
            ]
           ],
           "sequential": [
            [
             0,
             "#0d0887"
            ],
            [
             0.1111111111111111,
             "#46039f"
            ],
            [
             0.2222222222222222,
             "#7201a8"
            ],
            [
             0.3333333333333333,
             "#9c179e"
            ],
            [
             0.4444444444444444,
             "#bd3786"
            ],
            [
             0.5555555555555556,
             "#d8576b"
            ],
            [
             0.6666666666666666,
             "#ed7953"
            ],
            [
             0.7777777777777778,
             "#fb9f3a"
            ],
            [
             0.8888888888888888,
             "#fdca26"
            ],
            [
             1,
             "#f0f921"
            ]
           ],
           "sequentialminus": [
            [
             0,
             "#0d0887"
            ],
            [
             0.1111111111111111,
             "#46039f"
            ],
            [
             0.2222222222222222,
             "#7201a8"
            ],
            [
             0.3333333333333333,
             "#9c179e"
            ],
            [
             0.4444444444444444,
             "#bd3786"
            ],
            [
             0.5555555555555556,
             "#d8576b"
            ],
            [
             0.6666666666666666,
             "#ed7953"
            ],
            [
             0.7777777777777778,
             "#fb9f3a"
            ],
            [
             0.8888888888888888,
             "#fdca26"
            ],
            [
             1,
             "#f0f921"
            ]
           ]
          },
          "colorway": [
           "#636efa",
           "#EF553B",
           "#00cc96",
           "#ab63fa",
           "#FFA15A",
           "#19d3f3",
           "#FF6692",
           "#B6E880",
           "#FF97FF",
           "#FECB52"
          ],
          "font": {
           "color": "#2a3f5f"
          },
          "geo": {
           "bgcolor": "white",
           "lakecolor": "white",
           "landcolor": "#E5ECF6",
           "showlakes": true,
           "showland": true,
           "subunitcolor": "white"
          },
          "hoverlabel": {
           "align": "left"
          },
          "hovermode": "closest",
          "mapbox": {
           "style": "light"
          },
          "paper_bgcolor": "white",
          "plot_bgcolor": "#E5ECF6",
          "polar": {
           "angularaxis": {
            "gridcolor": "white",
            "linecolor": "white",
            "ticks": ""
           },
           "bgcolor": "#E5ECF6",
           "radialaxis": {
            "gridcolor": "white",
            "linecolor": "white",
            "ticks": ""
           }
          },
          "scene": {
           "xaxis": {
            "backgroundcolor": "#E5ECF6",
            "gridcolor": "white",
            "gridwidth": 2,
            "linecolor": "white",
            "showbackground": true,
            "ticks": "",
            "zerolinecolor": "white"
           },
           "yaxis": {
            "backgroundcolor": "#E5ECF6",
            "gridcolor": "white",
            "gridwidth": 2,
            "linecolor": "white",
            "showbackground": true,
            "ticks": "",
            "zerolinecolor": "white"
           },
           "zaxis": {
            "backgroundcolor": "#E5ECF6",
            "gridcolor": "white",
            "gridwidth": 2,
            "linecolor": "white",
            "showbackground": true,
            "ticks": "",
            "zerolinecolor": "white"
           }
          },
          "shapedefaults": {
           "line": {
            "color": "#2a3f5f"
           }
          },
          "ternary": {
           "aaxis": {
            "gridcolor": "white",
            "linecolor": "white",
            "ticks": ""
           },
           "baxis": {
            "gridcolor": "white",
            "linecolor": "white",
            "ticks": ""
           },
           "bgcolor": "#E5ECF6",
           "caxis": {
            "gridcolor": "white",
            "linecolor": "white",
            "ticks": ""
           }
          },
          "title": {
           "x": 0.05
          },
          "xaxis": {
           "automargin": true,
           "gridcolor": "white",
           "linecolor": "white",
           "ticks": "",
           "title": {
            "standoff": 15
           },
           "zerolinecolor": "white",
           "zerolinewidth": 2
          },
          "yaxis": {
           "automargin": true,
           "gridcolor": "white",
           "linecolor": "white",
           "ticks": "",
           "title": {
            "standoff": 15
           },
           "zerolinecolor": "white",
           "zerolinewidth": 2
          }
         }
        },
        "title": {
         "text": "Points en plus de la moyenne générale d'avoir un match avec le même type de carrière"
        },
        "xaxis": {
         "anchor": "y",
         "domain": [
          0,
          1
         ],
         "title": {
          "text": "x"
         }
        },
        "yaxis": {
         "anchor": "x",
         "domain": [
          0,
          1
         ],
         "title": {
          "text": "y"
         }
        }
       }
      }
     },
     "metadata": {},
     "output_type": "display_data"
    }
   ],
   "source": [
    "results = []\n",
    "for field_id in range(1,16):\n",
    "    diff = get_points_bysame(field_id, \"same_career_c\", \"career_c\", df_career)\n",
    "    label_career = dic_career[field_id] # On récupére le label de l'origine dans le dic déjà créé\n",
    "    results.append(diff)\n",
    "    \n",
    "px.bar(x=results, y=[dic_career[field_id] for field_id in range(1,16)], title=\"Points en plus de la moyenne générale d'avoir un match avec le même type de carrière\")"
   ]
  },
  {
   "attachments": {},
   "cell_type": "markdown",
   "metadata": {},
   "source": [
    "On voit que les Ingénieur et Psychologues vont avoir bien plus tendance à matcher entre eux."
   ]
  },
  {
   "attachments": {},
   "cell_type": "markdown",
   "metadata": {},
   "source": [
    "**Corrélation de la différence d'âge des partipants sur leurs matchs :**"
   ]
  },
  {
   "cell_type": "code",
   "execution_count": 44,
   "metadata": {},
   "outputs": [],
   "source": [
    "df_diff_age = df.dropna(subset=['age','age_o'])"
   ]
  },
  {
   "cell_type": "code",
   "execution_count": 45,
   "metadata": {},
   "outputs": [],
   "source": [
    "# on retire les outliers pour ne pas fausser la moyenne. Il y surtout 2/3 âges assez élevé comme on avait vu.\n",
    "from scipy import stats\n",
    "import numpy as np\n",
    "line_count = df_diff_age.shape[0]\n",
    "df_zscore = stats.zscore(df_diff_age.loc[:,'age'])\n",
    "df_diff_age = df_diff_age[np.abs(df_zscore) < 3]\n",
    "df_zscore = stats.zscore(df_diff_age.loc[:,'age_o'])\n",
    "df_diff_age = df_diff_age[np.abs(df_zscore) < 3]"
   ]
  },
  {
   "cell_type": "code",
   "execution_count": 46,
   "metadata": {},
   "outputs": [],
   "source": [
    "df_diff_age['diff_age'] = (df_diff_age['age'] - df_diff_age['age_o']).abs()"
   ]
  },
  {
   "cell_type": "code",
   "execution_count": 47,
   "metadata": {},
   "outputs": [],
   "source": [
    "mean_diffage_match = df_diff_age.loc[df_diff_age['match'] == 1,'diff_age'].mean()\n",
    "mean_diffage_nomatch = df_diff_age.loc[df_diff_age['match'] == 0,'diff_age'].mean()"
   ]
  },
  {
   "cell_type": "code",
   "execution_count": 48,
   "metadata": {},
   "outputs": [
    {
     "name": "stdout",
     "output_type": "stream",
     "text": [
      "L'âge moyen quand il y a eu match est 3.06 ans\n",
      "L'âge moyen quand il y a pas eu match est 3.57 ans\n"
     ]
    }
   ],
   "source": [
    "print(\"L'âge moyen quand il y a eu match est\", round(mean_diffage_match, 2), 'ans')\n",
    "print(\"L'âge moyen quand il y a pas eu match est\", round(mean_diffage_nomatch, 2), 'ans')"
   ]
  },
  {
   "attachments": {},
   "cell_type": "markdown",
   "metadata": {},
   "source": [
    "Plus la différence d'âge est élevée, moins il y a de chance qu'il y ait un match."
   ]
  },
  {
   "attachments": {},
   "cell_type": "markdown",
   "metadata": {},
   "source": [
    "**En comparant les partenaires entre eux, on peut observer qu'il y a des impacts quand il y a certains points commun.**\n",
    "\n",
    "-Il y a peu d'influence si les partenaires ont les même centres d'intérêt (en général).\n",
    "\n",
    "-Peu d'impact aussi s'ils sont Européen/Caucasien.\n",
    "\n",
    "**Mais 2 partenaires qui sont Black/african et Engineer avec un âge proche auront des très grandes chances de faire un match. Car selon l'origine ethnique et le métier, il a des différences importantes comme nous l'avons vu.**"
   ]
  },
  {
   "cell_type": "markdown",
   "metadata": {},
   "source": []
  }
 ],
 "metadata": {
  "kernelspec": {
   "display_name": "ml",
   "language": "python",
   "name": "python3"
  },
  "language_info": {
   "codemirror_mode": {
    "name": "ipython",
    "version": 3
   },
   "file_extension": ".py",
   "mimetype": "text/x-python",
   "name": "python",
   "nbconvert_exporter": "python",
   "pygments_lexer": "ipython3",
   "version": "3.10.8"
  },
  "orig_nbformat": 4,
  "vscode": {
   "interpreter": {
    "hash": "1fe655022548373991488107ee87292a5acc65b103412eeef527175bfc11a68a"
   }
  }
 },
 "nbformat": 4,
 "nbformat_minor": 2
}
